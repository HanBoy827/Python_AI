{
 "cells": [
  {
   "cell_type": "markdown",
   "metadata": {},
   "source": [
    "類別的兩種用法\n",
    "* 1. 類別與類別屬性\n",
    "* 2. 類別與實體物件、實體屬性、實體方法"
   ]
  },
  {
   "cell_type": "code",
   "execution_count": 1,
   "metadata": {},
   "outputs": [
    {
     "name": "stdout",
     "output_type": "stream",
     "text": [
      "6\n"
     ]
    }
   ],
   "source": [
    "# 實體屬性：封裝在實體物件中的變數\n",
    "class Point:\n",
    "    def __init__(self, x, y):\n",
    "        self.x=x\n",
    "        self.y=y\n",
    "# 建立實體物件，並取得實體屬性資料\n",
    "p=Point(1, 5)\n",
    "print(p.x+p.y)"
   ]
  },
  {
   "cell_type": "raw",
   "metadata": {},
   "source": [
    "# 實體方法：封裝在實體物件中的函式\n",
    "# 基本語法\n",
    "# (1)\n",
    "# class 類別名稱:\n",
    "#     定義初始化函式\n",
    "#     def __init__(self):\n",
    "#         定義實體屬性\n",
    "#     定義實體方法 / 函式\n",
    "# 建立實體物件，放入變數 obj 中\n",
    "# obj=類別名稱()\n",
    "\n",
    "# (2)\n",
    "#  類別名稱:\n",
    "# \t定義的初始化函式\n",
    "# \tdef __init__(self):\n",
    "# \t\t封裝在實體物件中的變數\n",
    "# \tdef 方法名稱(self, 更多自訂參數):\n",
    "# \t\t方法主體，透過 self 操作實體物件\n",
    "# 建立實體物件，放入變數 obj 中\n",
    "# obj=類別名稱()"
   ]
  },
  {
   "cell_type": "raw",
   "metadata": {},
   "source": [
    "# 使用方法\n",
    "# 基本語法：實體物件.實體方法名稱(參數資料)"
   ]
  },
  {
   "cell_type": "code",
   "execution_count": 2,
   "metadata": {},
   "outputs": [
    {
     "name": "stdout",
     "output_type": "stream",
     "text": [
      "3 4\n",
      "1 5\n",
      "5.0\n"
     ]
    }
   ],
   "source": [
    "class Point:\n",
    "    def __init__(self, x, y):\n",
    "        self.x=x\n",
    "        self.y=y\n",
    "    # 定義實體方法\n",
    "    def show(self):\n",
    "        print(self.x, self.y)\n",
    "    def distance(self, targetX, targetY):\n",
    "        return (((self.x-targetX)**2)+((self.y-targetY)**2))**0.5\n",
    "    \n",
    "p=Point(3, 4) # 建立實體物件\n",
    "p.show() # 呼叫實體方法 / 函式\n",
    "z=Point(1, 5)\n",
    "z.show()\n",
    "\n",
    "result=p.distance(0,0) # 計算座標 3,4和 座標 0,0 之間的距離\n",
    "print(result)"
   ]
  },
  {
   "cell_type": "code",
   "execution_count": 3,
   "metadata": {},
   "outputs": [
    {
     "name": "stdout",
     "output_type": "stream",
     "text": [
      "哈哈哈哈哈\n",
      "測試測試測試\n"
     ]
    }
   ],
   "source": [
    "# File 實體物件的設計：包裝檔案讀取的程式\n",
    "class File:   # 初始化函式\n",
    "    def __init__(self, name):\n",
    "        self.name=name\n",
    "        self.file=None   #尚未開啟檔案：初期是 None\n",
    "    def open(self):   # 實體方法\n",
    "        self.file=open(self.name, mode=\"r\",encoding=\"utf-8\")\n",
    "    def read(self):   # 實體方法\n",
    "        return self.file.read()\n",
    "# 讀取第一個檔案  \n",
    "f1=File(\"InstanceFile_1.txt\")\n",
    "f1.open()\n",
    "data=f1.read()\n",
    "print(data)\n",
    "\n",
    "# 讀取第二個檔案 \n",
    "f2=File(\"InstanceFile_2.txt\")\n",
    "f2.open()\n",
    "data=f2.read()\n",
    "print(data)"
   ]
  }
 ],
 "metadata": {
  "kernelspec": {
   "display_name": "Python 3",
   "language": "python",
   "name": "python3"
  },
  "language_info": {
   "codemirror_mode": {
    "name": "ipython",
    "version": 3
   },
   "file_extension": ".py",
   "mimetype": "text/x-python",
   "name": "python",
   "nbconvert_exporter": "python",
   "pygments_lexer": "ipython3",
   "version": "3.7.4"
  }
 },
 "nbformat": 4,
 "nbformat_minor": 2
}
