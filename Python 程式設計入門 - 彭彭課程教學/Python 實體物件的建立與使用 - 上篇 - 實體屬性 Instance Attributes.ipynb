{
 "cells": [
  {
   "cell_type": "markdown",
   "metadata": {},
   "source": [
    "## 建立實體\n",
    "類別的兩種用法\n",
    "* 1. 類別與類別屬性\n",
    "* 2. 類別與實體物件、實體屬性\n",
    "\n",
    "透過類別建立：先定義類別，再透過類別建立實體物件\n",
    "\n",
    "建立 > 使用：要先建立實體物件，然後才能使用實體屬性"
   ]
  },
  {
   "cell_type": "raw",
   "metadata": {},
   "source": [
    "# 基本語法：\n",
    "# class 類別名稱:\n",
    "#     # 定義初始化函式\n",
    "#     def __init__(self):\n",
    "#         透過操作 self 來定義實體屬性\n",
    "# 建立實體物件，放入變數 obj 中\n",
    "# obj=類別名稱() # 呼叫初始化函式"
   ]
  },
  {
   "cell_type": "markdown",
   "metadata": {},
   "source": [
    "## 使用實體"
   ]
  },
  {
   "cell_type": "raw",
   "metadata": {},
   "source": [
    "# 基本語法：\n",
    "# 實體物件.實體屬性名稱"
   ]
  },
  {
   "cell_type": "code",
   "execution_count": 1,
   "metadata": {},
   "outputs": [
    {
     "name": "stdout",
     "output_type": "stream",
     "text": [
      "3 4\n",
      "3 4\n"
     ]
    }
   ],
   "source": [
    "# Point 實體物件的設計：平面座標上的點\n",
    "class Point:\n",
    "    def __init__(self):\n",
    "        self.x=3   # 此實體物件包函 x 和 y 兩個實體屬性\n",
    "        self.y=4\n",
    "        \n",
    "# 建立第一個實體物件     \n",
    "p1=Point()\n",
    "print(p1.x,p1.y)\n",
    "# 建立第二個實體物件  \n",
    "p2=Point()\n",
    "print(p2.x,p2.y)"
   ]
  },
  {
   "cell_type": "code",
   "execution_count": 2,
   "metadata": {},
   "outputs": [
    {
     "name": "stdout",
     "output_type": "stream",
     "text": [
      "3 4\n",
      "5 6\n",
      "10 20\n"
     ]
    }
   ],
   "source": [
    "# 建立實體物件\n",
    "class Point:\n",
    "    def __init__(self, x, y):\n",
    "        self.x=x   # 建立時，可直接傳入參數資料\n",
    "        self.y=y\n",
    "        \n",
    "# 建立第一個實體物件     \n",
    "p1=Point(3, 4)\n",
    "print(p1.x,p1.y)   \n",
    "# 建立第二個實體物件  \n",
    "p2=Point(5, 6)\n",
    "print(p2.x,p2.y)\n",
    "# 建立第三個實體物件  \n",
    "print(Point(10, 20).x,Point(10, 20).y)"
   ]
  },
  {
   "cell_type": "code",
   "execution_count": 3,
   "metadata": {},
   "outputs": [
    {
     "name": "stdout",
     "output_type": "stream",
     "text": [
      "C.W. Peng\n"
     ]
    }
   ],
   "source": [
    "# FullName 實體物件的設計：分開紀錄姓 名資料的全名\n",
    "class FullName:\n",
    "    def __init__(self):\n",
    "        self.first=\"C.W.\"\n",
    "        self.last=\"Peng\"\n",
    "name1=FullName()\n",
    "print(name1.first, name1.last)"
   ]
  },
  {
   "cell_type": "code",
   "execution_count": 4,
   "metadata": {},
   "outputs": [
    {
     "name": "stdout",
     "output_type": "stream",
     "text": [
      "C.W. Peng\n",
      "T.Y. Lin\n"
     ]
    }
   ],
   "source": [
    "# 建立實體物件\n",
    "class FullName:\n",
    "    def __init__(self, first, last):\n",
    "        self.first=first\n",
    "        self.last=last\n",
    "        \n",
    "# 建立第一個實體物件\n",
    "name1=FullName(\"C.W.\", \"Peng\")\n",
    "print(name1.first, name1.last)\n",
    "# 建立第二個實體物件\n",
    "name2=FullName(\"T.Y.\", \"Lin\")\n",
    "print(name2.first, name2.last)"
   ]
  }
 ],
 "metadata": {
  "kernelspec": {
   "display_name": "Python 3",
   "language": "python",
   "name": "python3"
  },
  "language_info": {
   "codemirror_mode": {
    "name": "ipython",
    "version": 3
   },
   "file_extension": ".py",
   "mimetype": "text/x-python",
   "name": "python",
   "nbconvert_exporter": "python",
   "pygments_lexer": "ipython3",
   "version": "3.7.4"
  }
 },
 "nbformat": 4,
 "nbformat_minor": 2
}
