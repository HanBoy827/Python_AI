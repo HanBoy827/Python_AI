{
 "cells": [
  {
   "cell_type": "markdown",
   "metadata": {},
   "source": [
    "## 什麼是 Pandas？\n",
    "概念類似試算表的資料分析套件"
   ]
  },
  {
   "cell_type": "markdown",
   "metadata": {},
   "source": [
    "## Series(單維度的資料)\n",
    "就像是一個列表、或是試算表中直向的欄位資料"
   ]
  },
  {
   "cell_type": "raw",
   "metadata": {},
   "source": [
    "# 建立 Series：\n",
    "import pandas as pd   # 載入 Pandas 模組\n",
    "pd.Series(列表)   # 以列表資料為底，建立 Series\n",
    "\n",
    "# 使用 Series：\n",
    "import pandas as pd\n",
    "data=pd.Series(列表)\n",
    "data.max()     # 找到最大值\n",
    "data.median()  # 計算中位數\n",
    "data=data*2    # 放大兩倍"
   ]
  },
  {
   "cell_type": "code",
   "execution_count": 1,
   "metadata": {},
   "outputs": [
    {
     "name": "stdout",
     "output_type": "stream",
     "text": [
      "Max: 20\n",
      "Median: 15.0\n",
      "0     True\n",
      "1    False\n",
      "2    False\n",
      "dtype: bool\n"
     ]
    }
   ],
   "source": [
    "# 載入 Pandas 模組\n",
    "import pandas as pd\n",
    "\n",
    "# 建立 Series\n",
    "data=pd.Series([20,10,15])\n",
    "\n",
    "# 基本 Series 操作\n",
    "print(\"Max:\",data.max())\n",
    "print(\"Median:\",data.median())\n",
    "# data = data*2\n",
    "# print(data)\n",
    "\n",
    "data=data==20\n",
    "print(data)"
   ]
  },
  {
   "cell_type": "markdown",
   "metadata": {},
   "source": [
    "### 資料索引"
   ]
  },
  {
   "cell_type": "raw",
   "metadata": {},
   "source": [
    "資料索引：資料的獨立編號(就像試算表中最左邊的編號)\n",
    "\n",
    "內建索引\n",
    "import pandas as pd   # 載入 Pandas 模組\n",
    "pd.Series(資料列表)   # 以列表資料為底，建立 Series\n",
    "\n",
    "自訂索引\n",
    "import pandas as pd   # 載入 Pandas 模組\n",
    "pd.Series(資料列表, index=索引列表)   # 以列表資料為底，建立 Series"
   ]
  },
  {
   "cell_type": "code",
   "execution_count": 2,
   "metadata": {},
   "outputs": [
    {
     "name": "stdout",
     "output_type": "stream",
     "text": [
      "a    5\n",
      "b    4\n",
      "c   -2\n",
      "d    3\n",
      "e    7\n",
      "dtype: int64\n"
     ]
    }
   ],
   "source": [
    "# 載入 Pandas 模組\n",
    "import pandas as pd\n",
    "\n",
    "# 資料索引(內建索引)\n",
    "data=pd.Series([ 5, 4, -2, 3, 7])\n",
    "# print(data)\n",
    "\n",
    "# 資料索引(自訂索引)\n",
    "data=pd.Series([ 5, 4, -2, 3, 7], index=[\"a\",\"b\",\"c\",\"d\",\"e\"])\n",
    "print(data)"
   ]
  },
  {
   "cell_type": "code",
   "execution_count": null,
   "metadata": {},
   "outputs": [],
   "source": []
  },
  {
   "cell_type": "markdown",
   "metadata": {},
   "source": [
    "### 觀察資料 "
   ]
  },
  {
   "cell_type": "raw",
   "metadata": {},
   "source": [
    "資料型態\n",
    "mport pandas as pd\n",
    "data=pd.Series(資料列表)\n",
    "print(data.dtype)   # 印出 dtype 屬性\n",
    "\n",
    "資料數量\n",
    "import pandas as pd\n",
    "data=pd.Series(資料列表)\n",
    "print(data.size)   # 印出 size 屬性\n",
    "\n",
    "資料索引\n",
    "import pandas as pd\n",
    "data=pd.Series(資料列表, index=索引列表)\n",
    "print(data.index)   # 印出 index 屬性"
   ]
  },
  {
   "cell_type": "code",
   "execution_count": 3,
   "metadata": {},
   "outputs": [
    {
     "name": "stdout",
     "output_type": "stream",
     "text": [
      "資料型態 int64\n",
      "資料數量 5\n",
      "資料索引 Index(['a', 'b', 'c', 'd', 'e'], dtype='object')\n"
     ]
    }
   ],
   "source": [
    "data=pd.Series([ 5, 4, -2, 3, 7], index=[\"a\",\"b\",\"c\",\"d\",\"e\"])\n",
    "\n",
    "# 觀察資料\n",
    "print(\"資料型態\",data.dtype)\n",
    "print(\"資料數量\",data.size)\n",
    "print(\"資料索引\",data.index)"
   ]
  },
  {
   "cell_type": "code",
   "execution_count": null,
   "metadata": {},
   "outputs": [],
   "source": []
  },
  {
   "cell_type": "markdown",
   "metadata": {},
   "source": [
    "### 取得資料"
   ]
  },
  {
   "cell_type": "raw",
   "metadata": {},
   "source": [
    "根據順序取值\n",
    "import pandas as pd\n",
    "data=pd.Series(資料列表)\n",
    "print(data[1])   # 取得資料 data[順序]\n",
    "\n",
    "根據索引取值\n",
    "import pandas as pd\n",
    "data=pd.Series(資料列表, index=索引列表)\n",
    "print(data[索引])   # 取得資料 data[索引]"
   ]
  },
  {
   "cell_type": "code",
   "execution_count": 4,
   "metadata": {},
   "outputs": [
    {
     "name": "stdout",
     "output_type": "stream",
     "text": [
      "-2 5\n",
      "7 4\n"
     ]
    }
   ],
   "source": [
    "data=pd.Series([ 5, 4, -2, 3, 7], index=[\"a\",\"b\",\"c\",\"d\",\"e\"])\n",
    "\n",
    "# 根據順序取值取得資料\n",
    "print(data[2], data[0])\n",
    "\n",
    "# 根據索引取值取得資料\n",
    "print(data[\"e\"], data[\"b\"])"
   ]
  },
  {
   "cell_type": "code",
   "execution_count": null,
   "metadata": {},
   "outputs": [],
   "source": []
  },
  {
   "cell_type": "markdown",
   "metadata": {},
   "source": [
    "### 數學數字運算"
   ]
  },
  {
   "cell_type": "raw",
   "metadata": {},
   "source": [
    "數學、統計相關\n",
    "import pandas as pd\n",
    "data=pd.Series([3, 10, 20, 5, -12])\n",
    "\n",
    "# sum：算總和, max：找最大值, prod：算乘法總和\n",
    "print(data.sum(), data.max(), data.prod()) \n",
    "\n",
    "# mean：算平均數, median：算中位數, std：算標準差\n",
    "print(data.mean(), data.median(), data.std())\n",
    "\n",
    "# nlargest：取前n大的數字, nsmallest：取前n小的數字\n",
    "print(data.nlargest(3), data.nsmallest(2))"
   ]
  },
  {
   "cell_type": "code",
   "execution_count": 5,
   "metadata": {},
   "outputs": [
    {
     "name": "stdout",
     "output_type": "stream",
     "text": [
      "最大值 7\n",
      "總和 17\n",
      "標準差 3.361547262794322\n",
      "中位數 4.0\n",
      "最大的三個數 e    7\n",
      "a    5\n",
      "b    4\n",
      "dtype: int64\n"
     ]
    }
   ],
   "source": [
    "data=pd.Series([ 5, 4, -2, 3, 7], index=[\"a\",\"b\",\"c\",\"d\",\"e\"])\n",
    "\n",
    "# 數學運算：基本、統計、順序\n",
    "print(\"最大值\",data.max()) \n",
    "print(\"總和\",data.sum())\n",
    "print(\"標準差\",data.std())\n",
    "print(\"中位數\",data.median()) \n",
    "print(\"最大的三個數\",data.nlargest(3))"
   ]
  },
  {
   "cell_type": "code",
   "execution_count": null,
   "metadata": {},
   "outputs": [],
   "source": []
  },
  {
   "cell_type": "markdown",
   "metadata": {},
   "source": [
    "### 字串運算 "
   ]
  },
  {
   "cell_type": "raw",
   "metadata": {},
   "source": [
    "字串操作相關(都定義在 str 底下)\n",
    "import pandas as pd\n",
    "data=pd.Series([\"您好\", \"Python\", \"Pandas\"])\n",
    "\n",
    "# lower：把所有字串變小寫, upper：把所有字串變大寫, len：得到每個字串的長度\n",
    "print(data.str.lower(), data.str.upper(), data.str.len())\n",
    "\n",
    "# cat(sep=\",\")：把字串串起來，可以自訂串接符號, contains(\"P\")：判斷每個字串中是否包含特定字元\n",
    "print(data.str.cat(sep=\",\"), data.str.contains(\"P\"))\n",
    "\n",
    "# replace(\"A\", \"B\")：把A取代成B\n",
    "print(data.str.replace(\"您好\", \"Hello\"))"
   ]
  },
  {
   "cell_type": "code",
   "execution_count": 6,
   "metadata": {},
   "outputs": [
    {
     "name": "stdout",
     "output_type": "stream",
     "text": [
      "0        您好\n",
      "1    python\n",
      "2    pandas\n",
      "dtype: object\n",
      "0    2\n",
      "1    6\n",
      "2    6\n",
      "dtype: int64\n",
      "您好-Python-Pandas\n",
      "0    False\n",
      "1     True\n",
      "2     True\n",
      "dtype: bool\n",
      "0     True\n",
      "1    False\n",
      "2    False\n",
      "dtype: bool\n",
      "0     Hello\n",
      "1    Python\n",
      "2    Pandas\n",
      "dtype: object\n"
     ]
    }
   ],
   "source": [
    "data=pd.Series([\"您好\",\"Python\",\"Pandas\"])\n",
    "\n",
    "# 字串運算：基本、串接、搜尋、取代\n",
    "print(data.str.lower()) # 全部變小寫(中文不受影響)\n",
    "print(data.str.len())   # 算出每個字串的長度\n",
    "print(data.str.cat(sep=\"-\")) # 用\"-\"串在一起\n",
    "print(data.str.contains(\"P\")) # 判斷每個字串中是否包含\"P\"\n",
    "print(data.str.contains(\"好\")) \n",
    "print(data.str.replace(\"您好\",\"Hello\"))"
   ]
  },
  {
   "cell_type": "code",
   "execution_count": null,
   "metadata": {},
   "outputs": [],
   "source": []
  },
  {
   "cell_type": "markdown",
   "metadata": {},
   "source": [
    "## DataFrame(雙維度的資料)\n",
    "就像是一個表格，有欄和列的概念"
   ]
  },
  {
   "cell_type": "raw",
   "metadata": {},
   "source": [
    "# 建立 DataFrame：\n",
    "import pandas as pd   # 載入 Pandas 模組\n",
    "pd.DataFrame(字典)   # 以字典資料為底，建立 DataFrame\n",
    "\n",
    "# 取得特定欄 (直向)\n",
    "import pandas as pd\n",
    "data=pd.DataFrame(字典)\n",
    "data[\"欄位名稱\"]\n",
    "\n",
    "# 取得特定列 (橫向)\n",
    "import pandas as pd\n",
    "data=pd.DataFrame(字典)\n",
    "data.iloc[列編號]   # 列編號按順序由 0 開始累加"
   ]
  },
  {
   "cell_type": "code",
   "execution_count": 7,
   "metadata": {},
   "outputs": [
    {
     "name": "stdout",
     "output_type": "stream",
     "text": [
      "name        Amy\n",
      "salary    30000\n",
      "Name: 0, dtype: object\n",
      "name       John\n",
      "salary    50000\n",
      "Name: 1, dtype: object\n"
     ]
    }
   ],
   "source": [
    "# 建立 DataFrame\n",
    "data=pd.DataFrame({\n",
    "    \"name\":[\"Amy\",\"John\",\"Bob\"],\n",
    "    \"salary\":[30000,50000,40000]\n",
    "})\n",
    "\n",
    "# 基本 DataFrame 操作\n",
    "# print(data)\n",
    "\n",
    "# 取得特定的欄位\n",
    "# print(data[\"name\"])\n",
    "# print(data[\"salary\"])\n",
    "\n",
    "# 取得特定的列\n",
    "print(data.iloc[0])   # 印出第一列\n",
    "print(data.iloc[1])   # 印出第二列"
   ]
  },
  {
   "cell_type": "code",
   "execution_count": null,
   "metadata": {},
   "outputs": [],
   "source": []
  }
 ],
 "metadata": {
  "kernelspec": {
   "display_name": "Python 3",
   "language": "python",
   "name": "python3"
  },
  "language_info": {
   "codemirror_mode": {
    "name": "ipython",
    "version": 3
   },
   "file_extension": ".py",
   "mimetype": "text/x-python",
   "name": "python",
   "nbconvert_exporter": "python",
   "pygments_lexer": "ipython3",
   "version": "3.7.4"
  }
 },
 "nbformat": 4,
 "nbformat_minor": 2
}
