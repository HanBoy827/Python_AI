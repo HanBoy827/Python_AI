{
 "cells": [
  {
   "cell_type": "markdown",
   "metadata": {},
   "source": [
    "# 檔案操作流程\n",
    "\n",
    "(1) 開啟檔案：檔案物件=open(檔案路徑,mode=開啟模式)\n",
    "- 讀起模式 -r\n",
    "- 寫入模式 -w\n",
    "- 讀寫模式 -r+\n",
    "\n",
    "(2) 讀取：\n",
    "* 讀取全部文字：檔案物件.read( )\n",
    "* 一次讀取一行：\n",
    "for 變數 in 檔案物件: /n從檔案依序讀取每行文字到變數中\n",
    "* 讀取JSON格式：import json /n 讀取到的資料=json.load(檔案物件)\n",
    "\n",
    "(2) 寫入：\n",
    "* 基本語法：檔案物件.write(字串)\n",
    "* 寫入換行符號：檔案物件.write(\"範例\\n\")\n",
    "* 寫入JSON格式：import json /n json.dump(要寫入的資料,檔案物件)\n",
    "\n",
    "(3) 關閉檔案：\n",
    "* 基本語法：檔案物件.close()\n",
    "* 最佳實務：with open(檔案路徑,mode=開啟模式) as 檔案物件: /n 讀取或寫入檔案的程式(以上區塊會自動 安全的關閉檔案)"
   ]
  },
  {
   "cell_type": "markdown",
   "metadata": {},
   "source": [
    "## 開啟檔案"
   ]
  },
  {
   "cell_type": "code",
   "execution_count": 1,
   "metadata": {},
   "outputs": [],
   "source": [
    "file=open(\"file_data.txt\",mode=\"w\",encoding=\"utf-8\") # 開啟; 若要用中文須指定 utf-8編碼，否則會出現亂碼\n",
    "file.write(\"HI\\nHello\\n好棒棒\") # 操作; 若要寫入很多行用\\n換行\n",
    "file.close() # 關閉"
   ]
  },
  {
   "cell_type": "code",
   "execution_count": 2,
   "metadata": {},
   "outputs": [],
   "source": [
    "# 開啟檔案(最佳實務寫法)\n",
    "with open(\"file_data.txt\",mode=\"w\",encoding=\"utf-8\") as file:\n",
    "    file.write(\"HI\\nHello\\n好棒棒\")"
   ]
  },
  {
   "cell_type": "code",
   "execution_count": 3,
   "metadata": {},
   "outputs": [],
   "source": [
    "# 建立一個數字檔案\n",
    "with open(\"file_number.txt\",mode=\"w\",encoding=\"utf-8\") as file:\n",
    "    file.write(\"3\\n7\\n10\")"
   ]
  },
  {
   "cell_type": "markdown",
   "metadata": {},
   "source": [
    "## 檔案讀取\n",
    "* 2.1 一次讀取全部：read()\n",
    "* 2.2 逐行讀取資料：使用 for 迴圈"
   ]
  },
  {
   "cell_type": "code",
   "execution_count": 4,
   "metadata": {},
   "outputs": [
    {
     "name": "stdout",
     "output_type": "stream",
     "text": [
      "HI\n",
      "Hello\n",
      "好棒棒\n"
     ]
    }
   ],
   "source": [
    "with open(\"file_data.txt\",mode=\"r\",encoding=\"utf-8\") as file:\n",
    "    data=file.read()\n",
    "print(data)"
   ]
  },
  {
   "cell_type": "code",
   "execution_count": 5,
   "metadata": {},
   "outputs": [
    {
     "name": "stdout",
     "output_type": "stream",
     "text": [
      "20\n"
     ]
    }
   ],
   "source": [
    "# 把檔案中的數字資料，一行一行的讀取出來，並計算總和\n",
    "sum=0\n",
    "with open(\"file_number.txt\",mode=\"r\",encoding=\"utf-8\") as file:\n",
    "    for line in file:\n",
    "        sum+=int(line)\n",
    "print(sum)"
   ]
  },
  {
   "cell_type": "markdown",
   "metadata": {},
   "source": [
    "### 使用 Json 格式讀取 複寫檔案\n",
    "* 4.1 載入內建的 json 模組\n",
    "* 4.2 讀取資料：json.load(檔案物件)\n",
    "* 4.3 寫入資料：json.dump(資料, 檔案物件)"
   ]
  },
  {
   "cell_type": "code",
   "execution_count": 9,
   "metadata": {},
   "outputs": [],
   "source": [
    "import json"
   ]
  },
  {
   "cell_type": "code",
   "execution_count": 7,
   "metadata": {},
   "outputs": [
    {
     "name": "stdout",
     "output_type": "stream",
     "text": [
      "{'name': 'My Name', 'version': '1.2.5'}\n",
      "name:  My Name\n",
      "version:  1.2.5\n"
     ]
    }
   ],
   "source": [
    "# 從檔案中讀取 JSON資料，放入變數 data裡面\n",
    "with open(\"config.json\",mode=\"r\") as file:\n",
    "    data=json.load(file)\n",
    "print(data) # 資料型態為dict\n",
    "print(\"name: \",data[\"name\"])\n",
    "print(\"version: \",data[\"version\"])\n",
    "\n",
    "data[\"name\"]=\"New Name\" #修改變數中的資料\n",
    "with open(\"config.json\",mode=\"w\") as file: #把最新的資料複寫回檔案中\n",
    "    json.dump(data,file)"
   ]
  },
  {
   "cell_type": "code",
   "execution_count": 8,
   "metadata": {},
   "outputs": [
    {
     "name": "stdout",
     "output_type": "stream",
     "text": [
      "{'name': 'New Name', 'version': '1.2.5'}\n",
      "name:  New Name\n",
      "version:  1.2.5\n"
     ]
    }
   ],
   "source": [
    "# 從檔案中讀取 JSON資料，放入變數 data裡面\n",
    "with open(\"config.json\",mode=\"r\") as file:\n",
    "    data=json.load(file)\n",
    "print(data) # 資料型態為dict\n",
    "print(\"name: \",data[\"name\"])\n",
    "print(\"version: \",data[\"version\"])\n",
    "\n",
    "data[\"name\"]=\"My Name\" #修改變數中的資料\n",
    "with open(\"config.json\",mode=\"w\") as file: #把最新的資料複寫回檔案中\n",
    "    json.dump(data,file)"
   ]
  }
 ],
 "metadata": {
  "kernelspec": {
   "display_name": "Python 3",
   "language": "python",
   "name": "python3"
  },
  "language_info": {
   "codemirror_mode": {
    "name": "ipython",
    "version": 3
   },
   "file_extension": ".py",
   "mimetype": "text/x-python",
   "name": "python",
   "nbconvert_exporter": "python",
   "pygments_lexer": "ipython3",
   "version": "3.7.4"
  }
 },
 "nbformat": 4,
 "nbformat_minor": 2
}
