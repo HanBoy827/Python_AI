{
 "cells": [
  {
   "cell_type": "markdown",
   "metadata": {},
   "source": [
    "## 類別\n",
    "\n",
    "類別的兩種用法：\n",
    "* 1. 類別與類別屬性\n",
    "* 2. 類別與實體物件、實體屬性\n",
    "\n",
    "封裝的變數或函式，統稱類別的屬性\n",
    "\n",
    "要先定義 (建立) 類別，然後才能使用類別中封裝的屬性"
   ]
  },
  {
   "cell_type": "raw",
   "metadata": {},
   "source": [
    "# 定義類別\n",
    "# class 類別名稱:\n",
    "#     定義封裝的變數\n",
    "#     定義封裝的函式\n",
    "        \n",
    "# 使用類別\n",
    "# 基本語法：類別名稱.屬性名稱"
   ]
  },
  {
   "cell_type": "code",
   "execution_count": 1,
   "metadata": {},
   "outputs": [
    {
     "name": "stdout",
     "output_type": "stream",
     "text": [
      "6\n",
      "Hello\n"
     ]
    }
   ],
   "source": [
    "# 定義 Test 類別\n",
    "class Test:\n",
    "    x=3 # 定義變數\n",
    "    def say(): # 定義函式\n",
    "        return(\"Hello\")\n",
    "    \n",
    "# 使用 Test 類別\n",
    "print(Test.x+3) # 取得屬性 x 的資料 3\n",
    "print(Test.say()) # 呼叫屬性 say 函式"
   ]
  },
  {
   "cell_type": "code",
   "execution_count": 2,
   "metadata": {},
   "outputs": [
    {
     "name": "stdout",
     "output_type": "stream",
     "text": [
      "['console', 'file']\n",
      "Read from file\n",
      "Not Sopported\n"
     ]
    }
   ],
   "source": [
    "# 定義一個類別：IO 有兩個屬性 supportedSrcs 和 read\n",
    "class IO:\n",
    "    supportedSrcs=[\"console\",\"file\"]\n",
    "    def read(src):\n",
    "        if src not in IO.supportedSrcs:\n",
    "            print(\"Not Sopported\")\n",
    "        else:\n",
    "            print(\"Read from\",src)\n",
    "\n",
    "# 使用類別\n",
    "print(IO.supportedSrcs) # 印出列表\n",
    "IO.read(\"file\") # 呼叫函式\n",
    "IO.read(\"internet\")"
   ]
  }
 ],
 "metadata": {
  "kernelspec": {
   "display_name": "Python 3",
   "language": "python",
   "name": "python3"
  },
  "language_info": {
   "codemirror_mode": {
    "name": "ipython",
    "version": 3
   },
   "file_extension": ".py",
   "mimetype": "text/x-python",
   "name": "python",
   "nbconvert_exporter": "python",
   "pygments_lexer": "ipython3",
   "version": "3.7.4"
  }
 },
 "nbformat": 4,
 "nbformat_minor": 2
}
