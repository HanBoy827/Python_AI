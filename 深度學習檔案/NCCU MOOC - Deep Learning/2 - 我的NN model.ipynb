{
 "cells": [
  {
   "cell_type": "code",
   "execution_count": 1,
   "metadata": {},
   "outputs": [
    {
     "name": "stdout",
     "output_type": "stream",
     "text": [
      "env: keras_backend=tensorflow\n"
     ]
    }
   ],
   "source": [
    "# 確保 Keras 指定用 Tensorflow 的深度學習套件當底層\n",
    "%env keras_backend=tensorflow"
   ]
  },
  {
   "cell_type": "code",
   "execution_count": 2,
   "metadata": {},
   "outputs": [],
   "source": [
    "# 標準數據分析、畫圖套件\n",
    "%matplotlib inline\n",
    "\n",
    "import numpy as np\n",
    "import matplotlib.pyplot as plt"
   ]
  },
  {
   "cell_type": "code",
   "execution_count": 3,
   "metadata": {},
   "outputs": [
    {
     "name": "stderr",
     "output_type": "stream",
     "text": [
      "Using TensorFlow backend.\n"
     ]
    }
   ],
   "source": [
    "# 讀入 MNIST 數據庫\n",
    "from keras.datasets import mnist"
   ]
  },
  {
   "cell_type": "code",
   "execution_count": 4,
   "metadata": {},
   "outputs": [],
   "source": [
    "(x_train, y_train), (x_test, y_test) = mnist.load_data()"
   ]
  },
  {
   "cell_type": "raw",
   "metadata": {},
   "source": []
  },
  {
   "cell_type": "code",
   "execution_count": 5,
   "metadata": {},
   "outputs": [],
   "source": [
    "# 輸入格式整理\n",
    "x_train = x_train.reshape(60000,784)   #　標準型的NN需要將 28*28的矩陣拉成 784維的向量\n",
    "x_test = x_test.reshape(10000,784)     # 手動更改形狀，如此不需使用Flatten\n",
    "\n",
    "# x_train = x_train / 255  將所有矩陣中的數值變成 0~1之間\n",
    "# x_test = x_test / 255   需用 Flatten 拉平"
   ]
  },
  {
   "cell_type": "code",
   "execution_count": 6,
   "metadata": {},
   "outputs": [],
   "source": [
    "# 輸出格式整理\n",
    "from keras.utils import np_utils"
   ]
  },
  {
   "cell_type": "code",
   "execution_count": 7,
   "metadata": {},
   "outputs": [],
   "source": [
    "y_train = np_utils.to_categorical(y_train,10) # 將0~9的數字做one-hot enconding\n",
    "y_test = np_utils.to_categorical(y_test,10)"
   ]
  },
  {
   "cell_type": "raw",
   "metadata": {},
   "source": []
  },
  {
   "cell_type": "code",
   "execution_count": 8,
   "metadata": {},
   "outputs": [],
   "source": [
    "# 打造神經網路\n",
    "\n",
    "from keras.models import Sequential\n",
    "from keras.layers import Dense, Activation\n",
    "from keras.optimizers import SGD # 隨機抽取，訓練資料任意順序"
   ]
  },
  {
   "cell_type": "code",
   "execution_count": 9,
   "metadata": {},
   "outputs": [
    {
     "name": "stdout",
     "output_type": "stream",
     "text": [
      "WARNING:tensorflow:From C:\\Users\\owner\\Anaconda3\\lib\\site-packages\\keras\\backend\\tensorflow_backend.py:74: The name tf.get_default_graph is deprecated. Please use tf.compat.v1.get_default_graph instead.\n",
      "\n"
     ]
    }
   ],
   "source": [
    "model = Sequential() # 建立一個空的神經網路\n",
    "\n",
    "# model.add(Flatten(input_shape=(28, 28))) 將輸入曾將資料拉平"
   ]
  },
  {
   "cell_type": "code",
   "execution_count": 10,
   "metadata": {},
   "outputs": [
    {
     "name": "stdout",
     "output_type": "stream",
     "text": [
      "WARNING:tensorflow:From C:\\Users\\owner\\Anaconda3\\lib\\site-packages\\keras\\backend\\tensorflow_backend.py:517: The name tf.placeholder is deprecated. Please use tf.compat.v1.placeholder instead.\n",
      "\n",
      "WARNING:tensorflow:From C:\\Users\\owner\\Anaconda3\\lib\\site-packages\\keras\\backend\\tensorflow_backend.py:4138: The name tf.random_uniform is deprecated. Please use tf.random.uniform instead.\n",
      "\n"
     ]
    }
   ],
   "source": [
    "# 第一層隱藏層\n",
    "model.add(Dense(30, input_dim=784, activation=\"relu\")) # 30個神經元"
   ]
  },
  {
   "cell_type": "code",
   "execution_count": 11,
   "metadata": {},
   "outputs": [],
   "source": [
    "# 第二層隱藏層\n",
    "model.add(Dense(40,activation=\"relu\"))\n",
    "\n",
    "# model.add(Dense(500))\n",
    "# model.add(Activation(\"sigmoid\"))"
   ]
  },
  {
   "cell_type": "code",
   "execution_count": 12,
   "metadata": {},
   "outputs": [],
   "source": [
    "model.add(Dense(50,activation=\"relu\"))\n",
    "model.add(Dense(60,activation=\"relu\"))\n",
    "model.add(Dense(70,activation=\"relu\"))"
   ]
  },
  {
   "cell_type": "code",
   "execution_count": 13,
   "metadata": {},
   "outputs": [],
   "source": [
    "# 輸出層\n",
    "model.add(Dense(10,activation=\"softmax\")) # softmax 使每一個元素的範圍都在(0,1)之間，並且所有元素的和為1"
   ]
  },
  {
   "cell_type": "code",
   "execution_count": 14,
   "metadata": {
    "scrolled": true
   },
   "outputs": [
    {
     "name": "stdout",
     "output_type": "stream",
     "text": [
      "WARNING:tensorflow:From C:\\Users\\owner\\Anaconda3\\lib\\site-packages\\keras\\optimizers.py:790: The name tf.train.Optimizer is deprecated. Please use tf.compat.v1.train.Optimizer instead.\n",
      "\n"
     ]
    }
   ],
   "source": [
    "# 組裝\n",
    "model.compile(loss=\"mse\",optimizer=\"adam\",metrics=[\"accuracy\"])"
   ]
  },
  {
   "cell_type": "code",
   "execution_count": 15,
   "metadata": {},
   "outputs": [
    {
     "name": "stdout",
     "output_type": "stream",
     "text": [
      "_________________________________________________________________\n",
      "Layer (type)                 Output Shape              Param #   \n",
      "=================================================================\n",
      "dense_1 (Dense)              (None, 30)                23550     \n",
      "_________________________________________________________________\n",
      "dense_2 (Dense)              (None, 40)                1240      \n",
      "_________________________________________________________________\n",
      "dense_3 (Dense)              (None, 50)                2050      \n",
      "_________________________________________________________________\n",
      "dense_4 (Dense)              (None, 60)                3060      \n",
      "_________________________________________________________________\n",
      "dense_5 (Dense)              (None, 70)                4270      \n",
      "_________________________________________________________________\n",
      "dense_6 (Dense)              (None, 10)                710       \n",
      "=================================================================\n",
      "Total params: 34,880\n",
      "Trainable params: 34,880\n",
      "Non-trainable params: 0\n",
      "_________________________________________________________________\n"
     ]
    }
   ],
   "source": [
    "# 檢視我們的神經網路\n",
    "model.summary()"
   ]
  },
  {
   "cell_type": "code",
   "execution_count": 16,
   "metadata": {},
   "outputs": [
    {
     "name": "stdout",
     "output_type": "stream",
     "text": [
      "WARNING:tensorflow:From C:\\Users\\owner\\Anaconda3\\lib\\site-packages\\keras\\backend\\tensorflow_backend.py:986: The name tf.assign_add is deprecated. Please use tf.compat.v1.assign_add instead.\n",
      "\n",
      "WARNING:tensorflow:From C:\\Users\\owner\\Anaconda3\\lib\\site-packages\\keras\\backend\\tensorflow_backend.py:973: The name tf.assign is deprecated. Please use tf.compat.v1.assign instead.\n",
      "\n",
      "WARNING:tensorflow:From C:\\Users\\owner\\Anaconda3\\lib\\site-packages\\keras\\backend\\tensorflow_backend.py:2741: The name tf.Session is deprecated. Please use tf.compat.v1.Session instead.\n",
      "\n",
      "Epoch 1/15\n",
      "WARNING:tensorflow:From C:\\Users\\owner\\Anaconda3\\lib\\site-packages\\keras\\backend\\tensorflow_backend.py:174: The name tf.get_default_session is deprecated. Please use tf.compat.v1.get_default_session instead.\n",
      "\n",
      "WARNING:tensorflow:From C:\\Users\\owner\\Anaconda3\\lib\\site-packages\\keras\\backend\\tensorflow_backend.py:181: The name tf.ConfigProto is deprecated. Please use tf.compat.v1.ConfigProto instead.\n",
      "\n",
      "WARNING:tensorflow:From C:\\Users\\owner\\Anaconda3\\lib\\site-packages\\keras\\backend\\tensorflow_backend.py:190: The name tf.global_variables is deprecated. Please use tf.compat.v1.global_variables instead.\n",
      "\n",
      "WARNING:tensorflow:From C:\\Users\\owner\\Anaconda3\\lib\\site-packages\\keras\\backend\\tensorflow_backend.py:199: The name tf.is_variable_initialized is deprecated. Please use tf.compat.v1.is_variable_initialized instead.\n",
      "\n",
      "WARNING:tensorflow:From C:\\Users\\owner\\Anaconda3\\lib\\site-packages\\keras\\backend\\tensorflow_backend.py:206: The name tf.variables_initializer is deprecated. Please use tf.compat.v1.variables_initializer instead.\n",
      "\n",
      "60000/60000 [==============================] - 13s 209us/step - loss: 0.0564 - acc: 0.6777\n",
      "Epoch 2/15\n",
      "60000/60000 [==============================] - 9s 151us/step - loss: 0.0161 - acc: 0.9019 \n",
      "Epoch 3/15\n",
      "60000/60000 [==============================] - 7s 120us/step - loss: 0.0125 - acc: 0.9246 0s - loss: 0.0126 - acc: \n",
      "Epoch 4/15\n",
      "60000/60000 [==============================] - 10s 161us/step - loss: 0.0109 - acc: 0.9335\n",
      "Epoch 5/15\n",
      "60000/60000 [==============================] - 6s 100us/step - loss: 0.0095 - acc: 0.9422\n",
      "Epoch 6/15\n",
      "60000/60000 [==============================] - 7s 124us/step - loss: 0.0090 - acc: 0.9454\n",
      "Epoch 7/15\n",
      "60000/60000 [==============================] - 8s 128us/step - loss: 0.0079 - acc: 0.9518\n",
      "Epoch 8/15\n",
      "60000/60000 [==============================] - 7s 124us/step - loss: 0.0075 - acc: 0.9540\n",
      "Epoch 9/15\n",
      "60000/60000 [==============================] - 6s 108us/step - loss: 0.0070 - acc: 0.9573\n",
      "Epoch 10/15\n",
      "60000/60000 [==============================] - 8s 136us/step - loss: 0.0068 - acc: 0.9584\n",
      "Epoch 11/15\n",
      "60000/60000 [==============================] - 8s 139us/step - loss: 0.0062 - acc: 0.9623 1s - lo\n",
      "Epoch 12/15\n",
      "60000/60000 [==============================] - 10s 160us/step - loss: 0.0059 - acc: 0.96422s - - ETA: 1s - loss: 0\n",
      "Epoch 13/15\n",
      "60000/60000 [==============================] - 7s 121us/step - loss: 0.0058 - acc: 0.9649\n",
      "Epoch 14/15\n",
      "60000/60000 [==============================] - 9s 150us/step - loss: 0.0056 - acc: 0.9664 2s - loss: 0.0054 - acc: 0 - ETA:  - ETA: 1s \n",
      "Epoch 15/15\n",
      "60000/60000 [==============================] - 7s 111us/step - loss: 0.0059 - acc: 0.9649\n"
     ]
    },
    {
     "data": {
      "text/plain": [
       "<keras.callbacks.History at 0xbbcc4aab48>"
      ]
     },
     "execution_count": 16,
     "metadata": {},
     "output_type": "execute_result"
    }
   ],
   "source": [
    "# 訓練神經網路\n",
    "model.fit(x_train,y_train,batch_size=200,epochs=15) # batch_size是指一次要訓練幾筆資料 ; epochs是指這6萬筆資料一共要訓練幾次"
   ]
  },
  {
   "cell_type": "code",
   "execution_count": 17,
   "metadata": {},
   "outputs": [
    {
     "name": "stdout",
     "output_type": "stream",
     "text": [
      "10000/10000 [==============================] - 2s 163us/step\n"
     ]
    }
   ],
   "source": [
    "# 用測試資料算準確率\n",
    "score = model.evaluate(x_test,y_test)"
   ]
  },
  {
   "cell_type": "code",
   "execution_count": 18,
   "metadata": {},
   "outputs": [
    {
     "name": "stdout",
     "output_type": "stream",
     "text": [
      "loss： 0.007013735505016627\n",
      "正確率： 0.9571\n"
     ]
    }
   ],
   "source": [
    "print(\"loss：\",score[0])\n",
    "print(\"正確率：\",score[1])"
   ]
  }
 ],
 "metadata": {
  "kernelspec": {
   "display_name": "Python 3",
   "language": "python",
   "name": "python3"
  },
  "language_info": {
   "codemirror_mode": {
    "name": "ipython",
    "version": 3
   },
   "file_extension": ".py",
   "mimetype": "text/x-python",
   "name": "python",
   "nbconvert_exporter": "python",
   "pygments_lexer": "ipython3",
   "version": "3.7.4"
  }
 },
 "nbformat": 4,
 "nbformat_minor": 2
}
