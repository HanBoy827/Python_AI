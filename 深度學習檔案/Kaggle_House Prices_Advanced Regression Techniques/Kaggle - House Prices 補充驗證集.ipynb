{
 "cells": [
  {
   "cell_type": "markdown",
   "metadata": {},
   "source": [
    "### 【補充】 誰是驗證資料(validation data)？\n",
    "之前提到的機器學習都只分訓練集和測試集兩種。利用訓練資料學習，最後再用測試資料判斷準確度來看這個model，來觀察是否有過於符合這個訓練資料(overfitting)。\n",
    "\n",
    "先介紹一個名詞－超參數(hyper-parameter)：超參數可以代表的意思有很多，如神經元數量、學習率、權重等等。但我們通常不易去決定以上這些，會讓我們在建立神經網路時有很大的困擾，通常都要嘗試錯誤法去找到比較好的模型，然而這會耗掉我們相當多的時間，所以這時候驗證集的重要性就來了。\n",
    "\n",
    "我們可以從訓練集切出一份資料當成驗證集，通常會切成8(訓練集):2(驗證集)，比例也可以是9:1，大概是訓練集會多出很多這樣，當然還有其他種驗證資料的分法，我們這邊先不提到。所以，驗證資料的目的就是為了評估超參數的效能並調整，有了驗證資料會讓我們的模型收斂得更好！"
   ]
  },
  {
   "cell_type": "markdown",
   "metadata": {},
   "source": [
    "train_test_split切分數據之小小程式熱身:來切分JOHN國的10筆資料！\n",
    "![圖](sqft_living.PNG)"
   ]
  },
  {
   "cell_type": "code",
   "execution_count": 1,
   "metadata": {},
   "outputs": [],
   "source": [
    "import numpy as np\n",
    "import pandas as pd\n",
    "import matplotlib.pyplot as plt\n",
    "from sklearn.model_selection import train_test_split"
   ]
  },
  {
   "cell_type": "code",
   "execution_count": 2,
   "metadata": {},
   "outputs": [
    {
     "name": "stdout",
     "output_type": "stream",
     "text": [
      "x_data [55 27 33 70 13 26 89 21 10 67]\n",
      "y_data [500000 275000 360000 780000 145000 280000 860000 200000  90000 680000]\n",
      "X_train [13 67 27 89 21 70 55 26]\n",
      "y_train [145000 680000 275000 860000 200000 780000 500000 280000]\n",
      "X_test [33 10]\n",
      "y_test [360000  90000]\n"
     ]
    }
   ],
   "source": [
    "x_data = np.array([55,27,33,70,13,26,89,21,10,67])\n",
    "y_data = np.array([500000,275000,360000,780000,145000,280000,860000,200000,90000,680000])\n",
    "print(\"x_data\",x_data)\n",
    "print(\"y_data\",y_data)\n",
    "\n",
    "X_train, X_test, y_train, y_test = train_test_split(x_data, y_data, test_size=0.2, random_state=0)\n",
    "#X_train,X_test, y_train, y_test = model_selection.train_test_split(train_data,train_target,test_size=0.2, random_state=0)\n",
    "#train_test_split的括號裡面，1.資料的x那些種類2.y的部分3.test的部分要佔全部資料的多少4.指定一個隨機種子，0的話就是隨機囉\n",
    "#就是一種隨機切分資料的功能\n",
    "#隨機種子相同的話，在另一個框框在跑一次一樣的code還是會出現相同的隨機數\n",
    "print(\"X_train\",X_train)\n",
    "print(\"y_train\",y_train)\n",
    "print(\"X_test\",X_test)\n",
    "print(\"y_test\",y_test)\n",
    "\n",
    "# 會看到因為我的test_size設成0.2，所以原本10筆資料被隨機切分成train有8筆，test則是2筆，這樣就切分成功拉！"
   ]
  },
  {
   "cell_type": "code",
   "execution_count": null,
   "metadata": {},
   "outputs": [],
   "source": []
  }
 ],
 "metadata": {
  "kernelspec": {
   "display_name": "Python 3",
   "language": "python",
   "name": "python3"
  },
  "language_info": {
   "codemirror_mode": {
    "name": "ipython",
    "version": 3
   },
   "file_extension": ".py",
   "mimetype": "text/x-python",
   "name": "python",
   "nbconvert_exporter": "python",
   "pygments_lexer": "ipython3",
   "version": "3.7.4"
  }
 },
 "nbformat": 4,
 "nbformat_minor": 2
}
