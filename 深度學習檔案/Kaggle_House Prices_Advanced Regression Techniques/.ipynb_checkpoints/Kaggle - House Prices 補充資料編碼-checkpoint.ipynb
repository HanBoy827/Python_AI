{
 "cells": [
  {
   "cell_type": "markdown",
   "metadata": {},
   "source": [
    "### 【補充】資料處理的編碼是啥？\n",
    "編碼在機器學習中是相當重要的，而且在一開始的資料處理、整合就必須使用到了，尤其是當我們需要將分類文本特偵轉換成數字時更是需要這項技術。原因是不管我們在做任何的機器學習，不外乎最終目標就是找到那個模型，而先前介紹到的許多方法都是從數學式子開始的，如果你今天給個街道名稱\"Pave\"，或是在做圖片辨識(貓或狗)也給\"cat\"、\"dog\"，機器根本就不會認識它是什麼，所以這時候我們就要編碼了！以下是常見的編碼方式：\n",
    "\n",
    "### One-Hot-Encoding\n",
    "One-Hot代表就是只有其中一個數字是1其餘都是0，可以說是靠位子來判別。\n",
    "\n",
    "就像是今天要做分類的機器學習，有三個腳色(John,Jason,Jenny)必須要做One-Hot-Encoding，那會變成怎樣呢？\n",
    "\n",
    "那會變成：John　= [ 1 0 0 ],Jason = [ 0 1 0 ],Jenny = [ 0 0 1 ]"
   ]
  },
  {
   "cell_type": "code",
   "execution_count": 1,
   "metadata": {},
   "outputs": [],
   "source": [
    "import numpy as np\n",
    "import matplotlib.pyplot as plt\n",
    "import pandas as pd\n",
    "import seaborn as sns"
   ]
  },
  {
   "cell_type": "code",
   "execution_count": 2,
   "metadata": {},
   "outputs": [
    {
     "name": "stdout",
     "output_type": "stream",
     "text": [
      "       0\n",
      "0   John\n",
      "1  Jason\n",
      "2  Jenny\n"
     ]
    },
    {
     "data": {
      "text/html": [
       "<div>\n",
       "<style scoped>\n",
       "    .dataframe tbody tr th:only-of-type {\n",
       "        vertical-align: middle;\n",
       "    }\n",
       "\n",
       "    .dataframe tbody tr th {\n",
       "        vertical-align: top;\n",
       "    }\n",
       "\n",
       "    .dataframe thead th {\n",
       "        text-align: right;\n",
       "    }\n",
       "</style>\n",
       "<table border=\"1\" class=\"dataframe\">\n",
       "  <thead>\n",
       "    <tr style=\"text-align: right;\">\n",
       "      <th></th>\n",
       "      <th>0_Jason</th>\n",
       "      <th>0_Jenny</th>\n",
       "      <th>0_John</th>\n",
       "    </tr>\n",
       "  </thead>\n",
       "  <tbody>\n",
       "    <tr>\n",
       "      <td>0</td>\n",
       "      <td>0</td>\n",
       "      <td>0</td>\n",
       "      <td>1</td>\n",
       "    </tr>\n",
       "    <tr>\n",
       "      <td>1</td>\n",
       "      <td>1</td>\n",
       "      <td>0</td>\n",
       "      <td>0</td>\n",
       "    </tr>\n",
       "    <tr>\n",
       "      <td>2</td>\n",
       "      <td>0</td>\n",
       "      <td>1</td>\n",
       "      <td>0</td>\n",
       "    </tr>\n",
       "  </tbody>\n",
       "</table>\n",
       "</div>"
      ],
      "text/plain": [
       "   0_Jason  0_Jenny  0_John\n",
       "0        0        0       1\n",
       "1        1        0       0\n",
       "2        0        1       0"
      ]
     },
     "execution_count": 2,
     "metadata": {},
     "output_type": "execute_result"
    }
   ],
   "source": [
    "# 實作一下\n",
    "name = ['John','Jason','Jenny']\n",
    "df_data = pd.DataFrame(name)\n",
    "print(df_data)\n",
    "#以上是基本的建立資料\n",
    "one_hot_data = pd.get_dummies(df_data) \n",
    "#Pandas裡面有get_dummies函數，可以直接進行One-Hot Encoding\n",
    "pd.DataFrame(one_hot_data)"
   ]
  },
  {
   "cell_type": "markdown",
   "metadata": {},
   "source": [
    "### Label Encoding\n",
    "Label Encoding更簡單了，它是直接利用數字去判別！那它會跑出來的數字會是0到n(原本種類-1)舉個例子，跟上面一樣有三個腳色(John,Jason,Jenny)，那就會變成：John　= 0 , Jason = 1 , Jenny = 2"
   ]
  },
  {
   "cell_type": "code",
   "execution_count": 3,
   "metadata": {},
   "outputs": [
    {
     "name": "stdout",
     "output_type": "stream",
     "text": [
      "       0\n",
      "0   John\n",
      "1  Jason\n",
      "2  Jenny\n"
     ]
    },
    {
     "data": {
      "text/html": [
       "<div>\n",
       "<style scoped>\n",
       "    .dataframe tbody tr th:only-of-type {\n",
       "        vertical-align: middle;\n",
       "    }\n",
       "\n",
       "    .dataframe tbody tr th {\n",
       "        vertical-align: top;\n",
       "    }\n",
       "\n",
       "    .dataframe thead th {\n",
       "        text-align: right;\n",
       "    }\n",
       "</style>\n",
       "<table border=\"1\" class=\"dataframe\">\n",
       "  <thead>\n",
       "    <tr style=\"text-align: right;\">\n",
       "      <th></th>\n",
       "      <th>0</th>\n",
       "    </tr>\n",
       "  </thead>\n",
       "  <tbody>\n",
       "    <tr>\n",
       "      <td>0</td>\n",
       "      <td>2</td>\n",
       "    </tr>\n",
       "    <tr>\n",
       "      <td>1</td>\n",
       "      <td>0</td>\n",
       "    </tr>\n",
       "    <tr>\n",
       "      <td>2</td>\n",
       "      <td>1</td>\n",
       "    </tr>\n",
       "  </tbody>\n",
       "</table>\n",
       "</div>"
      ],
      "text/plain": [
       "   0\n",
       "0  2\n",
       "1  0\n",
       "2  1"
      ]
     },
     "execution_count": 3,
     "metadata": {},
     "output_type": "execute_result"
    }
   ],
   "source": [
    "# 實作一下：\n",
    "name = ['John','Jason','Jenny']\n",
    "df_data = pd.DataFrame(name)\n",
    "print(df_data)\n",
    "#以上是基本的建立資料\n",
    "from sklearn.preprocessing import LabelEncoder #導入LabelEncoder工具\n",
    "df_data[0] = LabelEncoder().fit_transform(df_data[0])\n",
    "#LabelEncoder()只能鎖定一行，所以要特別標註是哪行\n",
    "df_data"
   ]
  },
  {
   "cell_type": "code",
   "execution_count": null,
   "metadata": {},
   "outputs": [],
   "source": []
  }
 ],
 "metadata": {
  "kernelspec": {
   "display_name": "Python 3",
   "language": "python",
   "name": "python3"
  },
  "language_info": {
   "codemirror_mode": {
    "name": "ipython",
    "version": 3
   },
   "file_extension": ".py",
   "mimetype": "text/x-python",
   "name": "python",
   "nbconvert_exporter": "python",
   "pygments_lexer": "ipython3",
   "version": "3.7.4"
  }
 },
 "nbformat": 4,
 "nbformat_minor": 2
}
