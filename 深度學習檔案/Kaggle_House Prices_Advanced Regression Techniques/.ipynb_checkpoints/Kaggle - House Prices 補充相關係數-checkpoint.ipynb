{
 "cells": [
  {
   "cell_type": "markdown",
   "metadata": {},
   "source": [
    "### 【補充】相關係數介紹\n",
    "相關係數可以看出各個資料之間的相關度(用一個數字來表示兩數的相關度)，就像是之前提到的，房價高低一定和坪數大小有一定程度上的關係，這時相關係度就會接近1；但如果是賣出的月份或者是日期也有出現在數據中的話，對於房價似乎不是那麼的重要，相關係數就可能會小於0.5，甚至接近0，這樣子的數據就不是我們要的。\n",
    "\n",
    "那我們在程式碼會用到的相關係數分析是Pearson相關，Pearson相關是統計學常見的分析數據的方法，那Pearson相關係數的範圍是-1~1，\"-\"代表負相關(x值越大；y值越小)，反之，\"+\"代表正相關(x值越大；y值越大)。但我們在看相關度的時候通常會以絕對值作為依據，當加上絕對值後數值越接近1表示x和y的關係越像在一條線上(正負只是方向不同，正是左下往右上；負是左上往右下)，所以當絕對值加上去後，越接近1表示越跟y相關！也就是說會利用這個相關係數來判別房價資料內是不是有不太相關的數據卡在那，這樣會影響我們在訓練模型的狀況，所以通常會把相關係數小於0.5拿掉不去考慮。"
   ]
  },
  {
   "cell_type": "code",
   "execution_count": 1,
   "metadata": {},
   "outputs": [],
   "source": [
    "import numpy as np\n",
    "import matplotlib.pyplot as plt\n",
    "import pandas as pd\n",
    "import seaborn as sns"
   ]
  },
  {
   "cell_type": "code",
   "execution_count": 2,
   "metadata": {},
   "outputs": [
    {
     "data": {
      "text/html": [
       "<div>\n",
       "<style scoped>\n",
       "    .dataframe tbody tr th:only-of-type {\n",
       "        vertical-align: middle;\n",
       "    }\n",
       "\n",
       "    .dataframe tbody tr th {\n",
       "        vertical-align: top;\n",
       "    }\n",
       "\n",
       "    .dataframe thead th {\n",
       "        text-align: right;\n",
       "    }\n",
       "</style>\n",
       "<table border=\"1\" class=\"dataframe\">\n",
       "  <thead>\n",
       "    <tr style=\"text-align: right;\">\n",
       "      <th></th>\n",
       "      <th>x</th>\n",
       "      <th>y</th>\n",
       "      <th>z</th>\n",
       "    </tr>\n",
       "  </thead>\n",
       "  <tbody>\n",
       "    <tr>\n",
       "      <td>0</td>\n",
       "      <td>12</td>\n",
       "      <td>60</td>\n",
       "      <td>92</td>\n",
       "    </tr>\n",
       "    <tr>\n",
       "      <td>1</td>\n",
       "      <td>5</td>\n",
       "      <td>25</td>\n",
       "      <td>77</td>\n",
       "    </tr>\n",
       "    <tr>\n",
       "      <td>2</td>\n",
       "      <td>55</td>\n",
       "      <td>275</td>\n",
       "      <td>6</td>\n",
       "    </tr>\n",
       "    <tr>\n",
       "      <td>3</td>\n",
       "      <td>16</td>\n",
       "      <td>80</td>\n",
       "      <td>44</td>\n",
       "    </tr>\n",
       "    <tr>\n",
       "      <td>4</td>\n",
       "      <td>65</td>\n",
       "      <td>325</td>\n",
       "      <td>2</td>\n",
       "    </tr>\n",
       "  </tbody>\n",
       "</table>\n",
       "</div>"
      ],
      "text/plain": [
       "    x    y   z\n",
       "0  12   60  92\n",
       "1   5   25  77\n",
       "2  55  275   6\n",
       "3  16   80  44\n",
       "4  65  325   2"
      ]
     },
     "execution_count": 2,
     "metadata": {},
     "output_type": "execute_result"
    }
   ],
   "source": [
    "# 1.創建簡單的數據\n",
    "\n",
    "x = np.random.randint(0, 100, 10)\n",
    "y = 5 * x \n",
    "z = np.random.randint(0,100,10)\n",
    "dataframe = pd.DataFrame({'x':x,'y':y,'z':z})\n",
    "dataframe.head()"
   ]
  },
  {
   "cell_type": "code",
   "execution_count": 3,
   "metadata": {},
   "outputs": [
    {
     "data": {
      "image/png": "[encoded data removed]",
      "text/plain": [
       "<Figure size 720x720 with 2 Axes>"
      ]
     },
     "metadata": {
      "needs_background": "light"
     },
     "output_type": "display_data"
    }
   ],
   "source": [
    "# 2.利用corr()找出Pearson相關\n",
    "\n",
    "import seaborn as sns\n",
    "df =dataframe.corr() #計算相關係數\n",
    "plt.subplots(figsize=(10, 10))  # 設置長寬尺寸大小\n",
    "sns.heatmap(df, annot=True, vmax=1, square=True, cmap=\"Blues\")\n",
    "# 1.丟入的資料 2.是否輸出熱力圖數值大小 3.最大值顯示4.變成正方形5.要什麼顏色\n",
    "plt.show()\n",
    "\n",
    "# 從下圖中可以看出x和y的相關度很高，這是因為一開始就讓他們成一條線，那z就是一組隨便的亂數，所以可以看出z和x、y之間的關係不大，絕對值是小於1"
   ]
  },
  {
   "cell_type": "markdown",
   "metadata": {},
   "source": [
    "### 相關係數程式補充"
   ]
  },
  {
   "cell_type": "code",
   "execution_count": 4,
   "metadata": {},
   "outputs": [
    {
     "data": {
      "image/png": "[encoded data removed]",
      "text/plain": [
       "<Figure size 720x720 with 2 Axes>"
      ]
     },
     "metadata": {
      "needs_background": "light"
     },
     "output_type": "display_data"
    }
   ],
   "source": [
    "x = np.random.randint(0, 100, 10) #0~100隨機找10筆數據\n",
    "y = 5 * x \n",
    "z = np.random.randint(0,100,10)\n",
    "l = ['a','b','c','d','e','f','g','h','i','j'] #新增的\n",
    "\n",
    "dataframe = pd.DataFrame({'x':x,'y':y,'z':z,'l':l})\n",
    "\n",
    "df =dataframe.corr() #計算相關係數\n",
    "plt.subplots(figsize=(10, 10))  # 設置長寬尺寸大小\n",
    "sns.heatmap(df, annot=True, vmax=1, square=True, cmap=\"Blues\")\n",
    "#1.丟入的資料 2.是否輸出熱力圖數值大小 3.最大值顯示4.變成正方形5.要什麼顏色\n",
    "plt.show()\n",
    "\n",
    "# 增加一個新的 l陣列，裡面包含 string的型態(在dataframe會被叫object)，可以發現在做相關係數時， l並沒有被考慮進去，\n",
    "# 可以發現是在計算數字間關係，那今天如果是物件(object)的話，df =dataframe.corr()會無法計算，所以才只出現型態是float的行！"
   ]
  },
  {
   "cell_type": "code",
   "execution_count": null,
   "metadata": {},
   "outputs": [],
   "source": []
  }
 ],
 "metadata": {
  "kernelspec": {
   "display_name": "Python 3",
   "language": "python",
   "name": "python3"
  },
  "language_info": {
   "codemirror_mode": {
    "name": "ipython",
    "version": 3
   },
   "file_extension": ".py",
   "mimetype": "text/x-python",
   "name": "python",
   "nbconvert_exporter": "python",
   "pygments_lexer": "ipython3",
   "version": "3.7.4"
  }
 },
 "nbformat": 4,
 "nbformat_minor": 2
}
