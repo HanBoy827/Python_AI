{
 "cells": [
  {
   "cell_type": "markdown",
   "metadata": {},
   "source": [
    "### 常用激勵函數(activation fuction)介紹\n",
    "激勵函數(activation fuction)也可以稱作活化函數，那麼，為什麼要有激勵函數呢？\n",
    "可以往上面看會發現權重和輸入相乘的時候，怎麼樣都還是線性的，像是最上面的非常簡單的神經網路架構，就可以看到若是沒有激勵函數的存在，最多也只是無數個權重和輸入相乘而已，這樣不管怎麼相乘或是再多的層數也脫離不了「線性」，然而，這世界是複雜的，有許多許多都是非線性的，於是，激勵函數就出場了，使得輸出和輸入脫離線性關係，做深度神經網路就會有意義了！\n",
    "一言以蔽之：激勵函數是為了引入非線性！"
   ]
  },
  {
   "cell_type": "markdown",
   "metadata": {},
   "source": [
    "### Sigmoid函數\n",
    "![a](Sigmoid.png)\n",
    "Sigmoid函數也可稱為羅吉斯函數（logistic function），這個function常用於分類問題。特點有以下：\n",
    "* (1)會將輸出範圍鎖在0~1之間\n",
    "* (2)恆正、嚴格遞增\n",
    "* (3)統計學中，函數圖像是常見的累積分布函數\n",
    "* (4)常用於二位元分類(Binary Classification)\n",
    "* (5)激活神經網路(將線性轉為非線性輸出)\n",
    "\n",
    "讓我們自己實作一個sigmoid吧！"
   ]
  },
  {
   "cell_type": "code",
   "execution_count": 1,
   "metadata": {},
   "outputs": [
    {
     "data": {
      "text/plain": [
       "[<matplotlib.lines.Line2D at 0xcee00d2148>]"
      ]
     },
     "execution_count": 1,
     "metadata": {},
     "output_type": "execute_result"
    }
   ],
   "source": [
    "import matplotlib.pyplot as plt\n",
    "import numpy as np\n",
    "\n",
    "def sigmoid(x):\n",
    "     y = 1 / (1 + np.exp(-x))\n",
    "     return y\n",
    "\n",
    "x = np.linspace(-6, 6,50) #np.linspace(開始,結束,樣本數)\n",
    "y = sigmoid(x)\n",
    "plt.plot(x,y)"
   ]
  },
  {
   "cell_type": "markdown",
   "metadata": {},
   "source": [
    "### Softmax\n",
    "![a](Softmax.png)\n",
    "* (1)會將輸出範圍鎖在0~1之間\n",
    "* (2)跟sigmoid不一樣的地方是，所有數出相加為1(所以有機率分布的感覺)\n",
    "* (3)統計學中，函數圖像是常見的累積分布函數\n",
    "* (4)常用於對重分類(Multiple Classification)\n",
    "* (5)用於神經網路不同層"
   ]
  },
  {
   "cell_type": "code",
   "execution_count": 2,
   "metadata": {},
   "outputs": [
    {
     "data": {
      "text/plain": [
       "[<matplotlib.lines.Line2D at 0xcee01755c8>]"
      ]
     },
     "execution_count": 2,
     "metadata": {},
     "output_type": "execute_result"
    },
    {
     "data": {
      "image/png": "[encoded data removed]",
      "text/plain": [
       "<Figure size 432x288 with 1 Axes>"
      ]
     },
     "metadata": {
      "needs_background": "light"
     },
     "output_type": "display_data"
    }
   ],
   "source": [
    "import numpy as np\n",
    "import matplotlib.pyplot as plt\n",
    "def softmax(x):\n",
    "    a = np.exp(x) #分子\n",
    "    b = np.sum(a) #分母\n",
    "    softmax = a / b\n",
    "    return softmax\n",
    "x = np.linspace(-6, 6,50) #np.linspace(開始,結束,樣本數)\n",
    "y = softmax(x)\n",
    "plt.plot(x,y)"
   ]
  },
  {
   "cell_type": "markdown",
   "metadata": {},
   "source": [
    "### ReLU\n",
    "![a](ReLU.png)\n",
    "* (1)負數輸出為0，正數輸出原本大小\n",
    "* (2)可解決梯度爆炸\n",
    "* (3)收斂速度快"
   ]
  },
  {
   "cell_type": "code",
   "execution_count": 3,
   "metadata": {},
   "outputs": [
    {
     "data": {
      "text/plain": [
       "[<matplotlib.lines.Line2D at 0xceecb1f308>]"
      ]
     },
     "execution_count": 3,
     "metadata": {},
     "output_type": "execute_result"
    },
    {
     "data": {
      "image/png": "[encoded data removed]",
      "text/plain": [
       "<Figure size 432x288 with 1 Axes>"
      ]
     },
     "metadata": {
      "needs_background": "light"
     },
     "output_type": "display_data"
    }
   ],
   "source": [
    "import numpy as np \n",
    "import matplotlib.pyplot as plt\n",
    "def relu(x):\n",
    "    return np.maximum(0,x)\n",
    "\n",
    "x = np.linspace(-6, 6,50) #np.linspace(開始,結束,樣本數)\n",
    "y = relu(x)\n",
    "plt.plot(x,y)"
   ]
  },
  {
   "cell_type": "code",
   "execution_count": null,
   "metadata": {},
   "outputs": [],
   "source": []
  }
 ],
 "metadata": {
  "kernelspec": {
   "display_name": "Python 3",
   "language": "python",
   "name": "python3"
  },
  "language_info": {
   "codemirror_mode": {
    "name": "ipython",
    "version": 3
   },
   "file_extension": ".py",
   "mimetype": "text/x-python",
   "name": "python",
   "nbconvert_exporter": "python",
   "pygments_lexer": "ipython3",
   "version": "3.7.4"
  }
 },
 "nbformat": 4,
 "nbformat_minor": 2
}
