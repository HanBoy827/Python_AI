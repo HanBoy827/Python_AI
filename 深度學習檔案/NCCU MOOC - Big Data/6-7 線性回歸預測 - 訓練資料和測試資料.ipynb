{
 "cells": [
  {
   "cell_type": "code",
   "execution_count": 1,
   "metadata": {},
   "outputs": [],
   "source": [
    "%matplotlib inline\n",
    "import numpy as np\n",
    "import matplotlib.pyplot as plt"
   ]
  },
  {
   "cell_type": "code",
   "execution_count": 2,
   "metadata": {},
   "outputs": [],
   "source": [
    "x = np.linspace(0,5,100)\n",
    "y = 1.2*x+0.8+0.5*np.random.randn(100)"
   ]
  },
  {
   "cell_type": "code",
   "execution_count": 3,
   "metadata": {},
   "outputs": [
    {
     "data": {
      "text/plain": [
       "<matplotlib.collections.PathCollection at 0xe0450f86c8>"
      ]
     },
     "execution_count": 3,
     "metadata": {},
     "output_type": "execute_result"
    },
    {
     "data": {
      "image/png": "[encoded data removed]",
      "text/plain": [
       "<Figure size 432x288 with 1 Axes>"
      ]
     },
     "metadata": {
      "needs_background": "light"
     },
     "output_type": "display_data"
    }
   ],
   "source": [
    "plt.scatter(x,y)"
   ]
  },
  {
   "cell_type": "markdown",
   "metadata": {},
   "source": [
    "## 標準函數訓練及測試\n",
    "\n",
    "#### 分訓練資料、測試資料\n",
    "\n",
    "一般我們想要看算出來的逼近函數在預測上是不是可靠, 會把一些資料留給「測試」, 就是不讓電腦在計算時「看到」這些測試資料。等函數學成了以後, 再來測試準不準確。這是我們可以用\n",
    "\n",
    "    sklearn.model_selection\n",
    "    \n",
    "裡的\n",
    "\n",
    "    train_test_split\n",
    "    \n",
    "來亂數選一定百分比的資料來用。"
   ]
  },
  {
   "cell_type": "code",
   "execution_count": 4,
   "metadata": {},
   "outputs": [],
   "source": [
    "from sklearn.model_selection import train_test_split"
   ]
  },
  {
   "cell_type": "markdown",
   "metadata": {},
   "source": [
    "把原來的 x, y 中的 80% 給 training data, 20% 給 testing data。"
   ]
  },
  {
   "cell_type": "code",
   "execution_count": 5,
   "metadata": {},
   "outputs": [],
   "source": [
    "# 分割Training和Testing Data的方法：輸入的訓練資料, 輸入的測試資料, 輸出的訓練資料, 輸出的測試資料 = train_test_split(x, y, test_size=分割給test的比例, random_state=隨便給一個數字)\n",
    "x_train,x_test,y_train,y_test = train_test_split(x,y,\n",
    "                                                test_size=0.2,\n",
    "                                                random_state=87) # random_state讓亂取20筆每次都是相同的20筆"
   ]
  },
  {
   "cell_type": "code",
   "execution_count": 6,
   "metadata": {},
   "outputs": [
    {
     "data": {
      "text/plain": [
       "80"
      ]
     },
     "execution_count": 6,
     "metadata": {},
     "output_type": "execute_result"
    }
   ],
   "source": [
    "len(x_train)"
   ]
  },
  {
   "cell_type": "code",
   "execution_count": 7,
   "metadata": {},
   "outputs": [
    {
     "data": {
      "text/plain": [
       "20"
      ]
     },
     "execution_count": 7,
     "metadata": {},
     "output_type": "execute_result"
    }
   ],
   "source": [
    "len(x_test)"
   ]
  },
  {
   "cell_type": "code",
   "execution_count": 8,
   "metadata": {},
   "outputs": [],
   "source": [
    "x_train = x_train.reshape(80,1)"
   ]
  },
  {
   "cell_type": "code",
   "execution_count": 9,
   "metadata": {},
   "outputs": [
    {
     "data": {
      "text/plain": [
       "array([[3.38383838],\n",
       "       [2.72727273],\n",
       "       [1.86868687],\n",
       "       [3.83838384],\n",
       "       [1.41414141],\n",
       "       [0.05050505],\n",
       "       [4.19191919],\n",
       "       [4.54545455],\n",
       "       [2.82828283],\n",
       "       [0.1010101 ],\n",
       "       [0.60606061],\n",
       "       [4.94949495],\n",
       "       [1.36363636],\n",
       "       [0.25252525],\n",
       "       [3.58585859],\n",
       "       [0.85858586],\n",
       "       [1.21212121],\n",
       "       [3.33333333],\n",
       "       [2.62626263],\n",
       "       [3.43434343],\n",
       "       [3.48484848],\n",
       "       [2.77777778],\n",
       "       [3.68686869],\n",
       "       [0.2020202 ],\n",
       "       [4.74747475],\n",
       "       [4.34343434],\n",
       "       [0.65656566],\n",
       "       [1.71717172],\n",
       "       [1.11111111],\n",
       "       [1.51515152],\n",
       "       [4.7979798 ],\n",
       "       [2.17171717],\n",
       "       [2.47474747],\n",
       "       [1.91919192],\n",
       "       [0.90909091],\n",
       "       [2.52525253],\n",
       "       [3.18181818],\n",
       "       [1.06060606],\n",
       "       [2.27272727],\n",
       "       [4.6969697 ],\n",
       "       [2.42424242],\n",
       "       [2.67676768],\n",
       "       [4.14141414],\n",
       "       [3.23232323],\n",
       "       [1.56565657],\n",
       "       [1.81818182],\n",
       "       [3.93939394],\n",
       "       [2.37373737],\n",
       "       [2.32323232],\n",
       "       [0.4040404 ],\n",
       "       [3.98989899],\n",
       "       [0.50505051],\n",
       "       [2.07070707],\n",
       "       [4.04040404],\n",
       "       [2.87878788],\n",
       "       [3.13131313],\n",
       "       [4.8989899 ],\n",
       "       [0.70707071],\n",
       "       [4.5959596 ],\n",
       "       [3.78787879],\n",
       "       [1.01010101],\n",
       "       [4.44444444],\n",
       "       [0.55555556],\n",
       "       [1.16161616],\n",
       "       [4.49494949],\n",
       "       [4.39393939],\n",
       "       [2.02020202],\n",
       "       [1.76767677],\n",
       "       [0.95959596],\n",
       "       [3.63636364],\n",
       "       [2.12121212],\n",
       "       [3.08080808],\n",
       "       [3.03030303],\n",
       "       [0.45454545],\n",
       "       [2.57575758],\n",
       "       [4.84848485],\n",
       "       [0.3030303 ],\n",
       "       [0.75757576],\n",
       "       [2.97979798],\n",
       "       [3.88888889]])"
      ]
     },
     "execution_count": 9,
     "metadata": {},
     "output_type": "execute_result"
    }
   ],
   "source": [
    "x_train"
   ]
  },
  {
   "cell_type": "code",
   "execution_count": 10,
   "metadata": {},
   "outputs": [],
   "source": [
    "# 另外一種改變array形狀的方法：array的變數名.shape=新的形狀\n",
    "x_test.shape = (20,1)"
   ]
  },
  {
   "cell_type": "code",
   "execution_count": 11,
   "metadata": {},
   "outputs": [
    {
     "data": {
      "text/plain": [
       "array([[0.80808081],\n",
       "       [4.09090909],\n",
       "       [4.29292929],\n",
       "       [1.61616162],\n",
       "       [1.96969697],\n",
       "       [1.26262626],\n",
       "       [1.31313131],\n",
       "       [1.46464646],\n",
       "       [3.28282828],\n",
       "       [0.35353535],\n",
       "       [4.24242424],\n",
       "       [5.        ],\n",
       "       [2.92929293],\n",
       "       [3.53535354],\n",
       "       [4.64646465],\n",
       "       [3.73737374],\n",
       "       [0.15151515],\n",
       "       [0.        ],\n",
       "       [2.22222222],\n",
       "       [1.66666667]])"
      ]
     },
     "execution_count": 11,
     "metadata": {},
     "output_type": "execute_result"
    }
   ],
   "source": [
    "x_test"
   ]
  },
  {
   "cell_type": "markdown",
   "metadata": {},
   "source": [
    "我們在「訓練」這個函數時只有以下這些資料。"
   ]
  },
  {
   "cell_type": "code",
   "execution_count": 12,
   "metadata": {},
   "outputs": [],
   "source": [
    "from sklearn.linear_model import LinearRegression"
   ]
  },
  {
   "cell_type": "code",
   "execution_count": 13,
   "metadata": {},
   "outputs": [],
   "source": [
    "regr = LinearRegression()"
   ]
  },
  {
   "cell_type": "code",
   "execution_count": 14,
   "metadata": {},
   "outputs": [
    {
     "data": {
      "text/plain": [
       "LinearRegression(copy_X=True, fit_intercept=True, n_jobs=None, normalize=False)"
      ]
     },
     "execution_count": 14,
     "metadata": {},
     "output_type": "execute_result"
    }
   ],
   "source": [
    "regr.fit(x_train,y_train)"
   ]
  },
  {
   "cell_type": "code",
   "execution_count": 15,
   "metadata": {},
   "outputs": [
    {
     "data": {
      "text/plain": [
       "[<matplotlib.lines.Line2D at 0xe053850f08>]"
      ]
     },
     "execution_count": 15,
     "metadata": {},
     "output_type": "execute_result"
    },
    {
     "data": {
      "image/png": "[encoded data removed]",
      "text/plain": [
       "<Figure size 432x288 with 1 Axes>"
      ]
     },
     "metadata": {
      "needs_background": "light"
     },
     "output_type": "display_data"
    }
   ],
   "source": [
    "plt.scatter(x_train,y_train)\n",
    "plt.plot(x_train, regr.predict(x_train),\"r\")"
   ]
  },
  {
   "cell_type": "markdown",
   "metadata": {},
   "source": [
    "#### 用訓練資料來 fit 函數\n",
    "\n",
    "記得現在我們只用 80% 的資料去訓練。"
   ]
  },
  {
   "cell_type": "markdown",
   "metadata": {},
   "source": [
    "#### 用測試資料試試我們預測準不準"
   ]
  },
  {
   "cell_type": "code",
   "execution_count": 16,
   "metadata": {},
   "outputs": [
    {
     "data": {
      "text/plain": [
       "<matplotlib.collections.PathCollection at 0xe0538af188>"
      ]
     },
     "execution_count": 16,
     "metadata": {},
     "output_type": "execute_result"
    },
    {
     "data": {
      "image/png": "[encoded data removed]",
      "text/plain": [
       "<Figure size 432x288 with 1 Axes>"
      ]
     },
     "metadata": {
      "needs_background": "light"
     },
     "output_type": "display_data"
    }
   ],
   "source": [
    "plt.scatter(x_test, y_test)"
   ]
  },
  {
   "cell_type": "code",
   "execution_count": 17,
   "metadata": {},
   "outputs": [
    {
     "data": {
      "text/plain": [
       "[<matplotlib.lines.Line2D at 0xe0548f4948>]"
      ]
     },
     "execution_count": 17,
     "metadata": {},
     "output_type": "execute_result"
    },
    {
     "data": {
      "image/png": "[encoded data removed]",
      "text/plain": [
       "<Figure size 432x288 with 1 Axes>"
      ]
     },
     "metadata": {
      "needs_background": "light"
     },
     "output_type": "display_data"
    }
   ],
   "source": [
    "plt.scatter(x_test, y_test)\n",
    "plt.plot(x_test, regr.predict(x_test), 'r')"
   ]
  },
  {
   "cell_type": "code",
   "execution_count": null,
   "metadata": {},
   "outputs": [],
   "source": []
  }
 ],
 "metadata": {
  "kernelspec": {
   "display_name": "Python 3",
   "language": "python",
   "name": "python3"
  },
  "language_info": {
   "codemirror_mode": {
    "name": "ipython",
    "version": 3
   },
   "file_extension": ".py",
   "mimetype": "text/x-python",
   "name": "python",
   "nbconvert_exporter": "python",
   "pygments_lexer": "ipython3",
   "version": "3.7.4"
  }
 },
 "nbformat": 4,
 "nbformat_minor": 2
}
