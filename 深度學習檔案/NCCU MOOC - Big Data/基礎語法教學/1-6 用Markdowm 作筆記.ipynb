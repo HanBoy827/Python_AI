{
 "cells": [
  {
   "cell_type": "markdown",
   "metadata": {},
   "source": [
    "## Markdowm 作筆記的語法"
   ]
  },
  {
   "cell_type": "raw",
   "metadata": {},
   "source": [
    "# Markdowm切換快速鍵：Ctrl+m +m 或 esc+m(Help -> Keyboard Shortcuts介紹快捷鍵)\n",
    "# Markdowm標題語法： #標題文字  ##次標題\n",
    "# Markdowm分項語法： *項目內容 或 -項目內容\n",
    "# Markdowm超連結語法：[連結名稱](超連結)\n",
    "# Markdowm圖片插入語法：![圖片名稱](圖片連結)\n",
    "# 在Markdowm裡面使用 LaTex(隨文模式)：$你的 LaTex數學語法$\n",
    "# 在Markdowm裡面使用 LaTex(置中強調)：$$你的 LaTex數學語法$$\n",
    "# HackMD 好用的 Markdown筆記本\n",
    "# LaTexMathShort 可以找到很多數學符號的 LaTex語法"
   ]
  },
  {
   "cell_type": "markdown",
   "metadata": {},
   "source": [
    "# 標題文字\n",
    "## 次標題\n",
    "內文"
   ]
  },
  {
   "cell_type": "markdown",
   "metadata": {},
   "source": [
    "## 分項說明\n",
    "* 他是豬\n",
    "* 大肥豬\n",
    "* 一直睡"
   ]
  },
  {
   "cell_type": "markdown",
   "metadata": {},
   "source": [
    "## 連結\n",
    "[Google](https://www.google.com.tw/?gws_rd=ssl)"
   ]
  },
  {
   "cell_type": "markdown",
   "metadata": {},
   "source": [
    "## 插入圖片\n",
    "* 照片只有png可以，jpg不可以\n",
    "* 檔案必須在同一資料夾\n",
    "![台灣黑熊](bear.png)"
   ]
  },
  {
   "cell_type": "markdown",
   "metadata": {},
   "source": [
    "## 打數學符號\n",
    "有一個函數: $f(x)=x^3+2x^2+5$\n",
    "$$\\int_a^b f(x) \\, dx$$"
   ]
  }
 ],
 "metadata": {
  "kernelspec": {
   "display_name": "Python 3",
   "language": "python",
   "name": "python3"
  },
  "language_info": {
   "codemirror_mode": {
    "name": "ipython",
    "version": 3
   },
   "file_extension": ".py",
   "mimetype": "text/x-python",
   "name": "python",
   "nbconvert_exporter": "python",
   "pygments_lexer": "ipython3",
   "version": "3.7.4"
  }
 },
 "nbformat": 4,
 "nbformat_minor": 2
}
