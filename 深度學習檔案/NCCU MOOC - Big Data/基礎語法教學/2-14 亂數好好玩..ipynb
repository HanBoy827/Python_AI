{
 "cells": [
  {
   "cell_type": "code",
   "execution_count": 1,
   "metadata": {},
   "outputs": [
    {
     "name": "stdout",
     "output_type": "stream",
     "text": [
      "Populating the interactive namespace from numpy and matplotlib\n"
     ]
    }
   ],
   "source": [
    "%pylab inline"
   ]
  },
  {
   "cell_type": "code",
   "execution_count": 2,
   "metadata": {},
   "outputs": [
    {
     "data": {
      "text/plain": [
       "20"
      ]
     },
     "execution_count": 2,
     "metadata": {},
     "output_type": "execute_result"
    }
   ],
   "source": [
    "randint(3,21)   # 隨便取3到20的整數"
   ]
  },
  {
   "cell_type": "code",
   "execution_count": 3,
   "metadata": {},
   "outputs": [
    {
     "name": "stdout",
     "output_type": "stream",
     "text": [
      "                                            *\n",
      "                          *\n",
      "      *\n",
      "    *\n",
      "                                         *\n",
      "                                *\n",
      "                      *\n",
      "                                     *\n",
      "                                *\n",
      "                                            *\n"
     ]
    }
   ],
   "source": [
    "for i in range(10):\n",
    "    k = randint(1, 50)\n",
    "    print(\" \"*k+\"*\")"
   ]
  },
  {
   "cell_type": "markdown",
   "metadata": {},
   "source": [
    "# HW"
   ]
  },
  {
   "cell_type": "code",
   "execution_count": 4,
   "metadata": {},
   "outputs": [
    {
     "name": "stdout",
     "output_type": "stream",
     "text": [
      "猜猜看數字80\n",
      "太大了\n",
      "猜猜看數字50\n",
      "太大了\n",
      "猜猜看數字25\n",
      "太小了\n",
      "猜猜看數字37\n",
      "太大了\n",
      "猜猜看數字30\n",
      "太大了\n",
      "猜猜看數字28\n",
      "答對了\n",
      "遊戲結束\n"
     ]
    }
   ],
   "source": [
    "ans = randint(1,101)\n",
    "for i in range(10):\n",
    "    a = int(input(\"猜猜看數字\"))\n",
    "    if ans > a:\n",
    "        print(\"太小了\")\n",
    "    elif ans < a:\n",
    "        print(\"太大了\")\n",
    "    else:\n",
    "        print(\"答對了\")\n",
    "        break\n",
    "print(\"遊戲結束\")"
   ]
  }
 ],
 "metadata": {
  "kernelspec": {
   "display_name": "Python 3",
   "language": "python",
   "name": "python3"
  },
  "language_info": {
   "codemirror_mode": {
    "name": "ipython",
    "version": 3
   },
   "file_extension": ".py",
   "mimetype": "text/x-python",
   "name": "python",
   "nbconvert_exporter": "python",
   "pygments_lexer": "ipython3",
   "version": "3.7.4"
  }
 },
 "nbformat": 4,
 "nbformat_minor": 2
}
