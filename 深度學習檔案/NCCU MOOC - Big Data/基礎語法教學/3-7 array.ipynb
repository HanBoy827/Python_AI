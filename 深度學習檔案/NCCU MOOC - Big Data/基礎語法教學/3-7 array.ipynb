{
 "cells": [
  {
   "cell_type": "markdown",
   "metadata": {},
   "source": [
    "# 3-7 Array 真是太炫了\n",
    "* 數據分析不到最後關頭絕不輕言使用list，一定要用array 這種向量的處理方式\n",
    "* 數據分析能不用迴圈就不用迴圈(影響計算速度)"
   ]
  },
  {
   "cell_type": "code",
   "execution_count": 1,
   "metadata": {},
   "outputs": [],
   "source": [
    "%matplotlib inline\n",
    "import numpy as np\n",
    "import matplotlib.pyplot as plt"
   ]
  },
  {
   "cell_type": "code",
   "execution_count": 2,
   "metadata": {},
   "outputs": [],
   "source": [
    "p = [1096.95, 596.95, 896.95]"
   ]
  },
  {
   "cell_type": "code",
   "execution_count": 3,
   "metadata": {},
   "outputs": [],
   "source": [
    "c = 30.1"
   ]
  },
  {
   "cell_type": "code",
   "execution_count": 4,
   "metadata": {},
   "outputs": [],
   "source": [
    "# 把 list轉換成 numpy array的方法：np.array(你的list)\n",
    "prices = np.array(p)"
   ]
  },
  {
   "cell_type": "code",
   "execution_count": 5,
   "metadata": {},
   "outputs": [
    {
     "data": {
      "text/plain": [
       "array([1096.95,  596.95,  896.95])"
      ]
     },
     "execution_count": 5,
     "metadata": {},
     "output_type": "execute_result"
    }
   ],
   "source": [
    "prices"
   ]
  },
  {
   "cell_type": "code",
   "execution_count": 6,
   "metadata": {},
   "outputs": [
    {
     "name": "stdout",
     "output_type": "stream",
     "text": [
      "[1096.95  596.95  896.95]\n"
     ]
    }
   ],
   "source": [
    "print(prices)"
   ]
  },
  {
   "cell_type": "code",
   "execution_count": 7,
   "metadata": {},
   "outputs": [
    {
     "data": {
      "text/plain": [
       "array([33018.195, 17968.195, 26998.195])"
      ]
     },
     "execution_count": 7,
     "metadata": {},
     "output_type": "execute_result"
    }
   ],
   "source": [
    "prices*c   # array可以做類似向量的運算"
   ]
  },
  {
   "cell_type": "markdown",
   "metadata": {},
   "source": [
    "# 3-8 用array算成績(加權和)"
   ]
  },
  {
   "cell_type": "code",
   "execution_count": 8,
   "metadata": {},
   "outputs": [],
   "source": [
    "%matplotlib inline\n",
    "import numpy as np\n",
    "import matplotlib.pyplot as plt"
   ]
  },
  {
   "cell_type": "code",
   "execution_count": 9,
   "metadata": {},
   "outputs": [],
   "source": [
    "grades = np.array([85,70,82])"
   ]
  },
  {
   "cell_type": "code",
   "execution_count": 10,
   "metadata": {},
   "outputs": [],
   "source": [
    "weights = np.array([0.3,0.4,0.3])"
   ]
  },
  {
   "cell_type": "code",
   "execution_count": 11,
   "metadata": {},
   "outputs": [],
   "source": [
    "g = grades * weights # array可以將個別的位置相乘"
   ]
  },
  {
   "cell_type": "code",
   "execution_count": 12,
   "metadata": {},
   "outputs": [
    {
     "data": {
      "text/plain": [
       "array([25.5, 28. , 24.6])"
      ]
     },
     "execution_count": 12,
     "metadata": {},
     "output_type": "execute_result"
    }
   ],
   "source": [
    "g"
   ]
  },
  {
   "cell_type": "code",
   "execution_count": 13,
   "metadata": {},
   "outputs": [
    {
     "data": {
      "text/plain": [
       "78.1"
      ]
     },
     "execution_count": 13,
     "metadata": {},
     "output_type": "execute_result"
    }
   ],
   "source": [
    "g.sum() # array.sum()為array各值的和"
   ]
  },
  {
   "cell_type": "code",
   "execution_count": 14,
   "metadata": {},
   "outputs": [
    {
     "data": {
      "text/plain": [
       "78.1"
      ]
     },
     "execution_count": 14,
     "metadata": {},
     "output_type": "execute_result"
    }
   ],
   "source": [
    "# 快速版\n",
    "np.dot(grades,weights) # np.dot(array1,array2)：將array1跟array2做內積"
   ]
  },
  {
   "cell_type": "markdown",
   "metadata": {},
   "source": [
    "# 3-9 算全班成績(Python 的 Broadcasting)"
   ]
  },
  {
   "cell_type": "code",
   "execution_count": 15,
   "metadata": {},
   "outputs": [],
   "source": [
    "%matplotlib inline\n",
    "import numpy as np\n",
    "import matplotlib.pyplot as plt"
   ]
  },
  {
   "cell_type": "code",
   "execution_count": 16,
   "metadata": {},
   "outputs": [],
   "source": [
    "# array不只可以是一維的也可以是二維的\n",
    "grades = np.array([[85,70,82],\n",
    "          [75,92,85],\n",
    "          [66,67,64],\n",
    "          [87,94,60]])"
   ]
  },
  {
   "cell_type": "code",
   "execution_count": 17,
   "metadata": {
    "scrolled": true
   },
   "outputs": [
    {
     "data": {
      "text/plain": [
       "array([[85, 70, 82],\n",
       "       [75, 92, 85],\n",
       "       [66, 67, 64],\n",
       "       [87, 94, 60]])"
      ]
     },
     "execution_count": 17,
     "metadata": {},
     "output_type": "execute_result"
    }
   ],
   "source": [
    "grades"
   ]
  },
  {
   "cell_type": "code",
   "execution_count": 18,
   "metadata": {},
   "outputs": [],
   "source": [
    "weights = np.array([0.3,0.4,0.3])"
   ]
  },
  {
   "cell_type": "code",
   "execution_count": 19,
   "metadata": {},
   "outputs": [
    {
     "data": {
      "text/plain": [
       "array([78.1, 84.8, 65.8, 81.7])"
      ]
     },
     "execution_count": 19,
     "metadata": {},
     "output_type": "execute_result"
    }
   ],
   "source": [
    "np.dot(grades,weights)"
   ]
  },
  {
   "cell_type": "markdown",
   "metadata": {},
   "source": [
    "# 3-10 Array 大變身"
   ]
  },
  {
   "cell_type": "code",
   "execution_count": 20,
   "metadata": {},
   "outputs": [],
   "source": [
    "%matplotlib inline\n",
    "import numpy as np\n",
    "import matplotlib.pyplot as plt"
   ]
  },
  {
   "cell_type": "code",
   "execution_count": 21,
   "metadata": {},
   "outputs": [],
   "source": [
    "A = np.random.randn(100)   # 平均值是 0,標準差是 1"
   ]
  },
  {
   "cell_type": "code",
   "execution_count": 22,
   "metadata": {},
   "outputs": [
    {
     "data": {
      "text/plain": [
       "array([-0.78472691,  0.83045415, -0.85206294, -1.26946903,  0.73337872,\n",
       "       -0.7500307 , -0.4523185 ,  0.60204268,  0.82463223,  0.43322636,\n",
       "       -1.32037301,  0.41769868,  0.82615783,  0.58025601,  0.45721675,\n",
       "       -0.45769765,  1.14853949,  0.95507695, -1.94017933, -0.1613018 ,\n",
       "        0.51689439, -0.37549118, -0.70640625,  0.2845005 , -1.19468592,\n",
       "        1.84270153, -0.59789108, -1.09088311,  0.05328051,  1.22962014,\n",
       "       -2.40058268, -0.61834179, -1.02295784, -0.76919452,  0.58345994,\n",
       "        0.14554701, -0.29185645, -0.18546575,  0.48806493,  0.09055388,\n",
       "        0.23232889, -0.24172341, -0.05821783,  1.15614579, -2.534032  ,\n",
       "        0.63148968, -0.8716297 ,  2.43385489, -0.16023612, -0.79435957,\n",
       "        0.16331926, -0.83666981,  2.19266314, -0.53583906,  0.89969575,\n",
       "       -0.83848381,  0.07960598,  0.23969119,  1.16690451,  2.12365343,\n",
       "        0.54873717, -0.4983196 ,  0.60512016, -0.15894309,  2.14504234,\n",
       "       -1.49586227, -0.29533563,  0.39102237, -0.8692592 ,  0.4102139 ,\n",
       "       -1.39784669, -0.49113624,  0.98695614,  1.05644434,  1.77706141,\n",
       "        1.60405739,  0.36157397,  0.4872059 , -0.47259566, -0.51291402,\n",
       "        1.41730874,  0.70923355,  1.23557987, -0.27484292,  1.9099918 ,\n",
       "        1.67808808,  2.0694726 , -0.32894851,  0.94064977,  1.32108428,\n",
       "        0.61495285, -0.50079565, -0.1181284 ,  0.20840879, -0.60568988,\n",
       "       -0.17196739, -2.45358963,  0.33827307,  0.05168659, -0.36920936])"
      ]
     },
     "execution_count": 22,
     "metadata": {},
     "output_type": "execute_result"
    }
   ],
   "source": [
    "A"
   ]
  },
  {
   "cell_type": "code",
   "execution_count": 23,
   "metadata": {},
   "outputs": [],
   "source": [
    "A = 10*A+50   # 平均值是 50,標準差是 10"
   ]
  },
  {
   "cell_type": "code",
   "execution_count": 24,
   "metadata": {},
   "outputs": [
    {
     "data": {
      "text/plain": [
       "array([42.15273093, 58.30454153, 41.47937064, 37.30530967, 57.33378723,\n",
       "       42.49969305, 45.47681501, 56.02042681, 58.24632231, 54.3322636 ,\n",
       "       36.7962699 , 54.17698685, 58.2615783 , 55.80256009, 54.57216753,\n",
       "       45.42302349, 61.48539489, 59.55076949, 30.59820674, 48.38698203,\n",
       "       55.16894394, 46.24508822, 42.93593751, 52.84500504, 38.05314078,\n",
       "       68.42701528, 44.02108916, 39.09116888, 50.53280512, 62.29620141,\n",
       "       25.99417324, 43.81658205, 39.77042156, 42.30805481, 55.83459937,\n",
       "       51.45547015, 47.08143553, 48.14534255, 54.88064928, 50.90553876,\n",
       "       52.32328891, 47.58276591, 49.41782169, 61.56145794, 24.65967996,\n",
       "       56.31489683, 41.28370305, 74.3385489 , 48.39763878, 42.05640433,\n",
       "       51.63319256, 41.63330186, 71.92663136, 44.64160939, 58.99695754,\n",
       "       41.61516186, 50.79605976, 52.39691192, 61.6690451 , 71.23653426,\n",
       "       55.48737174, 45.01680402, 56.05120159, 48.4105691 , 71.45042342,\n",
       "       35.04137734, 47.04664372, 53.91022374, 41.30740805, 54.10213895,\n",
       "       36.02153313, 45.08863764, 59.86956145, 60.56444343, 67.77061406,\n",
       "       66.04057393, 53.61573967, 54.87205896, 45.27404337, 44.87085977,\n",
       "       64.17308744, 57.09233548, 62.35579875, 47.25157076, 69.09991796,\n",
       "       66.7808808 , 70.69472601, 46.71051491, 59.40649774, 63.21084279,\n",
       "       56.14952855, 44.99204351, 48.81871597, 52.08408794, 43.94310122,\n",
       "       48.28032611, 25.46410366, 53.38273071, 50.51686586, 46.30790637])"
      ]
     },
     "execution_count": 24,
     "metadata": {},
     "output_type": "execute_result"
    }
   ],
   "source": [
    "A"
   ]
  },
  {
   "cell_type": "code",
   "execution_count": 25,
   "metadata": {},
   "outputs": [
    {
     "data": {
      "text/plain": [
       "(100,)"
      ]
     },
     "execution_count": 25,
     "metadata": {},
     "output_type": "execute_result"
    }
   ],
   "source": [
    "A.shape # arrat.shape可以看 array的形狀"
   ]
  },
  {
   "cell_type": "code",
   "execution_count": 26,
   "metadata": {},
   "outputs": [],
   "source": [
    "# 更改array形狀的方法：array.shape=(新的形狀)\n",
    "A.shape = [20,5] # 更改array形狀成 20*5的矩陣"
   ]
  },
  {
   "cell_type": "code",
   "execution_count": 27,
   "metadata": {},
   "outputs": [
    {
     "data": {
      "text/plain": [
       "array([[42.15273093, 58.30454153, 41.47937064, 37.30530967, 57.33378723],\n",
       "       [42.49969305, 45.47681501, 56.02042681, 58.24632231, 54.3322636 ],\n",
       "       [36.7962699 , 54.17698685, 58.2615783 , 55.80256009, 54.57216753],\n",
       "       [45.42302349, 61.48539489, 59.55076949, 30.59820674, 48.38698203],\n",
       "       [55.16894394, 46.24508822, 42.93593751, 52.84500504, 38.05314078],\n",
       "       [68.42701528, 44.02108916, 39.09116888, 50.53280512, 62.29620141],\n",
       "       [25.99417324, 43.81658205, 39.77042156, 42.30805481, 55.83459937],\n",
       "       [51.45547015, 47.08143553, 48.14534255, 54.88064928, 50.90553876],\n",
       "       [52.32328891, 47.58276591, 49.41782169, 61.56145794, 24.65967996],\n",
       "       [56.31489683, 41.28370305, 74.3385489 , 48.39763878, 42.05640433],\n",
       "       [51.63319256, 41.63330186, 71.92663136, 44.64160939, 58.99695754],\n",
       "       [41.61516186, 50.79605976, 52.39691192, 61.6690451 , 71.23653426],\n",
       "       [55.48737174, 45.01680402, 56.05120159, 48.4105691 , 71.45042342],\n",
       "       [35.04137734, 47.04664372, 53.91022374, 41.30740805, 54.10213895],\n",
       "       [36.02153313, 45.08863764, 59.86956145, 60.56444343, 67.77061406],\n",
       "       [66.04057393, 53.61573967, 54.87205896, 45.27404337, 44.87085977],\n",
       "       [64.17308744, 57.09233548, 62.35579875, 47.25157076, 69.09991796],\n",
       "       [66.7808808 , 70.69472601, 46.71051491, 59.40649774, 63.21084279],\n",
       "       [56.14952855, 44.99204351, 48.81871597, 52.08408794, 43.94310122],\n",
       "       [48.28032611, 25.46410366, 53.38273071, 50.51686586, 46.30790637]])"
      ]
     },
     "execution_count": 27,
     "metadata": {},
     "output_type": "execute_result"
    }
   ],
   "source": [
    "A"
   ]
  },
  {
   "cell_type": "code",
   "execution_count": 28,
   "metadata": {},
   "outputs": [
    {
     "data": {
      "text/plain": [
       "array([[42.15273093],\n",
       "       [58.30454153],\n",
       "       [41.47937064],\n",
       "       [37.30530967],\n",
       "       [57.33378723],\n",
       "       [42.49969305],\n",
       "       [45.47681501],\n",
       "       [56.02042681],\n",
       "       [58.24632231],\n",
       "       [54.3322636 ],\n",
       "       [36.7962699 ],\n",
       "       [54.17698685],\n",
       "       [58.2615783 ],\n",
       "       [55.80256009],\n",
       "       [54.57216753],\n",
       "       [45.42302349],\n",
       "       [61.48539489],\n",
       "       [59.55076949],\n",
       "       [30.59820674],\n",
       "       [48.38698203],\n",
       "       [55.16894394],\n",
       "       [46.24508822],\n",
       "       [42.93593751],\n",
       "       [52.84500504],\n",
       "       [38.05314078],\n",
       "       [68.42701528],\n",
       "       [44.02108916],\n",
       "       [39.09116888],\n",
       "       [50.53280512],\n",
       "       [62.29620141],\n",
       "       [25.99417324],\n",
       "       [43.81658205],\n",
       "       [39.77042156],\n",
       "       [42.30805481],\n",
       "       [55.83459937],\n",
       "       [51.45547015],\n",
       "       [47.08143553],\n",
       "       [48.14534255],\n",
       "       [54.88064928],\n",
       "       [50.90553876],\n",
       "       [52.32328891],\n",
       "       [47.58276591],\n",
       "       [49.41782169],\n",
       "       [61.56145794],\n",
       "       [24.65967996],\n",
       "       [56.31489683],\n",
       "       [41.28370305],\n",
       "       [74.3385489 ],\n",
       "       [48.39763878],\n",
       "       [42.05640433],\n",
       "       [51.63319256],\n",
       "       [41.63330186],\n",
       "       [71.92663136],\n",
       "       [44.64160939],\n",
       "       [58.99695754],\n",
       "       [41.61516186],\n",
       "       [50.79605976],\n",
       "       [52.39691192],\n",
       "       [61.6690451 ],\n",
       "       [71.23653426],\n",
       "       [55.48737174],\n",
       "       [45.01680402],\n",
       "       [56.05120159],\n",
       "       [48.4105691 ],\n",
       "       [71.45042342],\n",
       "       [35.04137734],\n",
       "       [47.04664372],\n",
       "       [53.91022374],\n",
       "       [41.30740805],\n",
       "       [54.10213895],\n",
       "       [36.02153313],\n",
       "       [45.08863764],\n",
       "       [59.86956145],\n",
       "       [60.56444343],\n",
       "       [67.77061406],\n",
       "       [66.04057393],\n",
       "       [53.61573967],\n",
       "       [54.87205896],\n",
       "       [45.27404337],\n",
       "       [44.87085977],\n",
       "       [64.17308744],\n",
       "       [57.09233548],\n",
       "       [62.35579875],\n",
       "       [47.25157076],\n",
       "       [69.09991796],\n",
       "       [66.7808808 ],\n",
       "       [70.69472601],\n",
       "       [46.71051491],\n",
       "       [59.40649774],\n",
       "       [63.21084279],\n",
       "       [56.14952855],\n",
       "       [44.99204351],\n",
       "       [48.81871597],\n",
       "       [52.08408794],\n",
       "       [43.94310122],\n",
       "       [48.28032611],\n",
       "       [25.46410366],\n",
       "       [53.38273071],\n",
       "       [50.51686586],\n",
       "       [46.30790637]])"
      ]
     },
     "execution_count": 28,
     "metadata": {},
     "output_type": "execute_result"
    }
   ],
   "source": [
    "# 另一個改變 array形狀的方法(會另外產生一個array)：array.reshape(新的形狀)\n",
    "A.reshape(100,1)"
   ]
  },
  {
   "cell_type": "code",
   "execution_count": 29,
   "metadata": {},
   "outputs": [
    {
     "data": {
      "text/plain": [
       "array([[42.15273093, 58.30454153, 41.47937064, 37.30530967, 57.33378723],\n",
       "       [42.49969305, 45.47681501, 56.02042681, 58.24632231, 54.3322636 ],\n",
       "       [36.7962699 , 54.17698685, 58.2615783 , 55.80256009, 54.57216753],\n",
       "       [45.42302349, 61.48539489, 59.55076949, 30.59820674, 48.38698203],\n",
       "       [55.16894394, 46.24508822, 42.93593751, 52.84500504, 38.05314078],\n",
       "       [68.42701528, 44.02108916, 39.09116888, 50.53280512, 62.29620141],\n",
       "       [25.99417324, 43.81658205, 39.77042156, 42.30805481, 55.83459937],\n",
       "       [51.45547015, 47.08143553, 48.14534255, 54.88064928, 50.90553876],\n",
       "       [52.32328891, 47.58276591, 49.41782169, 61.56145794, 24.65967996],\n",
       "       [56.31489683, 41.28370305, 74.3385489 , 48.39763878, 42.05640433],\n",
       "       [51.63319256, 41.63330186, 71.92663136, 44.64160939, 58.99695754],\n",
       "       [41.61516186, 50.79605976, 52.39691192, 61.6690451 , 71.23653426],\n",
       "       [55.48737174, 45.01680402, 56.05120159, 48.4105691 , 71.45042342],\n",
       "       [35.04137734, 47.04664372, 53.91022374, 41.30740805, 54.10213895],\n",
       "       [36.02153313, 45.08863764, 59.86956145, 60.56444343, 67.77061406],\n",
       "       [66.04057393, 53.61573967, 54.87205896, 45.27404337, 44.87085977],\n",
       "       [64.17308744, 57.09233548, 62.35579875, 47.25157076, 69.09991796],\n",
       "       [66.7808808 , 70.69472601, 46.71051491, 59.40649774, 63.21084279],\n",
       "       [56.14952855, 44.99204351, 48.81871597, 52.08408794, 43.94310122],\n",
       "       [48.28032611, 25.46410366, 53.38273071, 50.51686586, 46.30790637]])"
      ]
     },
     "execution_count": 29,
     "metadata": {},
     "output_type": "execute_result"
    }
   ],
   "source": [
    "# reshape會產生新的維度出來, 所以原來的Ａ並不會改變\n",
    "A"
   ]
  },
  {
   "cell_type": "code",
   "execution_count": 30,
   "metadata": {},
   "outputs": [],
   "source": [
    "A = A.reshape(100,1)"
   ]
  },
  {
   "cell_type": "code",
   "execution_count": 31,
   "metadata": {},
   "outputs": [
    {
     "data": {
      "text/plain": [
       "array([[42.15273093],\n",
       "       [58.30454153],\n",
       "       [41.47937064],\n",
       "       [37.30530967],\n",
       "       [57.33378723],\n",
       "       [42.49969305],\n",
       "       [45.47681501],\n",
       "       [56.02042681],\n",
       "       [58.24632231],\n",
       "       [54.3322636 ],\n",
       "       [36.7962699 ],\n",
       "       [54.17698685],\n",
       "       [58.2615783 ],\n",
       "       [55.80256009],\n",
       "       [54.57216753],\n",
       "       [45.42302349],\n",
       "       [61.48539489],\n",
       "       [59.55076949],\n",
       "       [30.59820674],\n",
       "       [48.38698203],\n",
       "       [55.16894394],\n",
       "       [46.24508822],\n",
       "       [42.93593751],\n",
       "       [52.84500504],\n",
       "       [38.05314078],\n",
       "       [68.42701528],\n",
       "       [44.02108916],\n",
       "       [39.09116888],\n",
       "       [50.53280512],\n",
       "       [62.29620141],\n",
       "       [25.99417324],\n",
       "       [43.81658205],\n",
       "       [39.77042156],\n",
       "       [42.30805481],\n",
       "       [55.83459937],\n",
       "       [51.45547015],\n",
       "       [47.08143553],\n",
       "       [48.14534255],\n",
       "       [54.88064928],\n",
       "       [50.90553876],\n",
       "       [52.32328891],\n",
       "       [47.58276591],\n",
       "       [49.41782169],\n",
       "       [61.56145794],\n",
       "       [24.65967996],\n",
       "       [56.31489683],\n",
       "       [41.28370305],\n",
       "       [74.3385489 ],\n",
       "       [48.39763878],\n",
       "       [42.05640433],\n",
       "       [51.63319256],\n",
       "       [41.63330186],\n",
       "       [71.92663136],\n",
       "       [44.64160939],\n",
       "       [58.99695754],\n",
       "       [41.61516186],\n",
       "       [50.79605976],\n",
       "       [52.39691192],\n",
       "       [61.6690451 ],\n",
       "       [71.23653426],\n",
       "       [55.48737174],\n",
       "       [45.01680402],\n",
       "       [56.05120159],\n",
       "       [48.4105691 ],\n",
       "       [71.45042342],\n",
       "       [35.04137734],\n",
       "       [47.04664372],\n",
       "       [53.91022374],\n",
       "       [41.30740805],\n",
       "       [54.10213895],\n",
       "       [36.02153313],\n",
       "       [45.08863764],\n",
       "       [59.86956145],\n",
       "       [60.56444343],\n",
       "       [67.77061406],\n",
       "       [66.04057393],\n",
       "       [53.61573967],\n",
       "       [54.87205896],\n",
       "       [45.27404337],\n",
       "       [44.87085977],\n",
       "       [64.17308744],\n",
       "       [57.09233548],\n",
       "       [62.35579875],\n",
       "       [47.25157076],\n",
       "       [69.09991796],\n",
       "       [66.7808808 ],\n",
       "       [70.69472601],\n",
       "       [46.71051491],\n",
       "       [59.40649774],\n",
       "       [63.21084279],\n",
       "       [56.14952855],\n",
       "       [44.99204351],\n",
       "       [48.81871597],\n",
       "       [52.08408794],\n",
       "       [43.94310122],\n",
       "       [48.28032611],\n",
       "       [25.46410366],\n",
       "       [53.38273071],\n",
       "       [50.51686586],\n",
       "       [46.30790637]])"
      ]
     },
     "execution_count": 31,
     "metadata": {},
     "output_type": "execute_result"
    }
   ],
   "source": [
    "A"
   ]
  },
  {
   "cell_type": "markdown",
   "metadata": {},
   "source": [
    "# 3-11 Array 快速生成法"
   ]
  },
  {
   "cell_type": "code",
   "execution_count": 32,
   "metadata": {},
   "outputs": [],
   "source": [
    "%matplotlib inline\n",
    "import numpy as np\n",
    "import matplotlib.pyplot as plt"
   ]
  },
  {
   "cell_type": "code",
   "execution_count": 33,
   "metadata": {},
   "outputs": [],
   "source": [
    "# 快速生成一定範圍的array方法：\n",
    "a=[[x,y] for x in range(10) for y in range (5)]  # 資料型態為list"
   ]
  },
  {
   "cell_type": "code",
   "execution_count": 34,
   "metadata": {},
   "outputs": [],
   "source": [
    "a = np.array(a)"
   ]
  },
  {
   "cell_type": "code",
   "execution_count": 35,
   "metadata": {},
   "outputs": [
    {
     "data": {
      "text/plain": [
       "array([[0, 0],\n",
       "       [0, 1],\n",
       "       [0, 2],\n",
       "       [0, 3],\n",
       "       [0, 4],\n",
       "       [1, 0],\n",
       "       [1, 1],\n",
       "       [1, 2],\n",
       "       [1, 3],\n",
       "       [1, 4],\n",
       "       [2, 0],\n",
       "       [2, 1],\n",
       "       [2, 2],\n",
       "       [2, 3],\n",
       "       [2, 4],\n",
       "       [3, 0],\n",
       "       [3, 1],\n",
       "       [3, 2],\n",
       "       [3, 3],\n",
       "       [3, 4],\n",
       "       [4, 0],\n",
       "       [4, 1],\n",
       "       [4, 2],\n",
       "       [4, 3],\n",
       "       [4, 4],\n",
       "       [5, 0],\n",
       "       [5, 1],\n",
       "       [5, 2],\n",
       "       [5, 3],\n",
       "       [5, 4],\n",
       "       [6, 0],\n",
       "       [6, 1],\n",
       "       [6, 2],\n",
       "       [6, 3],\n",
       "       [6, 4],\n",
       "       [7, 0],\n",
       "       [7, 1],\n",
       "       [7, 2],\n",
       "       [7, 3],\n",
       "       [7, 4],\n",
       "       [8, 0],\n",
       "       [8, 1],\n",
       "       [8, 2],\n",
       "       [8, 3],\n",
       "       [8, 4],\n",
       "       [9, 0],\n",
       "       [9, 1],\n",
       "       [9, 2],\n",
       "       [9, 3],\n",
       "       [9, 4]])"
      ]
     },
     "execution_count": 35,
     "metadata": {},
     "output_type": "execute_result"
    }
   ],
   "source": [
    "a"
   ]
  },
  {
   "cell_type": "code",
   "execution_count": 36,
   "metadata": {
    "scrolled": true
   },
   "outputs": [
    {
     "data": {
      "text/plain": [
       "array([0., 0., 0., 0., 0., 0., 0., 0., 0., 0.])"
      ]
     },
     "execution_count": 36,
     "metadata": {},
     "output_type": "execute_result"
    }
   ],
   "source": [
    "# 生成一個值都是零的array：np.zeros(你要的形狀)\n",
    "np.zeros(10)"
   ]
  },
  {
   "cell_type": "code",
   "execution_count": 37,
   "metadata": {},
   "outputs": [
    {
     "data": {
      "text/plain": [
       "array([[0., 0., 0., 0.],\n",
       "       [0., 0., 0., 0.],\n",
       "       [0., 0., 0., 0.]])"
      ]
     },
     "execution_count": 37,
     "metadata": {},
     "output_type": "execute_result"
    }
   ],
   "source": [
    "np.zeros((3,4))"
   ]
  },
  {
   "cell_type": "code",
   "execution_count": 38,
   "metadata": {},
   "outputs": [
    {
     "data": {
      "text/plain": [
       "array([1., 1., 1., 1., 1.])"
      ]
     },
     "execution_count": 38,
     "metadata": {},
     "output_type": "execute_result"
    }
   ],
   "source": [
    "# 生成一個值都是一的array：np.ones(你要的形狀)\n",
    "np.ones(5)"
   ]
  },
  {
   "cell_type": "code",
   "execution_count": 39,
   "metadata": {},
   "outputs": [
    {
     "data": {
      "text/plain": [
       "array([[1., 1., 1., 1., 1.],\n",
       "       [1., 1., 1., 1., 1.],\n",
       "       [1., 1., 1., 1., 1.],\n",
       "       [1., 1., 1., 1., 1.],\n",
       "       [1., 1., 1., 1., 1.]])"
      ]
     },
     "execution_count": 39,
     "metadata": {},
     "output_type": "execute_result"
    }
   ],
   "source": [
    "np.ones((5,5))"
   ]
  },
  {
   "cell_type": "code",
   "execution_count": 40,
   "metadata": {
    "scrolled": true
   },
   "outputs": [
    {
     "data": {
      "text/plain": [
       "array([[1., 0., 0.],\n",
       "       [0., 1., 0.],\n",
       "       [0., 0., 1.]])"
      ]
     },
     "execution_count": 40,
     "metadata": {},
     "output_type": "execute_result"
    }
   ],
   "source": [
    "# 生成一個 n*n的單位矩陣：np.eye(n)\n",
    "np.eye(3)"
   ]
  },
  {
   "cell_type": "code",
   "execution_count": 41,
   "metadata": {},
   "outputs": [
    {
     "data": {
      "text/plain": [
       "array([0, 1, 2])"
      ]
     },
     "execution_count": 41,
     "metadata": {},
     "output_type": "execute_result"
    }
   ],
   "source": [
    "# 生成一個 0到 n的單位矩陣：np.arange(n)\n",
    "np.arange(3)"
   ]
  },
  {
   "cell_type": "code",
   "execution_count": 42,
   "metadata": {},
   "outputs": [
    {
     "data": {
      "text/plain": [
       "array([5, 6, 7])"
      ]
     },
     "execution_count": 42,
     "metadata": {},
     "output_type": "execute_result"
    }
   ],
   "source": [
    "np.arange(3)+5"
   ]
  },
  {
   "cell_type": "code",
   "execution_count": 43,
   "metadata": {},
   "outputs": [
    {
     "data": {
      "text/plain": [
       "array([[1., 2., 3.],\n",
       "       [1., 2., 3.],\n",
       "       [1., 2., 3.]])"
      ]
     },
     "execution_count": 43,
     "metadata": {},
     "output_type": "execute_result"
    }
   ],
   "source": [
    "np.ones((3,3))+np.arange(3)"
   ]
  },
  {
   "cell_type": "code",
   "execution_count": 44,
   "metadata": {},
   "outputs": [
    {
     "data": {
      "text/plain": [
       "array([[0, 1, 2],\n",
       "       [1, 2, 3],\n",
       "       [2, 3, 4]])"
      ]
     },
     "execution_count": 44,
     "metadata": {},
     "output_type": "execute_result"
    }
   ],
   "source": [
    "np.arange(3).reshape(3,1)+np.arange(3)"
   ]
  },
  {
   "cell_type": "markdown",
   "metadata": {},
   "source": [
    "# 3-12 Array 畫圖超方便"
   ]
  },
  {
   "cell_type": "code",
   "execution_count": 45,
   "metadata": {},
   "outputs": [],
   "source": [
    "%matplotlib inline\n",
    "import numpy as np\n",
    "import matplotlib.pyplot as plt"
   ]
  },
  {
   "cell_type": "code",
   "execution_count": 46,
   "metadata": {},
   "outputs": [],
   "source": [
    "y = np.random.rand(50)"
   ]
  },
  {
   "cell_type": "code",
   "execution_count": 47,
   "metadata": {},
   "outputs": [
    {
     "data": {
      "text/plain": [
       "array([0.31916686, 0.93466027, 0.78251983, 0.70616602, 0.12597666,\n",
       "       0.54974723, 0.93795858, 0.30590166, 0.55489693, 0.38089515,\n",
       "       0.48948064, 0.53102935, 0.46687896, 0.58294183, 0.94751255,\n",
       "       0.89999062, 0.98619753, 0.70818164, 0.96488397, 0.40027346,\n",
       "       0.44910627, 0.29256991, 0.87383347, 0.23894535, 0.95236836,\n",
       "       0.09294476, 0.07409764, 0.84093445, 0.84903708, 0.72992856,\n",
       "       0.56804572, 0.08369046, 0.8547931 , 0.2324844 , 0.91624176,\n",
       "       0.48850053, 0.31953333, 0.41237418, 0.28959935, 0.7018392 ,\n",
       "       0.21453488, 0.16605681, 0.13114341, 0.84861584, 0.5487398 ,\n",
       "       0.72180314, 0.9381425 , 0.2640748 , 0.5498809 , 0.27351041])"
      ]
     },
     "execution_count": 47,
     "metadata": {},
     "output_type": "execute_result"
    }
   ],
   "source": [
    "y"
   ]
  },
  {
   "cell_type": "code",
   "execution_count": 48,
   "metadata": {},
   "outputs": [
    {
     "data": {
      "text/plain": [
       "[<matplotlib.lines.Line2D at 0x823a8d8608>]"
      ]
     },
     "execution_count": 48,
     "metadata": {},
     "output_type": "execute_result"
    },
    {
     "data": {
      "image/png": "[encoded data removed]",
      "text/plain": [
       "<Figure size 432x288 with 1 Axes>"
      ]
     },
     "metadata": {
      "needs_background": "light"
     },
     "output_type": "display_data"
    }
   ],
   "source": [
    "plt.plot(y)"
   ]
  },
  {
   "cell_type": "code",
   "execution_count": 49,
   "metadata": {},
   "outputs": [],
   "source": [
    "# 描點法的第一步 - 建立一連串的點：x = np.linspace(起始值,結束值,多少點),其中\"多少點\"預設為50\n",
    "x=np.linspace(0,10,100)   # 代表0-10取100個點(linspace生成出來的東西是array)"
   ]
  },
  {
   "cell_type": "code",
   "execution_count": 50,
   "metadata": {},
   "outputs": [
    {
     "data": {
      "text/plain": [
       "array([ 0.        ,  0.1010101 ,  0.2020202 ,  0.3030303 ,  0.4040404 ,\n",
       "        0.50505051,  0.60606061,  0.70707071,  0.80808081,  0.90909091,\n",
       "        1.01010101,  1.11111111,  1.21212121,  1.31313131,  1.41414141,\n",
       "        1.51515152,  1.61616162,  1.71717172,  1.81818182,  1.91919192,\n",
       "        2.02020202,  2.12121212,  2.22222222,  2.32323232,  2.42424242,\n",
       "        2.52525253,  2.62626263,  2.72727273,  2.82828283,  2.92929293,\n",
       "        3.03030303,  3.13131313,  3.23232323,  3.33333333,  3.43434343,\n",
       "        3.53535354,  3.63636364,  3.73737374,  3.83838384,  3.93939394,\n",
       "        4.04040404,  4.14141414,  4.24242424,  4.34343434,  4.44444444,\n",
       "        4.54545455,  4.64646465,  4.74747475,  4.84848485,  4.94949495,\n",
       "        5.05050505,  5.15151515,  5.25252525,  5.35353535,  5.45454545,\n",
       "        5.55555556,  5.65656566,  5.75757576,  5.85858586,  5.95959596,\n",
       "        6.06060606,  6.16161616,  6.26262626,  6.36363636,  6.46464646,\n",
       "        6.56565657,  6.66666667,  6.76767677,  6.86868687,  6.96969697,\n",
       "        7.07070707,  7.17171717,  7.27272727,  7.37373737,  7.47474747,\n",
       "        7.57575758,  7.67676768,  7.77777778,  7.87878788,  7.97979798,\n",
       "        8.08080808,  8.18181818,  8.28282828,  8.38383838,  8.48484848,\n",
       "        8.58585859,  8.68686869,  8.78787879,  8.88888889,  8.98989899,\n",
       "        9.09090909,  9.19191919,  9.29292929,  9.39393939,  9.49494949,\n",
       "        9.5959596 ,  9.6969697 ,  9.7979798 ,  9.8989899 , 10.        ])"
      ]
     },
     "execution_count": 50,
     "metadata": {},
     "output_type": "execute_result"
    }
   ],
   "source": [
    "x"
   ]
  },
  {
   "cell_type": "code",
   "execution_count": 51,
   "metadata": {},
   "outputs": [
    {
     "data": {
      "text/plain": [
       "[<matplotlib.lines.Line2D at 0x823046ee88>]"
      ]
     },
     "execution_count": 51,
     "metadata": {},
     "output_type": "execute_result"
    },
    {
     "data": {
      "image/png": "[encoded data removed]",
      "text/plain": [
       "<Figure size 432x288 with 1 Axes>"
      ]
     },
     "metadata": {
      "needs_background": "light"
     },
     "output_type": "display_data"
    }
   ],
   "source": [
    "# 直接對x計算相對應的函數值搭配 plt.plot( )就能畫圖了\n",
    "plt.plot(x, np.sin(x)+x)"
   ]
  },
  {
   "cell_type": "code",
   "execution_count": 52,
   "metadata": {},
   "outputs": [
    {
     "data": {
      "text/plain": [
       "[<matplotlib.lines.Line2D at 0x823ccc1f88>]"
      ]
     },
     "execution_count": 52,
     "metadata": {},
     "output_type": "execute_result"
    },
    {
     "data": {
      "image/png": "[encoded data removed]",
      "text/plain": [
       "<Figure size 432x288 with 1 Axes>"
      ]
     },
     "metadata": {
      "needs_background": "light"
     },
     "output_type": "display_data"
    }
   ],
   "source": [
    "plt.plot(x, np.sin(x)+x)\n",
    "plt.plot(x, np.cos(x))"
   ]
  },
  {
   "cell_type": "code",
   "execution_count": 53,
   "metadata": {},
   "outputs": [
    {
     "data": {
      "text/plain": [
       "<matplotlib.legend.Legend at 0x823cd0c7c8>"
      ]
     },
     "execution_count": 53,
     "metadata": {},
     "output_type": "execute_result"
    },
    {
     "data": {
      "image/png": "[encoded data removed]",
      "text/plain": [
       "<Figure size 432x288 with 1 Axes>"
      ]
     },
     "metadata": {
      "needs_background": "light"
     },
     "output_type": "display_data"
    }
   ],
   "source": [
    "plt.plot(x, np.sin(x))\n",
    "plt.plot(x, np.cos(x))\n",
    "\n",
    "plt.xlabel('x') #x軸名稱\n",
    "plt.ylabel('y') #y軸名稱\n",
    "plt.title('title') #標題\n",
    "plt.legend(['sin','cos']) #左下角的圖示"
   ]
  },
  {
   "cell_type": "markdown",
   "metadata": {},
   "source": [
    "# 3-13 Array 快篩法"
   ]
  },
  {
   "cell_type": "code",
   "execution_count": 54,
   "metadata": {},
   "outputs": [],
   "source": [
    "%matplotlib inline\n",
    "import numpy as np\n",
    "import matplotlib.pyplot as plt"
   ]
  },
  {
   "cell_type": "code",
   "execution_count": 55,
   "metadata": {},
   "outputs": [],
   "source": [
    "L = np.array([3, -2, 4, -5, 333, -555, -60])"
   ]
  },
  {
   "cell_type": "code",
   "execution_count": 56,
   "metadata": {},
   "outputs": [
    {
     "data": {
      "text/plain": [
       "array([False,  True, False,  True, False,  True,  True])"
      ]
     },
     "execution_count": 56,
     "metadata": {},
     "output_type": "execute_result"
    }
   ],
   "source": [
    "L<0"
   ]
  },
  {
   "cell_type": "code",
   "execution_count": 57,
   "metadata": {},
   "outputs": [
    {
     "data": {
      "text/plain": [
       "3"
      ]
     },
     "execution_count": 57,
     "metadata": {},
     "output_type": "execute_result"
    }
   ],
   "source": [
    "L[0]"
   ]
  },
  {
   "cell_type": "code",
   "execution_count": 58,
   "metadata": {},
   "outputs": [
    {
     "data": {
      "text/plain": [
       "array([ 4, -5])"
      ]
     },
     "execution_count": 58,
     "metadata": {},
     "output_type": "execute_result"
    }
   ],
   "source": [
    "L[2:4]"
   ]
  },
  {
   "cell_type": "code",
   "execution_count": 59,
   "metadata": {},
   "outputs": [
    {
     "data": {
      "text/plain": [
       "array([  -2,   -5, -555,  -60])"
      ]
     },
     "execution_count": 59,
     "metadata": {},
     "output_type": "execute_result"
    }
   ],
   "source": [
    "# array的選項可以利用判斷是來挑選元素：array中符合元素條件的array=array[條件]\n",
    "L[L<0]"
   ]
  },
  {
   "cell_type": "code",
   "execution_count": 60,
   "metadata": {},
   "outputs": [
    {
     "data": {
      "text/plain": [
       "[<matplotlib.lines.Line2D at 0x823cdaf588>]"
      ]
     },
     "execution_count": 60,
     "metadata": {},
     "output_type": "execute_result"
    },
    {
     "data": {
      "image/png": "[encoded data removed]",
      "text/plain": [
       "<Figure size 432x288 with 1 Axes>"
      ]
     },
     "metadata": {
      "needs_background": "light"
     },
     "output_type": "display_data"
    }
   ],
   "source": [
    "x = np.linspace(-5,5,500)\n",
    "y = np.sinc(x)\n",
    "\n",
    "plt.plot(x,y)"
   ]
  },
  {
   "cell_type": "code",
   "execution_count": 61,
   "metadata": {},
   "outputs": [
    {
     "data": {
      "text/plain": [
       "[<matplotlib.lines.Line2D at 0x823cde5c08>]"
      ]
     },
     "execution_count": 61,
     "metadata": {},
     "output_type": "execute_result"
    },
    {
     "data": {
      "image/png": "[encoded data removed]",
      "text/plain": [
       "<Figure size 432x288 with 1 Axes>"
      ]
     },
     "metadata": {
      "needs_background": "light"
     },
     "output_type": "display_data"
    }
   ],
   "source": [
    "plt.plot(x,y)\n",
    "plt.plot(x[y>0] , y[y>0],\"o\") # o是把線換成圓點來表示，可以把o換成's'或者'^'看看"
   ]
  },
  {
   "cell_type": "code",
   "execution_count": 62,
   "metadata": {},
   "outputs": [
    {
     "data": {
      "image/png": "[encoded data removed]",
      "text/plain": [
       "<Figure size 432x288 with 1 Axes>"
      ]
     },
     "metadata": {
      "needs_background": "light"
     },
     "output_type": "display_data"
    }
   ],
   "source": [
    "x = np.linspace(-10, 10,50) #np.linspace(開始,結束,樣本數)\n",
    "y1 = 2*x + 10\n",
    "y2 = x**2\n",
    "\n",
    "plt.scatter(x, y1, s=100)\n",
    "plt.plot(x, y1, c=\"r\", linewidth=4.0)\n",
    "\n",
    "plt.scatter(x, y2, s=100)\n",
    "plt.plot(x, y2, color='black', linewidth=4.0, linestyle='--')#color顏色、linewidth寬度、linestyle線的樣子\n",
    "plt.show()"
   ]
  },
  {
   "cell_type": "markdown",
   "metadata": {},
   "source": [
    "# QA"
   ]
  },
  {
   "cell_type": "markdown",
   "metadata": {},
   "source": [
    "Q：Jupyter 不動了(kernel busy)怎麼辦？\n",
    "\n",
    "A：kernel -> Restart -> 重新執行 / kernel -> Restart & Run All"
   ]
  },
  {
   "cell_type": "code",
   "execution_count": 63,
   "metadata": {},
   "outputs": [
    {
     "name": "stdout",
     "output_type": "stream",
     "text": [
      "9\n",
      "\n",
      "i: 0 字串： 我\n",
      "i: 1 字串： 愛\n",
      "i: 2 字串： 人\n",
      "i: 3 字串： 人\n",
      "i: 4 字串： ,\n",
      "i: 5 字串： 人\n",
      "i: 6 字串： 人\n",
      "i: 7 字串： 愛\n",
      "i: 8 字串： 我\n"
     ]
    }
   ],
   "source": [
    "# Q：for 迴圈的小訣竅\n",
    "# A：\n",
    "s = \"我愛人人,人人愛我\"\n",
    "print(len(s))\n",
    "print(end=\"\\n\")\n",
    "\n",
    "for i in range(len(s)): # len(k)是一個函式，用來表示k(可能為字串 or list) 的長度\n",
    "    print(\"i:\",i,\"字串：\",s[i])"
   ]
  },
  {
   "cell_type": "markdown",
   "metadata": {},
   "source": [
    "Q：縮排的重要性：\n",
    "\n",
    "A：Jupyter裡 1個tab = 4個空格"
   ]
  },
  {
   "cell_type": "code",
   "execution_count": 64,
   "metadata": {},
   "outputs": [],
   "source": [
    "import numpy as np"
   ]
  },
  {
   "cell_type": "code",
   "execution_count": 65,
   "metadata": {},
   "outputs": [
    {
     "name": "stdout",
     "output_type": "stream",
     "text": [
      "i: 0 j: 0\n",
      "i: 0 j: 1\n",
      "i: 0 j: 2\n",
      "i: 1 j: 0\n",
      "i: 1 j: 1\n",
      "i: 1 j: 2\n",
      "i: 2 j: 0\n",
      "i: 2 j: 1\n",
      "i: 2 j: 2\n",
      "\n",
      "[[0. 0. 0.]\n",
      " [0. 1. 2.]\n",
      " [0. 2. 4.]]\n"
     ]
    }
   ],
   "source": [
    "a=np.zeros(shape=(3,3))\n",
    "for i in range(3):\n",
    "    for j in range(3):\n",
    "        print(\"i:\",i,\"j:\",j)\n",
    "        a[i][j] = i*j\n",
    "print(end=\"\\n\")\n",
    "print(a)"
   ]
  },
  {
   "cell_type": "code",
   "execution_count": 66,
   "metadata": {},
   "outputs": [
    {
     "name": "stdout",
     "output_type": "stream",
     "text": [
      "13\n",
      "程式結束\n"
     ]
    }
   ],
   "source": [
    "a=5\n",
    "if (a>2):\n",
    "    print(a+8)\n",
    "elif (s<-1):\n",
    "    print(\"傻瓜\")\n",
    "    \n",
    "print(\"程式結束\")"
   ]
  },
  {
   "cell_type": "markdown",
   "metadata": {},
   "source": [
    "Q：關於問問題\n",
    "* 多看老師教學影片\n",
    "* 良葛格學習筆記\n",
    "* Python Document(Pythhon 3.6.3 documentation)\n",
    "* openhome.cc(python list openhome.cc)\n",
    "* Stack Overflow (工程師問問題的平台, 全英文)\n",
    "* 多在平台問問題"
   ]
  }
 ],
 "metadata": {
  "kernelspec": {
   "display_name": "Python 3",
   "language": "python",
   "name": "python3"
  },
  "language_info": {
   "codemirror_mode": {
    "name": "ipython",
    "version": 3
   },
   "file_extension": ".py",
   "mimetype": "text/x-python",
   "name": "python",
   "nbconvert_exporter": "python",
   "pygments_lexer": "ipython3",
   "version": "3.7.4"
  }
 },
 "nbformat": 4,
 "nbformat_minor": 2
}
