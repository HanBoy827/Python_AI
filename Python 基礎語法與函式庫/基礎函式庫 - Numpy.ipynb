{
 "cells": [
  {
   "cell_type": "markdown",
   "metadata": {},
   "source": [
    "# Numpy函式庫\n",
    "\n",
    "### 那到底什麼是Numpy？\n",
    "NumPy是python的重要模組，主要用來資料處理，支援高階大量的矩陣、維度陣列運算。python在處理很大很多的資料時，其實，原本裡面的list效能並不是太好，而NumPy底層以C語言開發，具備平尋處理能力，相對起來處理會相當快速。\n",
    "還有還有，NumPy函式庫與資料科學相關套件(也就是我們之後會大量使用到的分析工具，如Matplotlib)能互相配合，且能將神經網路轉為陣列進行處理！"
   ]
  },
  {
   "cell_type": "markdown",
   "metadata": {},
   "source": [
    "### Numpy陣列\n",
    "numpy重點在矩陣、陣列的操作，其中一個重要的特點就是對N維數組對象的ndarray進行操作。ndarray的常見屬性有型態、形狀及數值。"
   ]
  },
  {
   "cell_type": "code",
   "execution_count": 1,
   "metadata": {},
   "outputs": [
    {
     "name": "stdout",
     "output_type": "stream",
     "text": [
      "Type is <class 'numpy.ndarray'> \n",
      "Shpae is (5,) \n",
      "Values are [1 2 3 4 5]\n"
     ]
    }
   ],
   "source": [
    "# 1. 一階陣列\n",
    "import numpy as np\n",
    "x = np.array([1,2,3,4,5])\n",
    "\n",
    "print(\"Type is %s \"%(type(x))) #型態\n",
    "print(\"Shpae is %s \"%(x.shape,)) #形狀\n",
    "print(\"Values are %s\"%(x)) #數值"
   ]
  },
  {
   "cell_type": "code",
   "execution_count": 2,
   "metadata": {},
   "outputs": [
    {
     "name": "stdout",
     "output_type": "stream",
     "text": [
      "Type is <class 'numpy.ndarray'> \n",
      "Shpae is (2, 5) \n",
      "Values are [[ 1  2  3  4  5]\n",
      " [ 6  7  8  9 10]]\n"
     ]
    }
   ],
   "source": [
    "# 2. 二階陣列\n",
    "y = np.array([[1,2,3,4,5],[6,7,8,9,10]])\n",
    "print(\"Type is %s \"%(type(y))) #型態\n",
    "print(\"Shpae is %s \"%(y.shape,)) #形狀\n",
    "print(\"Values are %s\"%(y)) #數值"
   ]
  },
  {
   "cell_type": "markdown",
   "metadata": {},
   "source": [
    "### 廣播(Broadcast)\n",
    "廣播(Broadcast)是numpy對不同形狀的數組計算的方式，會有自動推播的功能，直接來看例子會更容易明白。"
   ]
  },
  {
   "cell_type": "code",
   "execution_count": 3,
   "metadata": {},
   "outputs": [
    {
     "name": "stdout",
     "output_type": "stream",
     "text": [
      "[[1 2 3]\n",
      " [2 3 4]\n",
      " [3 4 5]\n",
      " [4 5 6]]\n"
     ]
    }
   ],
   "source": [
    "# 會發現不同shape時，使用numpy直接相加會有推到最大形狀並且相加的功能。\n",
    "\n",
    "import numpy as np \n",
    " \n",
    "a = np.array([[ 0, 0, 0],\n",
    "           [1,1,1],\n",
    "           [2,2,2],\n",
    "           [3,3,3]])\n",
    "b = np.array([1,2,3])\n",
    "print(a + b)"
   ]
  },
  {
   "cell_type": "code",
   "execution_count": 4,
   "metadata": {},
   "outputs": [
    {
     "name": "stdout",
     "output_type": "stream",
     "text": [
      "Type is <class 'numpy.ndarray'> \n",
      "Shpae is (4, 4) \n",
      "Values are [[ 1  2  3  4]\n",
      " [ 5  6  7  8]\n",
      " [ 9 10 11 12]\n",
      " [13 14 15 16]]\n",
      "******************************\n",
      "Type is <class 'numpy.ndarray'> \n",
      "Shpae is (3, 2) \n",
      "Values are [[ 2  3]\n",
      " [ 6  7]\n",
      " [10 11]]\n"
     ]
    }
   ],
   "source": [
    "# 矩陣指標\n",
    "# 類似list的索引值，可以從找索取numpy內的部分陣列。\n",
    "\n",
    "import numpy as np \n",
    "a = np.array([[1,2,3,4],[5,6,7,8],[9,10,11,12],[13,14,15,16]])\n",
    "print(\"Type is %s \"%(type(a))) #型態\n",
    "print(\"Shpae is %s \"%(a.shape,)) #形狀\n",
    "print(\"Values are %s\"%(a)) #數值\n",
    "\n",
    "print(\"*\"*30)\n",
    "\n",
    "b = a[:3,1:3]  #row取0,1,2列；column取1,2行\n",
    "print(\"Type is %s \"%(type(b))) #型態\n",
    "print(\"Shpae is %s \"%(b.shape,)) #形狀\n",
    "print(\"Values are %s\"%(b)) #數值"
   ]
  },
  {
   "cell_type": "code",
   "execution_count": null,
   "metadata": {},
   "outputs": [],
   "source": []
  }
 ],
 "metadata": {
  "kernelspec": {
   "display_name": "Python 3",
   "language": "python",
   "name": "python3"
  },
  "language_info": {
   "codemirror_mode": {
    "name": "ipython",
    "version": 3
   },
   "file_extension": ".py",
   "mimetype": "text/x-python",
   "name": "python",
   "nbconvert_exporter": "python",
   "pygments_lexer": "ipython3",
   "version": "3.7.4"
  }
 },
 "nbformat": 4,
 "nbformat_minor": 2
}
