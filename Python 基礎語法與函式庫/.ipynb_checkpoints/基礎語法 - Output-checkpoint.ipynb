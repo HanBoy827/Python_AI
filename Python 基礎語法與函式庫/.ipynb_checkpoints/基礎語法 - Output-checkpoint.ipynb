{
 "cells": [
  {
   "cell_type": "markdown",
   "metadata": {},
   "source": [
    "# 主題：print\n",
    "語法：print(變數/數字/字串)"
   ]
  },
  {
   "cell_type": "code",
   "execution_count": 1,
   "metadata": {},
   "outputs": [
    {
     "name": "stdout",
     "output_type": "stream",
     "text": [
      "Hello World\n",
      "123\n",
      "3.6\n",
      "456\n",
      "abc\n",
      "abc123\n"
     ]
    }
   ],
   "source": [
    "q=\"Hello World\" #q=變數\n",
    "print(q) # print(變數)\n",
    "\n",
    "print(123) # print(數字)\n",
    "print(3.6)\n",
    "\n",
    "print(\"456\") # print(\"字串\")\n",
    "print(\"abc\")\n",
    "print(\"abc123\")"
   ]
  },
  {
   "cell_type": "code",
   "execution_count": null,
   "metadata": {},
   "outputs": [],
   "source": []
  },
  {
   "cell_type": "markdown",
   "metadata": {},
   "source": [
    "# 主題：字串格式化(把變數進行字串格式化,也就是把字串中的變數換成變數值)"
   ]
  },
  {
   "cell_type": "markdown",
   "metadata": {},
   "source": [
    "## 4-1-1 舊式字串格式化（%）\n",
    "* %s是以字串輸出、 %f是以浮點數輸出、 %c是以字元方式輸出、 %r是以repr()函數輸出文字。\n",
    "* %o是以八進位整數輸出數值、 %d是以十進位整數輸出數值、 %x是以十六進位整數方式輸出數值。\n",
    "* %e是以科學記號輸出數值、 %g是在六位有效數字的前提下使用小數，否則使用科學計數法、 %%是輸出%百分比符號。"
   ]
  },
  {
   "cell_type": "code",
   "execution_count": 2,
   "metadata": {},
   "outputs": [
    {
     "name": "stdout",
     "output_type": "stream",
     "text": [
      "hello world\n",
      "hello world go\n",
      "I am 5 years old.\n",
      "James is 5 years old.\n",
      "Hello, World!\n"
     ]
    }
   ],
   "source": [
    "# 使用 % 格式是告訴 Python 直譯器要在那邊替換文字 text 並使用字串呈現\n",
    "text = 'world'\n",
    "print('hello %s' % text)\n",
    "\n",
    "# 有多個變數要替換則使用 tuple 傳遞需要替代的內容值\n",
    "print('hello %s %s' % ('world', 'go')) \n",
    "\n",
    "# 輸出整數\n",
    "msg = 'I am %d years old.' % 5\n",
    "print(msg)\n",
    "\n",
    "# 文字與整數混用\n",
    "msg = '%s is %d years old.' % (\"James\", 5)\n",
    "print(msg)\n",
    "\n",
    "# 通過 Dict 輸出\n",
    "data = {'first': 'Hello', 'last': 'World'}\n",
    "msg = '%(first)s, %(last)s!' % data\n",
    "print(msg)"
   ]
  },
  {
   "cell_type": "markdown",
   "metadata": {},
   "source": [
    "## 4-1-2 數字輸出方式"
   ]
  },
  {
   "cell_type": "code",
   "execution_count": 3,
   "metadata": {},
   "outputs": [
    {
     "name": "stdout",
     "output_type": "stream",
     "text": [
      "24\n",
      "20\n",
      "14\n",
      "1.110000\n",
      "1.11\n",
      "1.110000e+00\n",
      "1.110e+00\n",
      "1111.11\n",
      "1111.111\n",
      "1.1e+03\n",
      "\n",
      "003.14\n",
      "+3.14, -3.14\n",
      "( 3), (-3)\n",
      "\n",
      "Gib = 2.718\n"
     ]
    }
   ],
   "source": [
    "print('%o' % 20) # 八進位制輸出\n",
    "print('%d' % 20) # 十進位制輸出\n",
    "print('%x' % 20) # 十六進位制輸出\n",
    "print('%f' % 1.11)    # 以浮點數輸出(預設保留6位小數)\n",
    "print('%.2f' % 1.11)  # 以浮點數輸出(取2位小數)\n",
    "print('%e' % 1.11)    # 以科學記號輸出(預設6位小數)\n",
    "print('%.3e' % 1.11)  # 以科學記號輸出(取3位小數)\n",
    "print('%g' % 1111.1111)  # 預設6位有效數字\n",
    "print('%.7g' % 1111.1111)  # 取7位有效數字\n",
    "print('%.2g' % 1111.1111)  # 取2位有效數字，自動轉換為科學計數法\n",
    "print(end=\"\\n\")\n",
    "\n",
    "# 數值格式(舊式字串格式化（%）)\n",
    "msg = '%06.2f' % 3.14159  # 空白補 0\n",
    "print(msg)\n",
    "msg = '%+4.2f, %+4.2f' % (3.14, -3.14)  # 加上正負號\n",
    "print(msg)\n",
    "msg = '(% d), (% d)' % (3, -3)  # 負數加負號，正數留空白\n",
    "print(msg)\n",
    "print(end=\"\\n\")\n",
    "\n",
    "# 動態格式(舊式字串格式化(%))\n",
    "msg = '%.*s = %.*f' % (3, 'Gibberish', 3, 2.7182)\n",
    "print(msg)"
   ]
  },
  {
   "cell_type": "markdown",
   "metadata": {},
   "source": [
    "## 4-1-3 空間與對齊(舊式字串格式化（%）)"
   ]
  },
  {
   "cell_type": "code",
   "execution_count": 4,
   "metadata": {},
   "outputs": [
    {
     "name": "stdout",
     "output_type": "stream",
     "text": [
      "一般輸出: (hello world)\n",
      "靠右對齊: (         hello world)\n",
      "靠左對齊: (hello world         )\n",
      "文字上限3位: (hel)\n",
      "(                  he)\n",
      "(hell                )\n"
     ]
    }
   ],
   "source": [
    "# 空間與對齊(舊式字串格式化（%）)  4-1-3\n",
    "msg = '(%s)' % 'hello world'    # 一般字串輸出\n",
    "print(\"一般輸出:\",msg)\n",
    "msg = '(%20s)' % 'hello world'  # 靠右對齊，取20位，不夠則補位\n",
    "print(\"靠右對齊:\",msg)\n",
    "msg = '(%-20s)' % 'hello world' # 靠左對齊，取20位，不夠則補位\n",
    "print(\"靠左對齊:\",msg)\n",
    "msg = '(%.3s)' % 'hello world'  # 文字長度上限(取3位)\n",
    "print(\"文字上限3位:\",msg)\n",
    "\n",
    "# 指定浮點數位數(使用 總寬度.小數位數 的方式來指定)\n",
    "msg = '(%20.2s)' % 'hello world' # 靠右對齊，取2位\n",
    "print(msg)\n",
    "msg = '(%-20.4s)' % 'hello world' # 靠左對齊，取4位\n",
    "print(msg)"
   ]
  },
  {
   "cell_type": "markdown",
   "metadata": {},
   "source": [
    "## 4-2-1 新式字串格式化(format( ))\n",
    "format( )的優點:\n",
    "* 不需要理會數據類型的問題，在%方法中%s只能替代字符串類型\n",
    "* 單個參數可以多次輸出，參數順序可以不相同\n",
    "* 填充方式十分靈活，對齊方式十分強大\n",
    "* 官方推薦用的方式，%方式將會在後面的版本被淘汰"
   ]
  },
  {
   "cell_type": "code",
   "execution_count": 5,
   "metadata": {},
   "outputs": [
    {
     "name": "stdout",
     "output_type": "stream",
     "text": [
      "hello world\n",
      "hello world\n",
      "hello world\n",
      "\n",
      "hello Jack, hello world,hello Jack\n",
      "world hello world \n",
      "\n",
      "hello world  i am python\n",
      "hello world  i am python\n",
      "hello world i am python\n",
      "Hello, World!\n",
      "hello world i am python\n",
      "\n",
      "James is 5 years old.\n",
      "James is 5 years old.\n"
     ]
    }
   ],
   "source": [
    "# 一般使用方式\n",
    "text = 'world'\n",
    "print('hello {}'.format(text))\n",
    "print(\"{} {}\".format (\"hello\" , \"world\" )) #不設置指定位置，按默認順序\n",
    "print(\"{0} {1}\".format (\"hello\" , \"world\" )) #設置指定位置\n",
    "print(end=\"\\n\")\n",
    "\n",
    "# 指定變數變換順序\n",
    "z = 'Jack'\n",
    "x = 'world'\n",
    "print('hello {n}, hello {t},hello {n}'.format(n=z, t=x)) \n",
    "print(\"{1} {0} {1} \" . format (\"hello\" ,\"world\" )) \n",
    "print(end=\"\\n\")\n",
    "\n",
    "# 通過 List 輸出\n",
    "list=['world','python']\n",
    "print('hello {names[0]}  i am {names[1]}'.format(names=list))\n",
    "print('hello {0[0]}  i am {0[1]}'.format(list)) \n",
    "\n",
    "# 通過 Dict 輸出\n",
    "dict={'obj':'world','name':'python'}\n",
    "print('hello {names[obj]} i am {names[name]}'.format(names=dict)) \n",
    "\n",
    "data = {'first': 'Hello', 'last': 'World'}\n",
    "msg = '{first}, {last}!'.format(**data)\n",
    "print(msg)\n",
    "\n",
    "# 通過類屬性輸出\n",
    "class Names():\n",
    "    obj='world'\n",
    "    name='python'\n",
    "print('hello {names.obj} i am {names.name}'.format(names=Names))\n",
    "print(end=\"\\n\")\n",
    "\n",
    "# 文字與整數\n",
    "msg = '{} is {} years old.'.format(\"James\", 5)\n",
    "print(msg)\n",
    "msg = '{:s} is {:d} years old.'.format(\"James\", 5) # 明確指定資料類型\n",
    "print(msg)"
   ]
  },
  {
   "cell_type": "markdown",
   "metadata": {},
   "source": [
    "## 4-2-2 數字輸出方式"
   ]
  },
  {
   "cell_type": "code",
   "execution_count": 6,
   "metadata": {},
   "outputs": [
    {
     "name": "stdout",
     "output_type": "stream",
     "text": [
      "10\n",
      "24\n",
      "20\n",
      "14\n",
      "20\n",
      "20.000000\n",
      "2.000000e+01\n",
      "20.1\n",
      "2000.000000%\n",
      "\u0014\n",
      "\n",
      "003.14\n",
      "+3.14, -3.14\n",
      "( 3), (-3)\n",
      "Gib = 2.718\n"
     ]
    }
   ],
   "source": [
    "print('{0:b}'.format(2)) # 二進位制輸出\n",
    "print('{:o}'.format(20)) # 八進位制輸出\n",
    "print('{:d}'.format(20)) # 十進位制輸出\n",
    "print('{:x}'.format(20)) # 十六進位制輸出\n",
    "print('{:n}'.format(20)) # 以數字輸出\n",
    "print('{:f}'.format(20)) # 以浮點數輸出(預設保留6位小數)\n",
    "print('{:e}'.format(20)) # 以科學記號輸出(預設6位小數)\n",
    "print('{:g}'.format(20.1)) # 在六位有效數字的前提下使用小數，否則使用科學計數法\n",
    "print('{:%}'.format(20)) # 輸出%百分比符號\n",
    "print('{:c}'.format(20)) # 以字元方式輸出\n",
    "print(end=\"\\n\")\n",
    "\n",
    "# 數值格式(新式字串格式化(format()))\n",
    "msg = '{:06.2f}'.format(3.14159)  # 空白補 0\n",
    "print(msg)\n",
    "msg = '{:+4.2f}, {:+4.2f}'.format(3.14, -3.14)  # 加上正負號\n",
    "print(msg)\n",
    "msg = '({: d}), ({: d})'.format(3, -3)  # 負數加負號，正數留空白\n",
    "print(msg)\n",
    "\n",
    "# 動態格式(新式字串格式化(format()))\n",
    "msg = '{:.{prec}} = {:.{prec}f}'.format('Gibberish', 2.7182, prec=3)\n",
    "print(msg)"
   ]
  },
  {
   "cell_type": "markdown",
   "metadata": {},
   "source": [
    "## 4-2-3 空間與對齊(新式字串格式化(format()))"
   ]
  },
  {
   "cell_type": "code",
   "execution_count": 7,
   "metadata": {},
   "outputs": [
    {
     "name": "stdout",
     "output_type": "stream",
     "text": [
      "一般輸出: hello world\n",
      "靠右對齊: (         hello world)\n",
      "靠左對齊: (hello world         )\n",
      "文字上限3位: (hel)\n",
      "指定寬度: (hello world         )\n",
      "置中對齊: (    hello world     )\n",
      "(              12.346)\n",
      "(12.35               )\n",
      "hello and world\n",
      "hello      and      world\n",
      "  hello    and   world   \n",
      "1.123 is 1.12\n",
      "1.123 is       1.12\n"
     ]
    }
   ],
   "source": [
    "msg ='{}'.format('hello world')   # 一般字串輸出\n",
    "print(\"一般輸出:\",msg)\n",
    "msg = '({:>20})'.format('hello world')  # 靠右對齊，取20位，不夠則補位\n",
    "print(\"靠右對齊:\",msg)\n",
    "msg = '({:<20})'.format('hello world')  # 靠左對齊，取20位，不夠則補位\n",
    "print(\"靠左對齊:\",msg)\n",
    "msg = '({:.3})'.format('hello world')   # 文字長度上限(取3位)\n",
    "print(\"文字上限3位:\",msg)\n",
    "msg = '({:20})'.format('hello world')   # 指定寬度\n",
    "print(\"指定寬度:\",msg)\n",
    "msg = '({:^20})'.format('hello world')  # 置中對齊\n",
    "print(\"置中對齊:\",msg)\n",
    "\n",
    "# 指定浮點數位數(使用 總寬度.小數位數 的方式來指定)\n",
    "msg = '({:>20.3f})'.format(12.3456) # 靠右對齊，取3位\n",
    "print(msg)\n",
    "msg = '({:<20.2f})'.format(12.3456) # 靠左對齊，取2位\n",
    "print(msg)\n",
    "\n",
    "# 進階版\n",
    "print('{} and {}'.format('hello','world'))   # 預設左對齊\n",
    "print('{:10s} and {:>10s}'.format('hello','world')) # 取10位左對齊，取10位右對齊\n",
    "print('{:^10s} and {:^10s}'.format('hello','world')) # 取10位中間對齊\n",
    "print('{} is {:.2f}'.format(1.123,1.123)) # 取2位小數\n",
    "print('{0} is {0:>10.2f}'.format(1.123))  # 取2位小數，右對齊，取10位"
   ]
  },
  {
   "cell_type": "markdown",
   "metadata": {},
   "source": [
    "## 4-3 字串插值（Formatted String Literal）\n",
    "背後原理是由 Python 語法解析器把 f-string 字串插值格式字串轉成一連串的字串常數和運算式，最後結合成最終的字串。\n",
    "\n",
    "新的字串插值語法相當強大的點是，可以在裡面嵌入任何 Python 的運算式\n"
   ]
  },
  {
   "cell_type": "code",
   "execution_count": 8,
   "metadata": {},
   "outputs": [
    {
     "name": "stdout",
     "output_type": "stream",
     "text": [
      "Hello, world\n",
      "x + y = 37\n"
     ]
    }
   ],
   "source": [
    "# 一般使用方式\n",
    "text = 'world'\n",
    "print(f'Hello, {text}')\n",
    "\n",
    "# 嵌入運算式\n",
    "x = 10\n",
    "y = 27\n",
    "print(f'x + y = {x + y}')"
   ]
  },
  {
   "cell_type": "markdown",
   "metadata": {},
   "source": [
    "## 4-4 樣板字串（Template String）"
   ]
  },
  {
   "cell_type": "code",
   "execution_count": 9,
   "metadata": {},
   "outputs": [
    {
     "name": "stdout",
     "output_type": "stream",
     "text": [
      "hello, world\n",
      "hello, 0x17\n"
     ]
    },
    {
     "data": {
      "text/plain": [
       "'my-secret-token'"
      ]
     },
     "execution_count": 9,
     "metadata": {},
     "output_type": "execute_result"
    }
   ],
   "source": [
    "# 一般的使用情境(需要從 Python 內建模組 string 引入)\n",
    "from string import Template\n",
    "text = 'world'\n",
    "t = Template('hello, $text')\n",
    "print(t.substitute(text=text))\n",
    "\n",
    "# 把內容轉成十六進位(需要自己使用 hex 函式自己轉換)\n",
    "from string import Template\n",
    "number = 23\n",
    "t = Template('hello, $number')\n",
    "print(t.substitute(number=hex(number)))\n",
    "\n",
    "# 由於其他的字串格式化功能較為強大，所以反而會造成惡意使用者輸入變數替換成字串時造成不可預期的錯誤\n",
    "# 舉例來說惡意使用者可能可以透過字串格式的惡意輸入來獲取敏感資訊（例如：密碼、token、金鑰等）\b；\n",
    "SECRET_TOKEN = 'my-secret-token'\n",
    "# Error func\n",
    "class Error:\n",
    "    def __init__(self):\n",
    "        pass\n",
    "err = Error()\n",
    "malicious_input = '{error.__init__.__globals__[SECRET_TOKEN]}'\n",
    "malicious_input.format(error=err)"
   ]
  },
  {
   "cell_type": "code",
   "execution_count": 10,
   "metadata": {},
   "outputs": [
    {
     "name": "stdout",
     "output_type": "stream",
     "text": [
      "2019-12-28 22:20\n",
      "2019-12-28 22:20:58\n"
     ]
    }
   ],
   "source": [
    "# 日期與時間\n",
    "# 輸出日期與時間(format 亦可接受 datetime 物件，依照指定的樣板輸出日期與時間)\n",
    "from datetime import datetime\n",
    "msg = '{:%Y-%m-%d %H:%M}'.format(datetime.today())\n",
    "print(msg)\n",
    "\n",
    "from datetime import datetime\n",
    "now=datetime.now()\n",
    "print( '{:%Y-%m-%d %X}'.format(now) )"
   ]
  }
 ],
 "metadata": {
  "kernelspec": {
   "display_name": "Python 3",
   "language": "python",
   "name": "python3"
  },
  "language_info": {
   "codemirror_mode": {
    "name": "ipython",
    "version": 3
   },
   "file_extension": ".py",
   "mimetype": "text/x-python",
   "name": "python",
   "nbconvert_exporter": "python",
   "pygments_lexer": "ipython3",
   "version": "3.7.4"
  }
 },
 "nbformat": 4,
 "nbformat_minor": 2
}
