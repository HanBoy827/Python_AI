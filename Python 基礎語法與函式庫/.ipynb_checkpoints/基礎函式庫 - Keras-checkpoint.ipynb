{
 "cells": [
  {
   "cell_type": "markdown",
   "metadata": {},
   "source": [
    "### Keras介紹\n",
    "keras是一個深度學習的開源函式庫，它Keras開發的重點就是支持快速的實驗，它能夠提供簡單而快速的原型設計，意思就是Keras是個高度模組化的函式庫，它可以讓用戶快速的去建造神經網路並訓練模型。\n",
    "\n",
    "用Tensorflow和keras幾乎都可以做到一模一樣的事情，但我認為在實作Tensorflow時，會比較了解自己在幹嘛，而Keras相較Tensorflow比較簡單快速建造，然而，也是因為太過方便而造成比較不靈活的狀況發生。但也是因為Keras建造簡單，可以大大降低初學者進入深度學習的門檻！"
   ]
  },
  {
   "cell_type": "markdown",
   "metadata": {},
   "source": [
    "### 建置Sequential模型\n",
    "那 Sequential()是啥玩意呢？Sequential( )就是我們定義模型的開始，深度學習的第一步就是建構神經網路架構，那麼我們就是要靠Sequential()進行建造網路架構，常用的方法以下有兩種："
   ]
  },
  {
   "cell_type": "code",
   "execution_count": 1,
   "metadata": {},
   "outputs": [
    {
     "name": "stderr",
     "output_type": "stream",
     "text": [
      "Using TensorFlow backend.\n"
     ]
    },
    {
     "name": "stdout",
     "output_type": "stream",
     "text": [
      "WARNING:tensorflow:From C:\\Users\\owner\\Anaconda3\\lib\\site-packages\\keras\\backend\\tensorflow_backend.py:74: The name tf.get_default_graph is deprecated. Please use tf.compat.v1.get_default_graph instead.\n",
      "\n",
      "WARNING:tensorflow:From C:\\Users\\owner\\Anaconda3\\lib\\site-packages\\keras\\backend\\tensorflow_backend.py:517: The name tf.placeholder is deprecated. Please use tf.compat.v1.placeholder instead.\n",
      "\n",
      "WARNING:tensorflow:From C:\\Users\\owner\\Anaconda3\\lib\\site-packages\\keras\\backend\\tensorflow_backend.py:4138: The name tf.random_uniform is deprecated. Please use tf.random.uniform instead.\n",
      "\n",
      "_________________________________________________________________\n",
      "Layer (type)                 Output Shape              Param #   \n",
      "=================================================================\n",
      "dense_1 (Dense)              (None, 512)               401920    \n",
      "_________________________________________________________________\n",
      "activation_1 (Activation)    (None, 512)               0         \n",
      "=================================================================\n",
      "Total params: 401,920\n",
      "Trainable params: 401,920\n",
      "Non-trainable params: 0\n",
      "_________________________________________________________________\n",
      "None\n"
     ]
    }
   ],
   "source": [
    "# 1.用add疊加上去\n",
    "\n",
    "from keras.models import Sequential #引入Sequential函式\n",
    "from keras.layers import Dense, Activation #引入層數及激勵函數\n",
    "model = Sequential() #建置Sequential模型\n",
    "model.add(Dense(512,input_shape=(784,))) #加入神經層第一層(輸入784)輸出512\n",
    "model.add(Activation('relu')) #激勵層\n",
    "print(model.summary()) #顯示架構"
   ]
  },
  {
   "cell_type": "code",
   "execution_count": 2,
   "metadata": {},
   "outputs": [
    {
     "name": "stdout",
     "output_type": "stream",
     "text": [
      "_________________________________________________________________\n",
      "Layer (type)                 Output Shape              Param #   \n",
      "=================================================================\n",
      "dense_2 (Dense)              (None, 512)               401920    \n",
      "_________________________________________________________________\n",
      "activation_2 (Activation)    (None, 512)               0         \n",
      "=================================================================\n",
      "Total params: 401,920\n",
      "Trainable params: 401,920\n",
      "Non-trainable params: 0\n",
      "_________________________________________________________________\n",
      "None\n"
     ]
    }
   ],
   "source": [
    "# 2.直接在Sequential()裡面定義層數、激勵函數：\n",
    "\n",
    "from keras.models import Sequential #引入Sequential函式\n",
    "from keras.layers import Dense, Activation #引入層數及激勵函數\n",
    "\n",
    "model = Sequential([\n",
    "    Dense(512, input_shape=(784,)), \n",
    "    #Dense：全連接層 \n",
    "    #輸入的張量，784神經元(或稱組數輸入)\n",
    "    #512是輸出的神經元數量(或稱組數)\n",
    "    Activation('relu'), #設定激活層並採用relu\n",
    "])\n",
    "print(model.summary()) #顯示目前網路架構"
   ]
  },
  {
   "cell_type": "markdown",
   "metadata": {},
   "source": [
    "那什麼是Param呢？就是參數的意思，也就是每層神經元的權重(w)個數。\n",
    "\n",
    "怎麼算出來的？Param = (輸入維度+1) * 輸出的神經元個數，但是每個神經元都要考慮到有一個Bias，所以要再加上1。\n",
    "\n",
    "來算一下上面的，(784 + 1) * 512 = 401,920"
   ]
  },
  {
   "cell_type": "code",
   "execution_count": null,
   "metadata": {},
   "outputs": [],
   "source": []
  }
 ],
 "metadata": {
  "kernelspec": {
   "display_name": "Python 3",
   "language": "python",
   "name": "python3"
  },
  "language_info": {
   "codemirror_mode": {
    "name": "ipython",
    "version": 3
   },
   "file_extension": ".py",
   "mimetype": "text/x-python",
   "name": "python",
   "nbconvert_exporter": "python",
   "pygments_lexer": "ipython3",
   "version": "3.7.4"
  }
 },
 "nbformat": 4,
 "nbformat_minor": 2
}
