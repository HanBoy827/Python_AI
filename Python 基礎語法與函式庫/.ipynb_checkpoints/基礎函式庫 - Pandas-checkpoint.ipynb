{
 "cells": [
  {
   "cell_type": "markdown",
   "metadata": {},
   "source": [
    "### Pandas介紹\n",
    "pandas在資料處理上的非常強大，且Pandas也和Matplotlib是一個基於Numpy的函式庫，而Padas也有另一種說法是，Pandas就是把excell的功能搬過來pyhton，許多在excell可以做到的事情，利用Pandas在python也可以辦到，如csv檔的讀取、刪減、增加、欄位的替換等等，這些功能在我們往後的案例都會常常使用到！"
   ]
  },
  {
   "cell_type": "markdown",
   "metadata": {},
   "source": [
    "### Pandas相關程式介紹"
   ]
  },
  {
   "cell_type": "code",
   "execution_count": 1,
   "metadata": {},
   "outputs": [],
   "source": [
    "# 導入函式庫\n",
    "import pandas as pd\n",
    "import numpy as np"
   ]
  },
  {
   "cell_type": "markdown",
   "metadata": {},
   "source": [
    "### Series\n",
    "Series是一種類似序列的指令，當在使用Series儲存資料的時候，會自動幫儲存的資料標上索引值(index)，所以可以利索引值去提取裡面的資料(儲存的資料類型不限)。"
   ]
  },
  {
   "cell_type": "code",
   "execution_count": 2,
   "metadata": {},
   "outputs": [
    {
     "data": {
      "text/plain": [
       "0       1\n",
       "1       2\n",
       "2       3\n",
       "3    John\n",
       "4       4\n",
       "5       5\n",
       "dtype: object"
      ]
     },
     "execution_count": 2,
     "metadata": {},
     "output_type": "execute_result"
    }
   ],
   "source": [
    "# 建立Series\n",
    "S = pd.Series([1,2,3,'John',4,5])\n",
    "S"
   ]
  },
  {
   "cell_type": "code",
   "execution_count": 3,
   "metadata": {},
   "outputs": [
    {
     "name": "stdout",
     "output_type": "stream",
     "text": [
      "[1 2 3 'John' 4 5]\n",
      "RangeIndex(start=0, stop=6, step=1)\n"
     ]
    }
   ],
   "source": [
    "# 提取裡面的資料和索引值：\n",
    "values = S.values #提取資料\n",
    "index = S.index #提取index\n",
    "print(values)\n",
    "print(index)"
   ]
  },
  {
   "cell_type": "code",
   "execution_count": 4,
   "metadata": {},
   "outputs": [
    {
     "name": "stdout",
     "output_type": "stream",
     "text": [
      "Q       1\n",
      "W       2\n",
      "E       3\n",
      "R       4\n",
      "T    John\n",
      "dtype: object\n"
     ]
    },
    {
     "data": {
      "text/plain": [
       "'John'"
      ]
     },
     "execution_count": 4,
     "metadata": {},
     "output_type": "execute_result"
    }
   ],
   "source": [
    "# 自己定義喜歡的index並取出其中的index資料：\n",
    "S2 = pd.Series([1,2,3,4,'John'], index=['Q','W','E','R','T'])#1.資料2.索引值\n",
    "print(S2)\n",
    "S2['T']"
   ]
  },
  {
   "cell_type": "markdown",
   "metadata": {},
   "source": [
    "### DataFrame\n",
    "DataFrame是一種二維空間上的指令，就像是excel的表格一樣，有行和有列，DataFrame有索引值(index)和行數(column)，可以利用索引值和行數去抓到裡面的資料(儲存的資料類型不限)。"
   ]
  },
  {
   "cell_type": "code",
   "execution_count": 5,
   "metadata": {},
   "outputs": [
    {
     "name": "stdout",
     "output_type": "stream",
     "text": [
      "    0   1   2   3\n",
      "0   0   1   2   3\n",
      "1   4   5   6   7\n",
      "2   8   9  10  11\n",
      "3  12  13  14  15\n",
      "4  16  17  18  19\n"
     ]
    }
   ],
   "source": [
    "# 1. 建立DataFrame：\n",
    "\n",
    "D = pd.DataFrame(np.arange(20).reshape((5,4)))\n",
    "#np.arange從0列到19；reshape是把它變成5*4的型狀\n",
    "print(D)"
   ]
  },
  {
   "cell_type": "code",
   "execution_count": 6,
   "metadata": {},
   "outputs": [
    {
     "name": "stdout",
     "output_type": "stream",
     "text": [
      "   區域      人口  地價(每坪)  福利指數(滿分10)\n",
      "0  北區  300000  300000           7\n",
      "1  中區  500000  250000           6\n",
      "2  南區  412000  400000           8\n",
      "3  東區  240000  230000           7\n"
     ]
    },
    {
     "data": {
      "text/html": [
       "<div>\n",
       "<style scoped>\n",
       "    .dataframe tbody tr th:only-of-type {\n",
       "        vertical-align: middle;\n",
       "    }\n",
       "\n",
       "    .dataframe tbody tr th {\n",
       "        vertical-align: top;\n",
       "    }\n",
       "\n",
       "    .dataframe thead th {\n",
       "        text-align: right;\n",
       "    }\n",
       "</style>\n",
       "<table border=\"1\" class=\"dataframe\">\n",
       "  <thead>\n",
       "    <tr style=\"text-align: right;\">\n",
       "      <th></th>\n",
       "      <th>區域</th>\n",
       "      <th>人口</th>\n",
       "      <th>地價(每坪)</th>\n",
       "      <th>福利指數(滿分10)</th>\n",
       "    </tr>\n",
       "  </thead>\n",
       "  <tbody>\n",
       "    <tr>\n",
       "      <td>0</td>\n",
       "      <td>北區</td>\n",
       "      <td>300000</td>\n",
       "      <td>300000</td>\n",
       "      <td>7</td>\n",
       "    </tr>\n",
       "    <tr>\n",
       "      <td>1</td>\n",
       "      <td>中區</td>\n",
       "      <td>500000</td>\n",
       "      <td>250000</td>\n",
       "      <td>6</td>\n",
       "    </tr>\n",
       "    <tr>\n",
       "      <td>2</td>\n",
       "      <td>南區</td>\n",
       "      <td>412000</td>\n",
       "      <td>400000</td>\n",
       "      <td>8</td>\n",
       "    </tr>\n",
       "    <tr>\n",
       "      <td>3</td>\n",
       "      <td>東區</td>\n",
       "      <td>240000</td>\n",
       "      <td>230000</td>\n",
       "      <td>7</td>\n",
       "    </tr>\n",
       "  </tbody>\n",
       "</table>\n",
       "</div>"
      ],
      "text/plain": [
       "   區域      人口  地價(每坪)  福利指數(滿分10)\n",
       "0  北區  300000  300000           7\n",
       "1  中區  500000  250000           6\n",
       "2  南區  412000  400000           8\n",
       "3  東區  240000  230000           7"
      ]
     },
     "execution_count": 6,
     "metadata": {},
     "output_type": "execute_result"
    }
   ],
   "source": [
    "# 2. 從diction轉換成dataframe：\n",
    "\n",
    "data = {'區域': ['北區', '中區','南區','東區'],\n",
    "        '人口': [300000, 500000, 412000, 240000],\n",
    "        '地價(每坪)': [300000, 250000, 400000, 230000],\n",
    "        '福利指數(滿分10)':[7,6,8,7]} #字典\n",
    "\n",
    "D2 = pd.DataFrame(data) #轉換成dataframe格式\n",
    "print(D2)\n",
    "D2"
   ]
  },
  {
   "cell_type": "code",
   "execution_count": 7,
   "metadata": {},
   "outputs": [
    {
     "name": "stdout",
     "output_type": "stream",
     "text": [
      "0    北區\n",
      "1    中區\n",
      "2    南區\n",
      "3    東區\n",
      "Name: 區域, dtype: object\n"
     ]
    }
   ],
   "source": [
    "# 3.特定行查看：\n",
    "\n",
    "print(D2['區域']) #中括號和行名稱"
   ]
  },
  {
   "cell_type": "code",
   "execution_count": 8,
   "metadata": {},
   "outputs": [
    {
     "name": "stdout",
     "output_type": "stream",
     "text": [
      "   區域      人口  地價(每坪)  福利指數(滿分10)\n",
      "0  北區  300000  300000           7\n",
      "1  中區  500000  250000           6\n"
     ]
    }
   ],
   "source": [
    "# 4.特定列查看：\n",
    "\n",
    "print(D2.loc[[0, 1]]) #查看0和1兩列"
   ]
  },
  {
   "cell_type": "code",
   "execution_count": 9,
   "metadata": {},
   "outputs": [
    {
     "name": "stdout",
     "output_type": "stream",
     "text": [
      "230000\n"
     ]
    }
   ],
   "source": [
    "# 5.找特定位置：\n",
    "\n",
    "print(D2.iloc[3,2])#用iloc函式指定第三列、第二行資料(是從0開始數唷)"
   ]
  },
  {
   "cell_type": "code",
   "execution_count": 10,
   "metadata": {},
   "outputs": [
    {
     "data": {
      "text/html": [
       "<div>\n",
       "<style scoped>\n",
       "    .dataframe tbody tr th:only-of-type {\n",
       "        vertical-align: middle;\n",
       "    }\n",
       "\n",
       "    .dataframe tbody tr th {\n",
       "        vertical-align: top;\n",
       "    }\n",
       "\n",
       "    .dataframe thead th {\n",
       "        text-align: right;\n",
       "    }\n",
       "</style>\n",
       "<table border=\"1\" class=\"dataframe\">\n",
       "  <thead>\n",
       "    <tr style=\"text-align: right;\">\n",
       "      <th></th>\n",
       "      <th>區域</th>\n",
       "      <th>人口</th>\n",
       "      <th>地價(每坪)</th>\n",
       "      <th>福利指數(滿分10)</th>\n",
       "      <th>就業機會</th>\n",
       "    </tr>\n",
       "  </thead>\n",
       "  <tbody>\n",
       "    <tr>\n",
       "      <td>0</td>\n",
       "      <td>北區</td>\n",
       "      <td>300000</td>\n",
       "      <td>300000</td>\n",
       "      <td>7</td>\n",
       "      <td>NaN</td>\n",
       "    </tr>\n",
       "    <tr>\n",
       "      <td>1</td>\n",
       "      <td>中區</td>\n",
       "      <td>500000</td>\n",
       "      <td>250000</td>\n",
       "      <td>6</td>\n",
       "      <td>NaN</td>\n",
       "    </tr>\n",
       "    <tr>\n",
       "      <td>2</td>\n",
       "      <td>南區</td>\n",
       "      <td>412000</td>\n",
       "      <td>400000</td>\n",
       "      <td>8</td>\n",
       "      <td>NaN</td>\n",
       "    </tr>\n",
       "    <tr>\n",
       "      <td>3</td>\n",
       "      <td>東區</td>\n",
       "      <td>240000</td>\n",
       "      <td>230000</td>\n",
       "      <td>7</td>\n",
       "      <td>NaN</td>\n",
       "    </tr>\n",
       "  </tbody>\n",
       "</table>\n",
       "</div>"
      ],
      "text/plain": [
       "   區域      人口  地價(每坪)  福利指數(滿分10) 就業機會\n",
       "0  北區  300000  300000           7  NaN\n",
       "1  中區  500000  250000           6  NaN\n",
       "2  南區  412000  400000           8  NaN\n",
       "3  東區  240000  230000           7  NaN"
      ]
     },
     "execution_count": 10,
     "metadata": {},
     "output_type": "execute_result"
    }
   ],
   "source": [
    "# 6.新增行數(column)\n",
    "data = {'區域': ['北區', '中區','南區','東區'],\n",
    "        '人口': [300000, 500000, 412000, 240000],\n",
    "        '地價(每坪)': [300000, 250000, 400000, 230000],\n",
    "        '福利指數(滿分10)':[7,6,8,7]} #字典\n",
    "D3 = pd.DataFrame(data,columns=['區域','人口', '地價(每坪)', '福利指數(滿分10)','就業機會'])\n",
    "D3"
   ]
  },
  {
   "cell_type": "code",
   "execution_count": 11,
   "metadata": {},
   "outputs": [
    {
     "data": {
      "text/html": [
       "<div>\n",
       "<style scoped>\n",
       "    .dataframe tbody tr th:only-of-type {\n",
       "        vertical-align: middle;\n",
       "    }\n",
       "\n",
       "    .dataframe tbody tr th {\n",
       "        vertical-align: top;\n",
       "    }\n",
       "\n",
       "    .dataframe thead th {\n",
       "        text-align: right;\n",
       "    }\n",
       "</style>\n",
       "<table border=\"1\" class=\"dataframe\">\n",
       "  <thead>\n",
       "    <tr style=\"text-align: right;\">\n",
       "      <th></th>\n",
       "      <th>區域</th>\n",
       "      <th>人口</th>\n",
       "      <th>地價(每坪)</th>\n",
       "      <th>福利指數(滿分10)</th>\n",
       "      <th>就業機會</th>\n",
       "    </tr>\n",
       "  </thead>\n",
       "  <tbody>\n",
       "    <tr>\n",
       "      <td>0</td>\n",
       "      <td>北區</td>\n",
       "      <td>300000</td>\n",
       "      <td>300000</td>\n",
       "      <td>7</td>\n",
       "      <td>高</td>\n",
       "    </tr>\n",
       "    <tr>\n",
       "      <td>1</td>\n",
       "      <td>中區</td>\n",
       "      <td>500000</td>\n",
       "      <td>250000</td>\n",
       "      <td>6</td>\n",
       "      <td>中</td>\n",
       "    </tr>\n",
       "    <tr>\n",
       "      <td>2</td>\n",
       "      <td>南區</td>\n",
       "      <td>412000</td>\n",
       "      <td>400000</td>\n",
       "      <td>8</td>\n",
       "      <td>高</td>\n",
       "    </tr>\n",
       "    <tr>\n",
       "      <td>3</td>\n",
       "      <td>東區</td>\n",
       "      <td>240000</td>\n",
       "      <td>230000</td>\n",
       "      <td>7</td>\n",
       "      <td>中</td>\n",
       "    </tr>\n",
       "  </tbody>\n",
       "</table>\n",
       "</div>"
      ],
      "text/plain": [
       "   區域      人口  地價(每坪)  福利指數(滿分10) 就業機會\n",
       "0  北區  300000  300000           7    高\n",
       "1  中區  500000  250000           6    中\n",
       "2  南區  412000  400000           8    高\n",
       "3  東區  240000  230000           7    中"
      ]
     },
     "execution_count": 11,
     "metadata": {},
     "output_type": "execute_result"
    }
   ],
   "source": [
    "# 7.新增行資料：\n",
    "D3['就業機會']=['高','中','高','中']\n",
    "D3"
   ]
  },
  {
   "cell_type": "code",
   "execution_count": 12,
   "metadata": {},
   "outputs": [
    {
     "data": {
      "text/html": [
       "<div>\n",
       "<style scoped>\n",
       "    .dataframe tbody tr th:only-of-type {\n",
       "        vertical-align: middle;\n",
       "    }\n",
       "\n",
       "    .dataframe tbody tr th {\n",
       "        vertical-align: top;\n",
       "    }\n",
       "\n",
       "    .dataframe thead th {\n",
       "        text-align: right;\n",
       "    }\n",
       "</style>\n",
       "<table border=\"1\" class=\"dataframe\">\n",
       "  <thead>\n",
       "    <tr style=\"text-align: right;\">\n",
       "      <th></th>\n",
       "      <th>區域</th>\n",
       "      <th>人口</th>\n",
       "      <th>地價(每坪)</th>\n",
       "      <th>福利指數(滿分10)</th>\n",
       "      <th>就業機會</th>\n",
       "    </tr>\n",
       "  </thead>\n",
       "  <tbody>\n",
       "    <tr>\n",
       "      <td>2</td>\n",
       "      <td>南區</td>\n",
       "      <td>412000</td>\n",
       "      <td>400000</td>\n",
       "      <td>8</td>\n",
       "      <td>高</td>\n",
       "    </tr>\n",
       "    <tr>\n",
       "      <td>3</td>\n",
       "      <td>東區</td>\n",
       "      <td>240000</td>\n",
       "      <td>230000</td>\n",
       "      <td>7</td>\n",
       "      <td>中</td>\n",
       "    </tr>\n",
       "  </tbody>\n",
       "</table>\n",
       "</div>"
      ],
      "text/plain": [
       "   區域      人口  地價(每坪)  福利指數(滿分10) 就業機會\n",
       "2  南區  412000  400000           8    高\n",
       "3  東區  240000  230000           7    中"
      ]
     },
     "execution_count": 12,
     "metadata": {},
     "output_type": "execute_result"
    }
   ],
   "source": [
    "# 8.刪除某欄：\n",
    "D3.drop(columns=['就業機會', '地價(每坪)']) #刪除欄\n",
    "D3.drop(index=[0, 1]) #刪除列"
   ]
  },
  {
   "cell_type": "code",
   "execution_count": 13,
   "metadata": {},
   "outputs": [
    {
     "data": {
      "text/html": [
       "<div>\n",
       "<style scoped>\n",
       "    .dataframe tbody tr th:only-of-type {\n",
       "        vertical-align: middle;\n",
       "    }\n",
       "\n",
       "    .dataframe tbody tr th {\n",
       "        vertical-align: top;\n",
       "    }\n",
       "\n",
       "    .dataframe thead th {\n",
       "        text-align: right;\n",
       "    }\n",
       "</style>\n",
       "<table border=\"1\" class=\"dataframe\">\n",
       "  <thead>\n",
       "    <tr style=\"text-align: right;\">\n",
       "      <th></th>\n",
       "      <th>區域</th>\n",
       "      <th>人口</th>\n",
       "      <th>地價(每坪)</th>\n",
       "      <th>福利指數(滿分10)</th>\n",
       "      <th>就業機會</th>\n",
       "    </tr>\n",
       "  </thead>\n",
       "  <tbody>\n",
       "    <tr>\n",
       "      <td>0</td>\n",
       "      <td>北區</td>\n",
       "      <td>300000</td>\n",
       "      <td>300000</td>\n",
       "      <td>7</td>\n",
       "      <td>高</td>\n",
       "    </tr>\n",
       "    <tr>\n",
       "      <td>1</td>\n",
       "      <td>中區</td>\n",
       "      <td>500000</td>\n",
       "      <td>250000</td>\n",
       "      <td>6</td>\n",
       "      <td>中</td>\n",
       "    </tr>\n",
       "    <tr>\n",
       "      <td>2</td>\n",
       "      <td>南區</td>\n",
       "      <td>412000</td>\n",
       "      <td>400000</td>\n",
       "      <td>8</td>\n",
       "      <td>高</td>\n",
       "    </tr>\n",
       "    <tr>\n",
       "      <td>3</td>\n",
       "      <td>東區</td>\n",
       "      <td>240000</td>\n",
       "      <td>230000</td>\n",
       "      <td>7</td>\n",
       "      <td>中</td>\n",
       "    </tr>\n",
       "    <tr>\n",
       "      <td>4</td>\n",
       "      <td>西區</td>\n",
       "      <td>350000</td>\n",
       "      <td>280000</td>\n",
       "      <td>7</td>\n",
       "      <td>低</td>\n",
       "    </tr>\n",
       "  </tbody>\n",
       "</table>\n",
       "</div>"
      ],
      "text/plain": [
       "   區域      人口  地價(每坪)  福利指數(滿分10) 就業機會\n",
       "0  北區  300000  300000           7    高\n",
       "1  中區  500000  250000           6    中\n",
       "2  南區  412000  400000           8    高\n",
       "3  東區  240000  230000           7    中\n",
       "4  西區  350000  280000           7    低"
      ]
     },
     "execution_count": 13,
     "metadata": {},
     "output_type": "execute_result"
    }
   ],
   "source": [
    "# 9.新增列及前面部分綜合(以防數據錯亂搞混)：\n",
    "\n",
    "data = {'區域': ['北區', '中區','南區','東區'],\n",
    "        '人口': [300000, 500000, 412000, 240000],\n",
    "        '地價(每坪)': [300000, 250000, 400000, 230000],\n",
    "        '福利指數(滿分10)':[7,6,8,7]} #字典\n",
    "D3 = pd.DataFrame(data,columns=['區域','人口','地價(每坪)',\"福利指數(滿分10)\",\"就業機會\"]) # 新增\"就業機會\"這欄\n",
    "D3['就業機會']=['高','中','高','中'] #填入就業機會資料\n",
    "\n",
    "D3 = D3.append({\"區域\":'西區', \"人口\":350000,\"地價(每坪)\": 280000 ,\"福利指數(滿分10)\":7 ,\"就業機會\":'低'},ignore_index=True) \n",
    "#1.要新增的字典2.預設是False，意思是一定要填入資料，所以要改成True\n",
    "D3"
   ]
  },
  {
   "cell_type": "markdown",
   "metadata": {},
   "source": [
    "### Pandas應用於CSV檔\n",
    "### 介紹CSV檔案\n",
    "CSV全名是Comma-Separated Values，中文直接翻譯是逗號分隔值，也有人稱作字元分隔值(因為字元分隔不是用逗號)，而檔案是以純文字形式去儲存表個資料，也就是純文字檔，通常是由Excel轉出的資料檔。"
   ]
  },
  {
   "cell_type": "code",
   "execution_count": 14,
   "metadata": {},
   "outputs": [
    {
     "name": "stdout",
     "output_type": "stream",
     "text": [
      "   id   price  sq_ft  floors  bedrooms  sale_month\n",
      "0   1  380000   1900       2         4           8\n",
      "1   2  350000   3380       1         4           9\n",
      "2   3  254000   2070       2         3           1\n",
      "3   4  230000   1150       1         3           2\n",
      "4   5  540000   2040       1         3           6\n",
      "5   6  240000   1550       1         3           5\n",
      "6   7  158000   1520       2         3           4\n",
      "7   8  200000    790       1         2          11\n",
      "8   9  275000   1900       1         3          12\n",
      "9  10  593500   4300       2         5          10\n"
     ]
    }
   ],
   "source": [
    "# 讀取CSV檔\n",
    "import pandas as pd #匯入函式庫\n",
    "df_train = pd.read_csv('homedata.csv')#讀取csv檔，引號內是檔案路徑\n",
    "print(df_train)"
   ]
  },
  {
   "cell_type": "code",
   "execution_count": 15,
   "metadata": {},
   "outputs": [
    {
     "data": {
      "text/html": [
       "<div>\n",
       "<style scoped>\n",
       "    .dataframe tbody tr th:only-of-type {\n",
       "        vertical-align: middle;\n",
       "    }\n",
       "\n",
       "    .dataframe tbody tr th {\n",
       "        vertical-align: top;\n",
       "    }\n",
       "\n",
       "    .dataframe thead th {\n",
       "        text-align: right;\n",
       "    }\n",
       "</style>\n",
       "<table border=\"1\" class=\"dataframe\">\n",
       "  <thead>\n",
       "    <tr style=\"text-align: right;\">\n",
       "      <th></th>\n",
       "      <th>id</th>\n",
       "      <th>price</th>\n",
       "      <th>sq_ft</th>\n",
       "      <th>floors</th>\n",
       "      <th>bedrooms</th>\n",
       "    </tr>\n",
       "  </thead>\n",
       "  <tbody>\n",
       "    <tr>\n",
       "      <td>0</td>\n",
       "      <td>1</td>\n",
       "      <td>380000</td>\n",
       "      <td>1900</td>\n",
       "      <td>2</td>\n",
       "      <td>4</td>\n",
       "    </tr>\n",
       "    <tr>\n",
       "      <td>1</td>\n",
       "      <td>2</td>\n",
       "      <td>350000</td>\n",
       "      <td>3380</td>\n",
       "      <td>1</td>\n",
       "      <td>4</td>\n",
       "    </tr>\n",
       "    <tr>\n",
       "      <td>2</td>\n",
       "      <td>3</td>\n",
       "      <td>254000</td>\n",
       "      <td>2070</td>\n",
       "      <td>2</td>\n",
       "      <td>3</td>\n",
       "    </tr>\n",
       "    <tr>\n",
       "      <td>3</td>\n",
       "      <td>4</td>\n",
       "      <td>230000</td>\n",
       "      <td>1150</td>\n",
       "      <td>1</td>\n",
       "      <td>3</td>\n",
       "    </tr>\n",
       "    <tr>\n",
       "      <td>4</td>\n",
       "      <td>5</td>\n",
       "      <td>540000</td>\n",
       "      <td>2040</td>\n",
       "      <td>1</td>\n",
       "      <td>3</td>\n",
       "    </tr>\n",
       "    <tr>\n",
       "      <td>5</td>\n",
       "      <td>6</td>\n",
       "      <td>240000</td>\n",
       "      <td>1550</td>\n",
       "      <td>1</td>\n",
       "      <td>3</td>\n",
       "    </tr>\n",
       "    <tr>\n",
       "      <td>6</td>\n",
       "      <td>7</td>\n",
       "      <td>158000</td>\n",
       "      <td>1520</td>\n",
       "      <td>2</td>\n",
       "      <td>3</td>\n",
       "    </tr>\n",
       "    <tr>\n",
       "      <td>7</td>\n",
       "      <td>8</td>\n",
       "      <td>200000</td>\n",
       "      <td>790</td>\n",
       "      <td>1</td>\n",
       "      <td>2</td>\n",
       "    </tr>\n",
       "    <tr>\n",
       "      <td>8</td>\n",
       "      <td>9</td>\n",
       "      <td>275000</td>\n",
       "      <td>1900</td>\n",
       "      <td>1</td>\n",
       "      <td>3</td>\n",
       "    </tr>\n",
       "    <tr>\n",
       "      <td>9</td>\n",
       "      <td>10</td>\n",
       "      <td>593500</td>\n",
       "      <td>4300</td>\n",
       "      <td>2</td>\n",
       "      <td>5</td>\n",
       "    </tr>\n",
       "  </tbody>\n",
       "</table>\n",
       "</div>"
      ],
      "text/plain": [
       "   id   price  sq_ft  floors  bedrooms\n",
       "0   1  380000   1900       2         4\n",
       "1   2  350000   3380       1         4\n",
       "2   3  254000   2070       2         3\n",
       "3   4  230000   1150       1         3\n",
       "4   5  540000   2040       1         3\n",
       "5   6  240000   1550       1         3\n",
       "6   7  158000   1520       2         3\n",
       "7   8  200000    790       1         2\n",
       "8   9  275000   1900       1         3\n",
       "9  10  593500   4300       2         5"
      ]
     },
     "execution_count": 15,
     "metadata": {},
     "output_type": "execute_result"
    }
   ],
   "source": [
    "# 刪除不要的行\n",
    "# 那我們在查看資料後，覺得售出月份對於定價影響不大，所以想要剃除，方法有兩個\n",
    "# 1.正面進攻(比較簡單快速)：\n",
    "\n",
    "df_train = df_train.drop(\"sale_month\",axis=1)\n",
    "#1.指定要的行或列名稱2.axis 0是指列(橫向)；1則是行(縱向) \n",
    "df_train"
   ]
  },
  {
   "cell_type": "code",
   "execution_count": 16,
   "metadata": {},
   "outputs": [
    {
     "data": {
      "text/html": [
       "<div>\n",
       "<style scoped>\n",
       "    .dataframe tbody tr th:only-of-type {\n",
       "        vertical-align: middle;\n",
       "    }\n",
       "\n",
       "    .dataframe tbody tr th {\n",
       "        vertical-align: top;\n",
       "    }\n",
       "\n",
       "    .dataframe thead th {\n",
       "        text-align: right;\n",
       "    }\n",
       "</style>\n",
       "<table border=\"1\" class=\"dataframe\">\n",
       "  <thead>\n",
       "    <tr style=\"text-align: right;\">\n",
       "      <th></th>\n",
       "      <th>id</th>\n",
       "      <th>price</th>\n",
       "      <th>sq_ft</th>\n",
       "      <th>floors</th>\n",
       "      <th>bedrooms</th>\n",
       "    </tr>\n",
       "  </thead>\n",
       "  <tbody>\n",
       "    <tr>\n",
       "      <td>0</td>\n",
       "      <td>1</td>\n",
       "      <td>380000</td>\n",
       "      <td>1900</td>\n",
       "      <td>2</td>\n",
       "      <td>4</td>\n",
       "    </tr>\n",
       "    <tr>\n",
       "      <td>1</td>\n",
       "      <td>2</td>\n",
       "      <td>350000</td>\n",
       "      <td>3380</td>\n",
       "      <td>1</td>\n",
       "      <td>4</td>\n",
       "    </tr>\n",
       "    <tr>\n",
       "      <td>2</td>\n",
       "      <td>3</td>\n",
       "      <td>254000</td>\n",
       "      <td>2070</td>\n",
       "      <td>2</td>\n",
       "      <td>3</td>\n",
       "    </tr>\n",
       "    <tr>\n",
       "      <td>3</td>\n",
       "      <td>4</td>\n",
       "      <td>230000</td>\n",
       "      <td>1150</td>\n",
       "      <td>1</td>\n",
       "      <td>3</td>\n",
       "    </tr>\n",
       "    <tr>\n",
       "      <td>4</td>\n",
       "      <td>5</td>\n",
       "      <td>540000</td>\n",
       "      <td>2040</td>\n",
       "      <td>1</td>\n",
       "      <td>3</td>\n",
       "    </tr>\n",
       "    <tr>\n",
       "      <td>5</td>\n",
       "      <td>6</td>\n",
       "      <td>240000</td>\n",
       "      <td>1550</td>\n",
       "      <td>1</td>\n",
       "      <td>3</td>\n",
       "    </tr>\n",
       "    <tr>\n",
       "      <td>6</td>\n",
       "      <td>7</td>\n",
       "      <td>158000</td>\n",
       "      <td>1520</td>\n",
       "      <td>2</td>\n",
       "      <td>3</td>\n",
       "    </tr>\n",
       "    <tr>\n",
       "      <td>7</td>\n",
       "      <td>8</td>\n",
       "      <td>200000</td>\n",
       "      <td>790</td>\n",
       "      <td>1</td>\n",
       "      <td>2</td>\n",
       "    </tr>\n",
       "    <tr>\n",
       "      <td>8</td>\n",
       "      <td>9</td>\n",
       "      <td>275000</td>\n",
       "      <td>1900</td>\n",
       "      <td>1</td>\n",
       "      <td>3</td>\n",
       "    </tr>\n",
       "    <tr>\n",
       "      <td>9</td>\n",
       "      <td>10</td>\n",
       "      <td>593500</td>\n",
       "      <td>4300</td>\n",
       "      <td>2</td>\n",
       "      <td>5</td>\n",
       "    </tr>\n",
       "  </tbody>\n",
       "</table>\n",
       "</div>"
      ],
      "text/plain": [
       "   id   price  sq_ft  floors  bedrooms\n",
       "0   1  380000   1900       2         4\n",
       "1   2  350000   3380       1         4\n",
       "2   3  254000   2070       2         3\n",
       "3   4  230000   1150       1         3\n",
       "4   5  540000   2040       1         3\n",
       "5   6  240000   1550       1         3\n",
       "6   7  158000   1520       2         3\n",
       "7   8  200000    790       1         2\n",
       "8   9  275000   1900       1         3\n",
       "9  10  593500   4300       2         5"
      ]
     },
     "execution_count": 16,
     "metadata": {},
     "output_type": "execute_result"
    }
   ],
   "source": [
    "# 2.反面進攻(比較麻煩，保留特定行數)：\n",
    "\n",
    "df_train = df_train.iloc[:,:5] \n",
    "#中括號內，第一個:前後都不田表示\"列\"全部都要保留；行則是保留0~4\n",
    "#利用.iloc把index 5的移除(保留0~4)\n",
    "#又因為冒號後面填n的話，會數到n-1，我們要保留0~4，所以，要填5\n",
    "df_train"
   ]
  },
  {
   "cell_type": "code",
   "execution_count": 17,
   "metadata": {},
   "outputs": [
    {
     "name": "stdout",
     "output_type": "stream",
     "text": [
      "[[     1 380000   1900      2      4]\n",
      " [     2 350000   3380      1      4]\n",
      " [     3 254000   2070      2      3]\n",
      " [     4 230000   1150      1      3]\n",
      " [     5 540000   2040      1      3]\n",
      " [     6 240000   1550      1      3]\n",
      " [     7 158000   1520      2      3]\n",
      " [     8 200000    790      1      2]\n",
      " [     9 275000   1900      1      3]\n",
      " [    10 593500   4300      2      5]]\n",
      "******************************\n",
      "[380000 350000 254000 230000 540000 240000 158000 200000 275000 593500]\n"
     ]
    }
   ],
   "source": [
    "# 提取數值建立dataset\n",
    "# 這邊要特地將表格內的數值取出，也就是我不要index和欄位，只要裡面的數值資料。\n",
    "\n",
    "train_dataset = df_train.values #提取資料\n",
    "print(train_dataset)\n",
    "print('*'*30)\n",
    "train_targets = train_dataset[:,1] #抓出price\n",
    "print(train_targets)"
   ]
  }
 ],
 "metadata": {
  "kernelspec": {
   "display_name": "Python 3",
   "language": "python",
   "name": "python3"
  },
  "language_info": {
   "codemirror_mode": {
    "name": "ipython",
    "version": 3
   },
   "file_extension": ".py",
   "mimetype": "text/x-python",
   "name": "python",
   "nbconvert_exporter": "python",
   "pygments_lexer": "ipython3",
   "version": "3.7.4"
  }
 },
 "nbformat": 4,
 "nbformat_minor": 2
}
