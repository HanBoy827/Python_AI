{
 "cells": [
  {
   "cell_type": "markdown",
   "metadata": {},
   "source": [
    "# 主題：input(讓使用者輸入資料)\n",
    "input的功能是讓使用者所有輸入的資料會被當成字串儲存起來，需要時再作轉型"
   ]
  },
  {
   "cell_type": "code",
   "execution_count": 1,
   "metadata": {},
   "outputs": [
    {
     "name": "stdout",
     "output_type": "stream",
     "text": [
      "123\n",
      "a= 123\n",
      "\n",
      "Your Name= Han\n",
      "Your Name=  Han\n"
     ]
    }
   ],
   "source": [
    "a=input()  #它會等你輸入，並以字串(string)的形式存入a這個變數中。\n",
    "print(\"a=\",a)\n",
    "print(end=\"\\n\")\n",
    "\n",
    "b=input(\"Your Name= \")  #在螢幕上會出現’Your Name: ’的提示，並把資料以字串(string)形式存入b這個變數中。\n",
    "print(\"Your Name= \",b)"
   ]
  },
  {
   "cell_type": "code",
   "execution_count": null,
   "metadata": {},
   "outputs": [],
   "source": []
  },
  {
   "cell_type": "markdown",
   "metadata": {},
   "source": [
    "# 主題：split()函數\n",
    "用法：通過指定分隔符號對字符串進行切片，如果參數 num 有指定值，則僅分隔 num+1 個子字符串\n",
    "\n",
    "語法：a.split( str=\" \" , num=string.count(str) )[n]\n",
    "* str：表示為分隔符，默認為空格，但是不能為空('')。若字符串中沒有分隔符，則把整個字符串作為列表的一個元素\n",
    "* num：表示分割次數。如果存在參數num，則僅分隔成num+1個子字符串，並且每一個子字符串可以賦給新的變量\n",
    "* [n]：表示選取第n個分片\n"
   ]
  },
  {
   "cell_type": "code",
   "execution_count": 2,
   "metadata": {},
   "outputs": [
    {
     "name": "stdout",
     "output_type": "stream",
     "text": [
      "['Line1-abcdef', 'Line2-abc', 'Line4-abcd']\n",
      "Line2-abc\n",
      "['Line1-abcdef', '\\nLine2-abc \\nLine4-abcd']\n",
      "\n",
      "['Google', 'Runoob#Taobao#Facebook']\n",
      "\n",
      "['What', 'are', 'you', 'doing?']\n",
      "['What', '', '', '', 'are', 'you', '', '', '', '', '', '', 'doing?', '', '', '']\n",
      "請輸入二個正整數：3 9\n",
      "請輸入二個正整數：2 6\n",
      "請輸入二個正整數：3 7\n",
      "[3, 2, 3]\n"
     ]
    }
   ],
   "source": [
    "# 範例 1\n",
    "a = \"Line1-abcdef \\nLine2-abc \\nLine4-abcd\"\n",
    "print( a.split(      )   ) # 以空格為分隔符號(包含 \\n)\n",
    "print( a.split(      )[1]) # 以空格為分隔符號(包含 \\n)選取第二個部份\n",
    "print( a.split(' ', 1)   ) # 以空格為分隔符號，分隔成2(1+1)個(不包含 \\n)\n",
    "print(end=\"\\n\")\n",
    "\n",
    "# 範例 2\n",
    "txt = \"Google#Runoob#Taobao#Facebook\"\n",
    "x = txt.split(\"#\", 1) # 以#為分隔符號,参数為1，分隔出两個参數列表\n",
    "print(x)\n",
    "print(end=\"\\n\")\n",
    "\n",
    "# 範例 3\n",
    "# 注意陷阱：string .split() 不帶參數時，和string.split(' ')是有很大區別的！\n",
    "# string.split() 的在盡可能多的空格處切斷，例如：\n",
    "print( 'What    are you       doing?   '.split() )\n",
    "print( 'What    are you       doing?   '.split(' ') )\n",
    "\n",
    "# 範例 4\n",
    "c=[]\n",
    "for z in range(0,3):\n",
    "    a, b = input('請輸入二個正整數：').split()\n",
    "    a = int(a)\n",
    "    b = int(b)\n",
    "    c.append(a)\n",
    "print(c)"
   ]
  },
  {
   "cell_type": "code",
   "execution_count": null,
   "metadata": {},
   "outputs": [],
   "source": []
  },
  {
   "cell_type": "markdown",
   "metadata": {},
   "source": [
    "# 主題：自訂函數 def( )"
   ]
  },
  {
   "cell_type": "markdown",
   "metadata": {},
   "source": [
    "## 4-1 def( ) 的基本語法\n",
    "要先定義(建立)函式，然後才能呼叫(使用)函式"
   ]
  },
  {
   "cell_type": "code",
   "execution_count": 3,
   "metadata": {},
   "outputs": [
    {
     "name": "stdout",
     "output_type": "stream",
     "text": [
      "123\n",
      "我好帥\n",
      "\n",
      "9\n",
      "30\n",
      "\n",
      "18\n",
      "None\n"
     ]
    }
   ],
   "source": [
    "# 基本語法：\n",
    "# def 函式名稱(參數名稱):\n",
    "#     函式內部程式碼\n",
    "\n",
    "# 範例一\n",
    "def sayHello(zxc):   # 定義函式\n",
    "    print(zxc)\n",
    "sayHello(123)   # 呼叫函式\n",
    "sayHello(\"我好帥\")\n",
    "print(end=\"\\n\")\n",
    "    \n",
    "# 範例二\n",
    "def add(n1, n2):   # 定義函式\n",
    "    result=n1+n2\n",
    "    print(result)\n",
    "add(3,6)   # 呼叫函式\n",
    "add(10,20)\n",
    "print(end=\"\\n\")\n",
    "\n",
    "# 範例三\n",
    "def aaa(n1, n2):   # 定義函式\n",
    "    print(n1*n2)\n",
    "zxc=aaa(3,6)   # 呼叫函式\n",
    "print(zxc)"
   ]
  },
  {
   "cell_type": "code",
   "execution_count": 4,
   "metadata": {},
   "outputs": [
    {
     "name": "stdout",
     "output_type": "stream",
     "text": [
      "55\n",
      "55\n",
      "210\n",
      "\n",
      "Hi Function\n",
      "Hello\n",
      "\n",
      "0.5\n",
      "2.0\n"
     ]
    }
   ],
   "source": [
    "# 範例四 (程式的包裝):函式可用來做程式的包裝，同樣的邏輯可以重複利用\n",
    "sum=0\n",
    "for n in range(1,11):\n",
    "    sum=sum+n\n",
    "print(sum)\n",
    "\n",
    "def calculate(z):\n",
    "    sum=0\n",
    "    for n in range(1,z+1):\n",
    "        sum=sum+n\n",
    "    print(sum)\n",
    "calculate(10)    \n",
    "calculate(20)\n",
    "print(end=\"\\n\")\n",
    "\n",
    "# 範例五 (預設資料)\n",
    "def say(msg=\"Hello\"):\n",
    "    print(msg)\n",
    "say(\"Hi Function\")\n",
    "say()\n",
    "print(end=\"\\n\")\n",
    "\n",
    "# 範例六 (名稱對應)\n",
    "def divide(n1, n2):\n",
    "    result=n1/n2\n",
    "    print(result)\n",
    "divide(2,4)\n",
    "divide(n2=2,n1=4)"
   ]
  },
  {
   "cell_type": "markdown",
   "metadata": {},
   "source": [
    "## 4-2 def( ) 的回傳值 - return"
   ]
  },
  {
   "cell_type": "code",
   "execution_count": 5,
   "metadata": {},
   "outputs": [
    {
     "name": "stdout",
     "output_type": "stream",
     "text": [
      "314.0\n",
      "62.800000000000004\n",
      "314.0\n",
      "62.800000000000004\n",
      "(314.0, 62.800000000000004)\n"
     ]
    }
   ],
   "source": [
    "# 基本語法 (回傳值)：\n",
    "# def 函式名稱(參數名稱):\n",
    "#     函式內部程式碼\n",
    "#     return 資料(結束函式,回傳資料)\n",
    "\n",
    "# 範例一 (計算圓面積的函數) : 自訂一個輸入半徑長度可以計算出圓面積的函數\n",
    "def circle_area(r):\n",
    "    pi = 3.14\n",
    "    return  pi * r**2\n",
    "circle_area(10)\n",
    "print(circle_area(10))\n",
    "\n",
    "# 範例二 (計算圓周長的函數) : 自訂一個輸入半徑長度可以計算出圓周長的函數\n",
    "def circle_circum(r):\n",
    "    pi = 3.14\n",
    "    return 2 * pi * r\n",
    "print(circle_circum(10))\n",
    "\n",
    "# 範例三 (加入參數) : 自訂一個輸入半徑長度可以計算出圓面積與圓周長 ,利用參數 is_area 決定要回傳圓面積或圓周長(預設回傳圓面積)的函數\n",
    "def circle_calculator(r, is_area=True): # 參數必須有指定預設值\n",
    "    pi = 3.14\n",
    "    if is_area == True:\n",
    "        return pi * r**2\n",
    "    else:\n",
    "        return 2 * pi * r\n",
    "print(circle_calculator(10))\n",
    "print(circle_calculator(10, is_area=False))\n",
    "\n",
    "# 範例四 (有多個輸出的函數) : 自訂一個輸入半徑長度可以計算出圓面積與圓周長 ,並將圓面積與圓周長一起回傳\n",
    "def circle_calculator(r):\n",
    "    pi = 3.14\n",
    "    area = pi * r**2\n",
    "    circum = 2 * pi * r\n",
    "    return area, circum\n",
    "print(circle_calculator(10))"
   ]
  },
  {
   "cell_type": "markdown",
   "metadata": {},
   "source": [
    "## 4-3 定義函式的參數使用*"
   ]
  },
  {
   "cell_type": "code",
   "execution_count": 6,
   "metadata": {},
   "outputs": [
    {
     "name": "stdout",
     "output_type": "stream",
     "text": [
      "3\n",
      "6\n",
      "10\n",
      "{'a': 1, 'b': 22, 'c': 3}\n",
      "\n",
      "6\n",
      "6\n",
      "\n",
      "(1, 2, 3)\n",
      "{}\n",
      "()\n",
      "{'a': 1, 'b': 22, 'c': 3}\n",
      "(2,)\n",
      "{'a': 1, 'b': 22, 'c': 3}\n"
     ]
    }
   ],
   "source": [
    "# 範例一 :\n",
    "def sum(*numbers):  #定義函式的參數時使用*，表示該參數接受不定長度引數\n",
    "    total = 0\n",
    "    for number in numbers:  # 以 Tuple的方式處理\n",
    "        total += number\n",
    "    return total\n",
    "print(sum(1, 2))    \n",
    "print(sum(1, 2, 3)) \n",
    "print(sum(1, 2, 3, 4))\n",
    "\n",
    "# 範例二 :\n",
    "def qwe(**hjk):\n",
    "     return hjk\n",
    "print(qwe(a = 1, b = 22, c = 3)) \n",
    "print(end=\"\\n\")\n",
    "\n",
    "# 範例三(如果你有個函式擁有固定的參數，你可以將一個Tuple傳入，只要在傳入時加上*，則Tuple中每個元素會自動指定給各個參數) :\n",
    "def sum3(a, b, c):\n",
    "    return a + b + c\n",
    "numbers = (1, 2, 3)\n",
    "print(sum3(*numbers))\n",
    "\n",
    "# 範例四(如果函式參數個數固定，你也可以傳給函式一個字典物件，只要在物件前加上**，則Python會依字典物件的鍵名稱，將值指定給對應名稱的參數。) :\n",
    "def sum3(a, b, c):\n",
    "    return a + b + c\n",
    "args = {'a' : 1, 'b' : 2, 'c' : 3}\n",
    "print(sum3(**args))\n",
    "print(end=\"\\n\")\n",
    "\n",
    "# 範例五(在一個函式中，同時使用*與**) :\n",
    "def some(*arg1, **arg2):\n",
    "     print(arg1)\n",
    "     print(arg2)\n",
    "some(1, 2, 3)\n",
    "some(a = 1, b = 22, c = 3)\n",
    "some(2, a = 1, b = 22, c = 3)"
   ]
  },
  {
   "cell_type": "markdown",
   "metadata": {},
   "source": [
    "## 4-4 其他"
   ]
  },
  {
   "cell_type": "code",
   "execution_count": 7,
   "metadata": {},
   "outputs": [
    {
     "name": "stdout",
     "output_type": "stream",
     "text": [
      "9\n",
      "0\n",
      "\n",
      "請輸入數值。\n"
     ]
    }
   ],
   "source": [
    "# 範例一(變數範圍) : 程式的變數中被區分為區域變數（local variables）與全域變數（global variables）\n",
    "# 在函數內我們能夠使用兩種類型的變數，但是在函數外僅能使用全域變數\n",
    "ans = 0 # ans 是一個全域變數\n",
    "def my_squared(x):\n",
    "    ans = x ** 2 # ans 是一個區域變數\n",
    "    return ans\n",
    "print(my_squared(3)) # 區域變數 ans 的值是 9\n",
    "print(0) # 全域變數 ans 的值是 0\n",
    "print(end=\"\\n\")\n",
    "\n",
    "# 範例二(錯誤處理) : 自訂一個針對不同的錯誤類型設計客製錯誤訊息的函數 2-2\n",
    "def divide(x, y):\n",
    "    try:\n",
    "        return x / y\n",
    "    except TypeError:\n",
    "        return \"請輸入數值。\"\n",
    "    except ZeroDivisionError:\n",
    "        return \"除數不可以為零。\"\n",
    "    except:\n",
    "        return \"其他的錯誤。\"\n",
    "print(divide(\"9\", 3))"
   ]
  }
 ],
 "metadata": {
  "kernelspec": {
   "display_name": "Python 3",
   "language": "python",
   "name": "python3"
  },
  "language_info": {
   "codemirror_mode": {
    "name": "ipython",
    "version": 3
   },
   "file_extension": ".py",
   "mimetype": "text/x-python",
   "name": "python",
   "nbconvert_exporter": "python",
   "pygments_lexer": "ipython3",
   "version": "3.7.4"
  }
 },
 "nbformat": 4,
 "nbformat_minor": 2
}
