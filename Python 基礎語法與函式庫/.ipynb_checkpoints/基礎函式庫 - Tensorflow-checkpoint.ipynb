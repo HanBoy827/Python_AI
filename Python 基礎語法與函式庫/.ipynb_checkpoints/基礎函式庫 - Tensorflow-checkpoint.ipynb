{
 "cells": [
  {
   "cell_type": "markdown",
   "metadata": {},
   "source": [
    "### Tensorflow介紹\n",
    "TensorFlow 是一種採用數據流圖(Dataflow Graph)並用於數值計算的開源函式庫，更是一個用於開發機器學習的平台，而且同樣的程式碼可以用CPU執行也可以用GPU執行，並支援許多語言：pyhton、C++、Java、Go...。更簡單的直接一句話概括是，Tensorflow就是Google開發出來的開源機器學習工具"
   ]
  },
  {
   "cell_type": "markdown",
   "metadata": {},
   "source": [
    "### 那為什麼叫Tensorflow呢？\n",
    "先介紹下Tensorflow會用到的數據流圖(Dataflow Graph)，是指Tensorflow會依照數據流圖來根據各操作間的關係來表示計算。概念大概是：\n",
    "* 定義數據流圖(Dataflow Graph)\n",
    "* 建立Tensorflow會話(Session)，並運行數據流圖\n",
    "\n",
    "數據流圖(Dataflow Graph)樣子(利用Tensorboard建立的視覺化，之後會提到)：\n",
    "\n",
    "![圖](DataflowGraph.png)\n",
    "\n",
    "\n",
    "### 那名字的由來：\n",
    "* Tensor的中文是張量的意思，而張量是「陣列」的廣義說法，所以Tensor可以代表是一維陣列、二維陣列...N維陣列。\n",
    "* Flow的中文是流的意思，類似一種流程的想法，就像我們寫程式，宣告變數，傳遞變數，計算，再傳遞...等等，最後輸出，也有流的想法在。然而，Tensorflow的流和上述不太相同，Tensorflow是把所有的節點設好，才用一個叫**sess.run()**來啟動計算圖。"
   ]
  },
  {
   "cell_type": "code",
   "execution_count": 1,
   "metadata": {},
   "outputs": [
    {
     "name": "stdout",
     "output_type": "stream",
     "text": [
      "5\n"
     ]
    }
   ],
   "source": [
    "import tensorflow as tf #引入函式庫\n",
    "x = tf.constant(2)      #constant是指不可改變的數字(也就是常數)\n",
    "\n",
    "#常用語法tf.constant(value,dtype=None,shape=None) 分別是 1.數值 2.型態 3.形狀(幾維)\n",
    "y = tf.constant(3) \n",
    "z = tf.add(x,y) #兩常數相加\n",
    "\n",
    "with tf.Session() as sess : #幫tf.Session()取個綽號\n",
    "#且用 with as 當程式結束後會 釋放資源\n",
    "    print(sess.run(z)) #啟動數據流圖"
   ]
  },
  {
   "cell_type": "markdown",
   "metadata": {},
   "source": [
    "1.張量(tensor)：昨天有提到，就是N維陣列，可以想成是數據。\n",
    "2.節點(op)：有運算操作的概念，當一個op獲得數個Tensor時，會執行計算可能產生一個或多個Tensor。\n",
    "3.會話(session)：Tensorflow是基於數據流圖的學習框架，而Session就是圖和執行之間的媒介。"
   ]
  },
  {
   "cell_type": "markdown",
   "metadata": {},
   "source": [
    "### Tensorboard\n",
    "因為Tensorflow經常用於訓練「大規模深度神經網路」計算，往往太過複雜，為了能夠更清楚其中的奧秘，才會有了Tensorboard的發展，Tensorboard是用於視覺化數據流程、損失函式查看或者準確度變化的分析等等，用Tensorboard都可以輕易達成目的"
   ]
  },
  {
   "cell_type": "code",
   "execution_count": 2,
   "metadata": {},
   "outputs": [
    {
     "name": "stdout",
     "output_type": "stream",
     "text": [
      "[[5 5 5]\n",
      " [5 5 5]]\n"
     ]
    }
   ],
   "source": [
    "import tensorflow as tf #引入函式庫\n",
    "\n",
    "x = tf.constant([2],shape = [2,3],name = 'a') \n",
    "\n",
    "#2.shape其實很像reshape的概念，就是把它的形狀改變！\n",
    "#3.name就是重新命名，讓它在視覺化時有個名分\n",
    "y = tf.constant([3],shape = [2,3],name = 'b') \n",
    "z = tf.add(x,y)\n",
    "\n",
    "write = tf.summary.FileWriter('./graphs',tf.get_default_graph())\n",
    "#tf.summary.FileWriter生成一個空間讓指定的東西跑進去\n",
    "#1.路徑(這樣的寫法會跑去程式檔的資料夾位置那)，graphs是名稱\n",
    "#2.tf.get_default_graph()獲取當前默認的計算圖\n",
    "with tf.Session() as sess : #命名；且文件關閉後釋放資源\n",
    "    print(sess.run(z)) #啟動數據流圖"
   ]
  },
  {
   "cell_type": "markdown",
   "metadata": {},
   "source": [
    "### 常用的張量資料型態\n",
    "* 常數(constant)：上篇有提到的，固定數值的張量。\n",
    "* 變量(variable)：在tensorflow中，變量跟我們一般的程式變數不太一樣，尤其是只要有設定變量，一定要記得初始化，且要經過sess.run才能成功被激活。變量可透過運行操作來改變其中的張量。"
   ]
  },
  {
   "cell_type": "code",
   "execution_count": 3,
   "metadata": {},
   "outputs": [
    {
     "name": "stdout",
     "output_type": "stream",
     "text": [
      "85\n"
     ]
    }
   ],
   "source": [
    "import tensorflow as tf\n",
    "a = tf.Variable(5,name = \"a\")\n",
    "b = tf.Variable(17,name = \"b\")\n",
    "c = a*b\n",
    "\n",
    "with tf.Session() as sess:\n",
    "    sess.run(tf.global_variables_initializer()) \n",
    "    #全部變量初始化，沒這行會錯\n",
    "    print(sess.run(c))"
   ]
  },
  {
   "cell_type": "markdown",
   "metadata": {},
   "source": [
    "* 佔位符(placeholder)：是一種常量，但要在run內傳遞，不像constant直接給定數值，而是由外部傳來的data進行給值。"
   ]
  },
  {
   "cell_type": "code",
   "execution_count": 4,
   "metadata": {},
   "outputs": [
    {
     "name": "stdout",
     "output_type": "stream",
     "text": [
      "[6. 7. 8.]\n"
     ]
    }
   ],
   "source": [
    "import tensorflow as tf\n",
    "x = tf.placeholder(tf.float32,shape=[3]) #1.dtype:32位浮點數2.形狀3\n",
    "y = tf.constant([5,5,5],tf.float32) \n",
    "z = x + y\n",
    "\n",
    "with tf.Session() as sess:\n",
    "    #print(sess.run(z)) #只有這樣會有bug，因為你還沒給placeholder數值，他只是佔了空間而已\n",
    "    print(sess.run(z ,feed_dict ={x : [1,2,3]}) )"
   ]
  },
  {
   "cell_type": "markdown",
   "metadata": {},
   "source": [
    "### 常用的op介紹\n",
    "Tensorflow支援的基本操作：\n",
    "![圖](Tensorflow.png)\n",
    "\n",
    "以上有許多簡單的運算其實可以不用打到tf.XXX，可以直接用python一般的程式碼去計算，如tf.add()和\"+\"就幾乎是一樣的，所以上述這些就不再多做說明。\n",
    "我們會著重在以下比較特別，卻有機會會使用到的指令："
   ]
  },
  {
   "cell_type": "code",
   "execution_count": 5,
   "metadata": {},
   "outputs": [
    {
     "name": "stdout",
     "output_type": "stream",
     "text": [
      "[-1.  2.]\n",
      "[[0. 2.]\n",
      " [2. 3.]]\n",
      "****************************************\n",
      "[1. 4.]\n",
      "[1. 2.]\n",
      "****************************************\n",
      "[[ 1.        7.389056]\n",
      " [ 7.389056 20.085537]]\n",
      "[[0.        1.4142134]\n",
      " [1.4142134 1.7320508]]\n",
      "****************************************\n",
      "[[ 0.  8.]\n",
      " [ 8. 27.]]\n"
     ]
    }
   ],
   "source": [
    "# 1.上面沒有的一些基礎的操作\n",
    "import tensorflow as tf\n",
    "x = tf.constant([-1,2],name = 'x',dtype = tf.float32)\n",
    "y = tf.constant([[0,2],[2,3]],name = 'y',dtype = tf.float32)\n",
    "\n",
    "with tf.Session() as sess:\n",
    "    print(sess.run(x))\n",
    "    print(sess.run(y))\n",
    "    print('*'*40)\n",
    "    print(sess.run(tf.square(x))) #平方\n",
    "    print(sess.run(tf.abs(x))) #絕對值\n",
    "    print('*'*40)\n",
    "    print(sess.run(tf.exp(y))) #取e\n",
    "    print(sess.run(tf.sqrt(y))) #開根號\n",
    "    print('*'*40) \n",
    "    print(sess.run(tf.pow(y,3))) #幾次方的意思，這裡是3次方"
   ]
  },
  {
   "cell_type": "code",
   "execution_count": 6,
   "metadata": {},
   "outputs": [
    {
     "name": "stdout",
     "output_type": "stream",
     "text": [
      "[[0 0 0 0 0]\n",
      " [0 0 0 0 0]\n",
      " [0 0 0 0 0]\n",
      " [0 0 0 0 0]]\n"
     ]
    }
   ],
   "source": [
    "# 2.創建全部是0的張量：\n",
    "# 語法：tf.zeros(shape, dtype=tf.float32, name=None)\n",
    "\n",
    "import tensorflow as tf\n",
    "a = tf.zeros(shape=[4, 5], dtype=tf.int32, name='a')#是4*5的矩陣\n",
    "with tf.Session() as sess:\n",
    "    print(sess.run(a))"
   ]
  },
  {
   "cell_type": "code",
   "execution_count": 7,
   "metadata": {},
   "outputs": [
    {
     "name": "stdout",
     "output_type": "stream",
     "text": [
      "[1. 2. 3. 4. 5.]\n"
     ]
    }
   ],
   "source": [
    "# 3.序列：\n",
    "# (1)tf.lin_space：會平均計算，然後在間隔中產生數值\n",
    "# 語法：tf.lin_space(start,stop,num,name=None)\n",
    "\n",
    "import tensorflow as tf\n",
    "a = tf.linspace(1.0, 5.0, 5) #1.起始值10 2.結束值13 3.數量是4\n",
    "with tf.Session() as sess:\n",
    "    print(sess.run(a))"
   ]
  },
  {
   "cell_type": "code",
   "execution_count": 8,
   "metadata": {},
   "outputs": [
    {
     "name": "stdout",
     "output_type": "stream",
     "text": [
      "[0 1 2 3 4 5 6 7 8 9]\n",
      "[0 1 2 3 4 5 6 7 8 9]\n"
     ]
    }
   ],
   "source": [
    "# (2)tf.range：建立數字序列\n",
    "# 語法：tf.range(start, limit=None, delta=1, dtype=None,name='range')\n",
    "\n",
    "import tensorflow as tf\n",
    "a = tf.range(0,10,1) #1.從0開始 2.10以前 3.公差是1\n",
    "b = tf.range(10) #10是限制\n",
    "#因為(start=0, limit=None, delta=1, dtype=None, name='range')，所以起點0和公差1都有預設了\n",
    "#所以a,b相同\n",
    "with tf.Session() as sess:\n",
    "    print(sess.run(a))\n",
    "    print(sess.run(b))"
   ]
  },
  {
   "cell_type": "code",
   "execution_count": 9,
   "metadata": {},
   "outputs": [
    {
     "name": "stdout",
     "output_type": "stream",
     "text": [
      "[[10.48565509  9.29400356  8.32698442  9.51286196]\n",
      " [13.82013658  9.26140554 10.72015467  6.56759923]\n",
      " [11.3093726   8.49358633 10.32934506  7.97655564]]\n",
      "[[10.48565509  9.29400356  8.32698442  9.51286196]\n",
      " [13.82013658  9.26140554 10.72015467  6.56759923]\n",
      " [11.3093726   8.49358633 10.32934506  7.97655564]]\n",
      "****************************************\n",
      "[[ 7.40522701 10.13930217  9.16300271 10.90471891]\n",
      " [10.83600015  9.42317886  8.31473349 10.29167639]\n",
      " [ 9.93777917 13.99150225  9.07006875 10.04976989]]\n"
     ]
    }
   ],
   "source": [
    "# 4.隨機產生常量：\n",
    "# 語法：tf.random_normal (shape, mean=0.0, stddev=1.0, dtype=tf.float32,seed=None, name=None)\n",
    "\n",
    "import tensorflow as tf\n",
    "a = tf.random_normal([3,4],10,2,tf.float64,1)\n",
    "#1. 3*4矩陣2.平均是10 3.標準差是2 4. 64位浮點數 \n",
    "#5.seed:是一個整數，設定後，每次生成的隨機數都一樣 \n",
    "b = tf.random_normal([3,4],10,2,tf.float64,1)\n",
    "c = tf.random_normal([3,4],10,2,tf.float64,2)\n",
    "with tf.Session() as sess:\n",
    "    print(sess.run(a))\n",
    "    print(sess.run(b)) #會發現seed相同時，生出的隨機數都一樣\n",
    "    print('*'*40)\n",
    "    print(sess.run(c))"
   ]
  },
  {
   "cell_type": "code",
   "execution_count": null,
   "metadata": {},
   "outputs": [],
   "source": []
  }
 ],
 "metadata": {
  "kernelspec": {
   "display_name": "Python 3",
   "language": "python",
   "name": "python3"
  },
  "language_info": {
   "codemirror_mode": {
    "name": "ipython",
    "version": 3
   },
   "file_extension": ".py",
   "mimetype": "text/x-python",
   "name": "python",
   "nbconvert_exporter": "python",
   "pygments_lexer": "ipython3",
   "version": "3.7.4"
  }
 },
 "nbformat": 4,
 "nbformat_minor": 2
}
