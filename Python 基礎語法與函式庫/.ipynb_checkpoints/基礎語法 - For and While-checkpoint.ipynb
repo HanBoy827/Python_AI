{
 "cells": [
  {
   "cell_type": "markdown",
   "metadata": {},
   "source": [
    "## 3-1 迴圈:For Loop "
   ]
  },
  {
   "cell_type": "code",
   "execution_count": 1,
   "metadata": {},
   "outputs": [
    {
     "name": "stdout",
     "output_type": "stream",
     "text": [
      "0 1 2 3 4 5 6 7 8 9 \n",
      "t a i p e i   c i t y \n",
      "0 12\n",
      "1 34\n",
      "2 34\n",
      "3 23\n",
      "4 45\n",
      "5 76\n",
      "6 89\n"
     ]
    }
   ],
   "source": [
    "# for [變數名稱] in [序列]:\n",
    "#    print([變數名稱])(指令)\n",
    "\n",
    "for i in range(0,10):\n",
    "    print(i,end=\" \")\n",
    "print(end=\"\\n\")   \n",
    "\n",
    "for i in \"taipei city\":\n",
    "    print(i,end=\" \")\n",
    "print(end=\"\\n\") \n",
    "\n",
    "# 進階版\n",
    "sequence = [ 12, 34, 34, 23, 45, 76, 89]\n",
    "for i, j in enumerate(sequence):\n",
    "    print(i, j)"
   ]
  },
  {
   "cell_type": "markdown",
   "metadata": {},
   "source": [
    "## 3-2 range"
   ]
  },
  {
   "cell_type": "code",
   "execution_count": 2,
   "metadata": {},
   "outputs": [
    {
     "name": "stdout",
     "output_type": "stream",
     "text": [
      "0 1 2 3 4 5 6 7 8 9 \n",
      "0 1 2 3 4 5 6 7 8 9 \n",
      "1 3 5 7 9 \n",
      "10 7 4 "
     ]
    }
   ],
   "source": [
    "# 用法：簡單來說range就是個產生器，你可以在這個range的範圍中拿資料、拿到n-1為止。\n",
    "# 語法：range(起點,終點,間距)，其中的間距預設為1， EX:range(0,6)=range(0,6,1)。代表從0到5，每次加1的意思。\n",
    "# range(n) = range(0,n)， EX:range(3) = range(0,3)\n",
    "\n",
    "# (1)從1到9、每次+1的數列\n",
    "for i in range(0,10):   #range(n) = range(0, n)\n",
    "    print(i,end=\" \")\n",
    "print(end=\"\\n\")   \n",
    "\n",
    "# (2)從1到9、每次+1的數列\n",
    "for i in range(10):     #range(n) = range(0, n)\n",
    "    print(i,end=\" \")\n",
    "print(end=\"\\n\")  \n",
    "\n",
    "# (3)從1到10、每次+2的數列\n",
    "for a in range(1,11,2):\n",
    "    print(a,end=\" \")\n",
    "print(end=\"\\n\")    \n",
    "    \n",
    "# (4)從10到2、每次-3的數列\n",
    "for b in range(10,1,-3):\n",
    "    print(b,end=\" \")"
   ]
  },
  {
   "cell_type": "markdown",
   "metadata": {},
   "source": [
    "## 3-3-1 break、continue、pass、else"
   ]
  },
  {
   "cell_type": "code",
   "execution_count": 3,
   "metadata": {},
   "outputs": [
    {
     "name": "stdout",
     "output_type": "stream",
     "text": [
      "c o n 迴圈執行了 4 次\n",
      "\n",
      "c o n e n 迴圈執行了 7 次\n",
      "\n",
      "c o n t e n t 迴圈執行了 7 次\n"
     ]
    }
   ],
   "source": [
    "# break：強制跳出❮整個❯迴圈\n",
    "# continue：強制跳出❮本次❯迴圈，繼續進入下一圈\n",
    "# pass：不做任何事情，所有的程式都將繼續\n",
    "\n",
    "count=0\n",
    "for string in 'content':\n",
    "    count+=1\n",
    "    if string == 't':\n",
    "        break\n",
    "    print(string,end=\" \")\n",
    "print('迴圈執行了 %d 次' %count)\n",
    "print(end=\"\\n\")\n",
    "\n",
    "count=0\n",
    "for string in 'content':\n",
    "    count+=1\n",
    "    if string == 't':\n",
    "        continue\n",
    "    print(string,end=\" \")\n",
    "print('迴圈執行了 %d 次' %count)\n",
    "print(end=\"\\n\")\n",
    "\n",
    "count=0\n",
    "for string in 'content':\n",
    "    count+=1\n",
    "    if string == 't':\n",
    "        pass\n",
    "    print(string,end=\" \")\n",
    "print('迴圈執行了 %d 次' %count)"
   ]
  },
  {
   "cell_type": "markdown",
   "metadata": {},
   "source": [
    "## 3-3-2 for例項中使用 break語句(break 語句用於跳出當前迴圈體)"
   ]
  },
  {
   "cell_type": "code",
   "execution_count": 4,
   "metadata": {},
   "outputs": [
    {
     "name": "stdout",
     "output_type": "stream",
     "text": [
      "c o n 迴圈執行了 4 次\n",
      "\n",
      "迴圈資料  Baidu\n",
      "迴圈資料  Google\n",
      "指令碼之家!\n",
      "完成迴圈!\n",
      "\n",
      "2  是質數\n",
      "3  是質數\n",
      "4 等於 2 * 2\n",
      "5  是質數\n",
      "6 等於 2 * 3\n",
      "7  是質數\n",
      "8 等於 2 * 4\n",
      "9 等於 3 * 3\n",
      "\n",
      "輸入一個正整數： 9\n",
      "整數平方根： 3\n"
     ]
    }
   ],
   "source": [
    "# 例題 1\n",
    "count=0\n",
    "for string in 'content':\n",
    "    count+=1\n",
    "    if string == 't':\n",
    "        break\n",
    "    print(string,end=\" \")\n",
    "print('迴圈執行了 %d 次' %count)\n",
    "print(end=\"\\n\")\n",
    "\n",
    "# 例題 2\n",
    "sites = [\"Baidu\", \"Google\",\"jb51\",\"Taobao\"]\n",
    "for site in sites:\n",
    "    if site == \"jb51\":\n",
    "        print(\"指令碼之家!\")\n",
    "        break\n",
    "    else:\n",
    "        print(\"迴圈資料 \",site)\n",
    "print(\"完成迴圈!\")\n",
    "print(end=\"\\n\")\n",
    "\n",
    "# 例題 3\n",
    "for n in range(2, 10):\n",
    "    for x in range(2, n):\n",
    "        if n % x == 0:\n",
    "            print(n, '等於', x, '*', n//x)\n",
    "            break  # break 語句可以跳出 for 和 while 的迴圈體。\n",
    "    else:  # 迴圈中沒有找到元素    \n",
    "        print(n, ' 是質數')\n",
    "print(end=\"\\n\")\n",
    "        \n",
    "# 例題 4\n",
    "n = int(input(\"輸入一個正整數： \"))\n",
    "for i in range(n):\n",
    "    if i*i == n:\n",
    "        print(\"整數平方根：\",i)\n",
    "        break    # 若用 break強制結束迴圈，則 else就不會被執行\n",
    "else:\n",
    "    print(\"沒有整數平方根\")"
   ]
  },
  {
   "cell_type": "markdown",
   "metadata": {},
   "source": [
    "## 3-3-3 for例項中使用 continue語句(強制跳出❮本次❯迴圈，繼續進入下一圈)"
   ]
  },
  {
   "cell_type": "code",
   "execution_count": 5,
   "metadata": {},
   "outputs": [
    {
     "name": "stdout",
     "output_type": "stream",
     "text": [
      "c o n e n 迴圈執行了 7 次\n",
      "\n",
      "1\n",
      "3\n",
      "n的次數為 2\n"
     ]
    }
   ],
   "source": [
    "# 例題 1\n",
    "count=0\n",
    "for string in 'content':\n",
    "    count+=1\n",
    "    if string == 't':\n",
    "        continue\n",
    "    print(string,end=\" \")\n",
    "print('迴圈執行了 %d 次' %count)\n",
    "print(end=\"\\n\")\n",
    "\n",
    "# 例題 2\n",
    "n=0\n",
    "for x in [0,1,2,3]:\n",
    "    if x % 2 == 0:\n",
    "        continue\n",
    "    print(x)\n",
    "    n+=1   # n = n+1\n",
    "print(\"n的次數為\",n)"
   ]
  },
  {
   "cell_type": "markdown",
   "metadata": {},
   "source": [
    "## 3-3-4 for例項中使用 pass語句(不做任何事情，一般用做佔位語句)"
   ]
  },
  {
   "cell_type": "code",
   "execution_count": 6,
   "metadata": {},
   "outputs": [
    {
     "name": "stdout",
     "output_type": "stream",
     "text": [
      "c o n t e n t 迴圈執行了 7 次\n",
      "\n",
      "當前字母 : J\n",
      "當前字母 : b\n",
      "當前字母 : 5\n",
      "當前字母 : 1\n",
      "執行 pass 塊\n",
      "當前字母 : n\n",
      "當前字母 : e\n",
      "當前字母 : t\n",
      "Good bye!\n"
     ]
    }
   ],
   "source": [
    "# 例題 1\n",
    "count=0\n",
    "for string in 'content':\n",
    "    count+=1\n",
    "    if string == \"t\":\n",
    "        pass\n",
    "    print(string,end=\" \")    \n",
    "print('迴圈執行了 %d 次' %count)\n",
    "print(end=\"\\n\")\n",
    "\n",
    "# 例題 2\n",
    "for letter in 'Jb51net': \n",
    "    if letter == 'n':\n",
    "        pass\n",
    "        print ('執行 pass 塊')\n",
    "    print ('當前字母 :', letter)\n",
    "print (\"Good bye!\")"
   ]
  },
  {
   "cell_type": "markdown",
   "metadata": {},
   "source": [
    "## 3-3-5 for例項中使用 else語句 (在離開迴圈前先跑else的指令)"
   ]
  },
  {
   "cell_type": "code",
   "execution_count": 7,
   "metadata": {},
   "outputs": [
    {
     "name": "stdout",
     "output_type": "stream",
     "text": [
      "逐一取得字串中的字元 H\n",
      "逐一取得字串中的字元 e\n",
      "逐一取得字串中的字元 l\n",
      "逐一取得字串中的字元 l\n",
      "逐一取得字串中的字元 o\n",
      "結束！\n",
      "\n",
      "55\n"
     ]
    }
   ],
   "source": [
    "# 例題 1\n",
    "for c in \"Hello\":\n",
    "    print(\"逐一取得字串中的字元\",c)\n",
    "else:\n",
    "    print(\"結束！\")\n",
    "print(end=\"\\n\")\n",
    "    \n",
    "# 例題 2(0+1+2+.....+10)\n",
    "sum = 0\n",
    "for n in range(11):\n",
    "    sum+=n\n",
    "else:\n",
    "    print(sum)"
   ]
  },
  {
   "cell_type": "code",
   "execution_count": 8,
   "metadata": {},
   "outputs": [
    {
     "name": "stdout",
     "output_type": "stream",
     "text": [
      "1\n",
      "2\n",
      "3\n",
      "4\n",
      "5\n",
      "6\n",
      "7\n",
      "8\n",
      "9\n",
      "2\n",
      "4\n",
      "6\n",
      "8\n",
      "10\n",
      "12\n",
      "14\n",
      "16\n",
      "18\n",
      "3\n",
      "6\n",
      "9\n",
      "12\n",
      "15\n",
      "18\n",
      "21\n",
      "24\n",
      "27\n",
      "4\n",
      "8\n",
      "12\n",
      "16\n",
      "20\n",
      "24\n",
      "28\n",
      "32\n",
      "36\n",
      "5\n",
      "10\n",
      "15\n",
      "20\n",
      "25\n",
      "30\n",
      "35\n",
      "40\n",
      "45\n",
      "6\n",
      "12\n",
      "18\n",
      "24\n",
      "30\n",
      "36\n",
      "42\n",
      "48\n",
      "54\n",
      "7\n",
      "14\n",
      "21\n",
      "28\n",
      "35\n",
      "42\n",
      "49\n",
      "56\n",
      "63\n",
      "8\n",
      "16\n",
      "24\n",
      "32\n",
      "40\n",
      "48\n",
      "56\n",
      "64\n",
      "72\n",
      "9\n",
      "18\n",
      "27\n",
      "36\n",
      "45\n",
      "54\n",
      "63\n",
      "72\n",
      "81\n",
      "\n",
      "1 2 3 4 5 6 7 8 9 \n",
      "2 4 6 8 10 12 14 16 18 \n",
      "3 6 9 12 15 18 21 24 27 \n",
      "4 8 12 16 20 24 28 32 36 \n",
      "5 10 15 20 25 30 35 40 45 \n",
      "6 12 18 24 30 36 42 48 54 \n",
      "7 14 21 28 35 42 49 56 63 \n",
      "8 16 24 32 40 48 56 64 72 \n",
      "9 18 27 36 45 54 63 72 81 \n"
     ]
    }
   ],
   "source": [
    "# 小練習\n",
    "\n",
    "# 請輸出一個九九乘法表。(提示:for loop裡面也可以有第二個for loop噢!)\n",
    "\n",
    "# 基本版\n",
    "for a in range(1,10):\n",
    "    for b in range(1,10):\n",
    "        print(a*b) #python要有漸層\n",
    "print(end=\"\\n\")        \n",
    "        \n",
    "# 進階版\n",
    "for a in range(1,10):\n",
    "    for b in range(1,10):\n",
    "        print(a*b,end=\" \")\n",
    "    print(end=\"\\n\")"
   ]
  },
  {
   "cell_type": "code",
   "execution_count": 9,
   "metadata": {},
   "outputs": [
    {
     "name": "stdout",
     "output_type": "stream",
     "text": [
      "ans= 99\n",
      "guess= 12\n",
      "error\n",
      "guess= 99\n",
      "Bingo\n",
      "over\n"
     ]
    }
   ],
   "source": [
    "# 小練習\n",
    "\n",
    "#請做出一支能猜數字的程式：每次讓使用者猜一個整數，若猜對就輸出Bingo；使用者最多可以猜3次。(提示: Bingo後可以使用break來離開迴圈)\n",
    "\n",
    "# 不完整(可以猜3次)\n",
    "# x = int(input(\"正確的數字是\"))\n",
    "# z = int(input(\"你猜的數字是\"))\n",
    "# if x==z :\n",
    "#     print(\"Bingo\")\n",
    "# else:\n",
    "#     print(\"again\")    \n",
    "    \n",
    "#正確版\n",
    "ans = int(input(\"ans= \"))\n",
    "for Chance in range(0,3):\n",
    "    guess = int(input(\"guess= \"))\n",
    "    if ans == guess:\n",
    "        print(\"Bingo\")\n",
    "        break\n",
    "    else:\n",
    "        print(\"error\")\n",
    "print(\"over\")"
   ]
  },
  {
   "cell_type": "markdown",
   "metadata": {},
   "source": [
    "## 4-1 While迴圈"
   ]
  },
  {
   "cell_type": "code",
   "execution_count": 10,
   "metadata": {},
   "outputs": [
    {
     "name": "stdout",
     "output_type": "stream",
     "text": [
      "0\n",
      "1\n",
      "2\n",
      "\n",
      "0\n",
      "1\n",
      "2\n"
     ]
    }
   ],
   "source": [
    "# while迴圈以某個條件，作為控制條件的重點\n",
    "\n",
    "# 以控制變數(count)小於3，作為控制條件\n",
    "count = 0              #初始值\n",
    "while count < 3:       #讓迴圈結束的條件\n",
    "    print (count)\n",
    "    count += 1    #更新count \n",
    "print(end=\"\\n\")\n",
    "  \n",
    "# 以while等於True作為控制條件，製造無窮迴圈\n",
    "count = 0\n",
    "while True:         #無窮迴圈起手式  \n",
    "    print(count)\n",
    "    count += 1\n",
    "    if count > 2 :  #當count大於2時迴圈結束\n",
    "        break               "
   ]
  },
  {
   "cell_type": "markdown",
   "metadata": {},
   "source": [
    "## 4-2 無限迴圈(用CTRL+C+Enter退出當前的無限迴圈)"
   ]
  },
  {
   "cell_type": "code",
   "execution_count": 11,
   "metadata": {},
   "outputs": [
    {
     "name": "stdout",
     "output_type": "stream",
     "text": [
      "請輸入p結束1\n",
      "請輸入p結束2\n",
      "請輸入p結束FH\n",
      "請輸入p結束hg\n",
      "請輸入p結束p\n",
      "輸入一個數字 :12\n",
      "你輸入的數字是:  12\n",
      "輸入一個數字 :96\n",
      "你輸入的數字是:  96\n",
      "輸入一個數字 :s\n"
     ]
    },
    {
     "ename": "ValueError",
     "evalue": "invalid literal for int() with base 10: 's'",
     "output_type": "error",
     "traceback": [
      "\u001b[1;31m---------------------------------------------------------------------------\u001b[0m",
      "\u001b[1;31mValueError\u001b[0m                                Traceback (most recent call last)",
      "\u001b[1;32m<ipython-input-11-6bd31c28bbec>\u001b[0m in \u001b[0;36m<module>\u001b[1;34m\u001b[0m\n\u001b[0;32m      7\u001b[0m \u001b[0mvar\u001b[0m \u001b[1;33m=\u001b[0m \u001b[1;36m1\u001b[0m\u001b[1;33m\u001b[0m\u001b[1;33m\u001b[0m\u001b[0m\n\u001b[0;32m      8\u001b[0m \u001b[1;32mwhile\u001b[0m \u001b[0mvar\u001b[0m \u001b[1;33m==\u001b[0m \u001b[1;36m1\u001b[0m \u001b[1;33m:\u001b[0m \u001b[1;31m# 表示式永遠為 true\u001b[0m\u001b[1;33m\u001b[0m\u001b[1;33m\u001b[0m\u001b[0m\n\u001b[1;32m----> 9\u001b[1;33m     \u001b[0mnum\u001b[0m \u001b[1;33m=\u001b[0m \u001b[0mint\u001b[0m\u001b[1;33m(\u001b[0m\u001b[0minput\u001b[0m\u001b[1;33m(\u001b[0m\u001b[1;34m\"輸入一個數字 :\"\u001b[0m\u001b[1;33m)\u001b[0m\u001b[1;33m)\u001b[0m\u001b[1;33m\u001b[0m\u001b[1;33m\u001b[0m\u001b[0m\n\u001b[0m\u001b[0;32m     10\u001b[0m     \u001b[0mprint\u001b[0m \u001b[1;33m(\u001b[0m\u001b[1;34m\"你輸入的數字是: \"\u001b[0m\u001b[1;33m,\u001b[0m \u001b[0mnum\u001b[0m\u001b[1;33m)\u001b[0m\u001b[1;33m\u001b[0m\u001b[1;33m\u001b[0m\u001b[0m\n\u001b[0;32m     11\u001b[0m \u001b[0mprint\u001b[0m \u001b[1;33m(\u001b[0m\u001b[1;34m\"Good bye!\"\u001b[0m\u001b[1;33m)\u001b[0m\u001b[1;33m\u001b[0m\u001b[1;33m\u001b[0m\u001b[0m\n",
      "\u001b[1;31mValueError\u001b[0m: invalid literal for int() with base 10: 's'"
     ]
    }
   ],
   "source": [
    "# 重複輸入，當輸入p則中止程式\n",
    "while True:\n",
    "    str1 = input(\"請輸入p結束\")\n",
    "    if str1==\"p\":\n",
    "        break\n",
    "\n",
    "var = 1\n",
    "while var == 1 : # 表示式永遠為 true\n",
    "    num = int(input(\"輸入一個數字 :\"))\n",
    "    print (\"你輸入的數字是: \", num)\n",
    "print (\"Good bye!\")"
   ]
  },
  {
   "cell_type": "markdown",
   "metadata": {},
   "source": [
    "## 4-3-1 while迴圈可以搭配 break、continue、pass、else"
   ]
  },
  {
   "cell_type": "code",
   "execution_count": 12,
   "metadata": {},
   "outputs": [
    {
     "name": "stdout",
     "output_type": "stream",
     "text": [
      "當前字母為 : J\n",
      "當前字母為 : b\n",
      "當前字母為 : 5\n",
      "當前字母為 : 1\n",
      "當前字母為 : n\n",
      "當期變數值為:  10\n",
      "當期變數值為:  9\n",
      "當期變數值為:  8\n",
      "當期變數值為:  7\n",
      "當期變數值為:  6\n",
      "Good bye!\n",
      "\n",
      "當前字母 : J\n",
      "當前字母 : b\n",
      "當前字母 : 5\n",
      "當前字母 : 1\n",
      "當前字母 : e\n",
      "當前字母 : t\n",
      "當前變數值 : 9\n",
      "當前變數值 : 8\n",
      "當前變數值 : 7\n",
      "當前變數值 : 6\n",
      "當前變數值 : 4\n",
      "當前變數值 : 3\n",
      "當前變數值 : 2\n",
      "當前變數值 : 1\n",
      "當前變數值 : 0\n",
      "Good bye!\n"
     ]
    }
   ],
   "source": [
    "# break：強制跳出❮整個❯迴圈\n",
    "\n",
    "for letter in 'Jb51net':\n",
    "    if letter == 'e':\n",
    "        break\n",
    "    print ('當前字母為 :', letter)\n",
    "var = 10\n",
    "while var > 0:       \n",
    "    print(\"當期變數值為: \",var)\n",
    "    var = var -1\n",
    "    if var == 5:\n",
    "        break\n",
    "print (\"Good bye!\")  \n",
    "print(end=\"\\n\")\n",
    "\n",
    "\n",
    "# continue：強制跳出❮本次❯迴圈，繼續進入下一圈\n",
    "\n",
    "for letter in 'Jb51net':\n",
    "    if letter == 'n':    # 字母為n時跳過輸出\n",
    "        continue\n",
    "    print ('當前字母 :', letter)\n",
    "var = 10\n",
    "while var > 0:       \n",
    "    var = var -1\n",
    "    if var == 5:         # 變數為5時跳過輸出\n",
    "        continue\n",
    "    print ('當前變數值 :', var)\n",
    "print (\"Good bye!\")"
   ]
  },
  {
   "cell_type": "markdown",
   "metadata": {},
   "source": [
    "## 4-3-2 while 迴圈使用 break 語句\n",
    "break 語句可以跳出 for和while 的迴圈體。如果你從for或 while迴圈中終止，任何對應的迴圈else將不執行。"
   ]
  },
  {
   "cell_type": "code",
   "execution_count": 13,
   "metadata": {},
   "outputs": [
    {
     "name": "stdout",
     "output_type": "stream",
     "text": [
      "當前字母為 : J\n",
      "當前字母為 : b\n",
      "當前字母為 : 5\n",
      "當前字母為 : 1\n",
      "當前字母為 : n\n",
      "當期變數值為:  10\n",
      "當期變數值為:  9\n",
      "當期變數值為:  8\n",
      "當期變數值為:  7\n",
      "當期變數值為:  6\n",
      "Good bye!\n",
      "\n",
      "0\n",
      "1\n",
      "2\n",
      "n的次數為 3\n"
     ]
    }
   ],
   "source": [
    "# 例項一\n",
    "for letter in 'Jb51net':\n",
    "    if letter == 'e':\n",
    "        break\n",
    "    print ('當前字母為 :', letter)\n",
    "var = 10\n",
    "while var > 0:       \n",
    "    print(\"當期變數值為: \",var)\n",
    "    var = var -1\n",
    "    if var == 5:\n",
    "        break\n",
    "print (\"Good bye!\")\n",
    "print(end=\"\\n\")\n",
    "\n",
    "# 例項二\n",
    "n=0\n",
    "while n<5:\n",
    "    if n==3:\n",
    "        break\n",
    "    print(n)\n",
    "    n += 1   # n = n+1\n",
    "print(\"n的次數為\",n)"
   ]
  },
  {
   "cell_type": "markdown",
   "metadata": {},
   "source": [
    "## 4-3-3 while 迴圈使用 continue 語句\n",
    "continue語句被用來告訴Python跳過當前迴圈塊中的剩餘語句，然後繼續進行下一輪迴圈。"
   ]
  },
  {
   "cell_type": "code",
   "execution_count": 14,
   "metadata": {},
   "outputs": [
    {
     "name": "stdout",
     "output_type": "stream",
     "text": [
      "當前字母 : J\n",
      "當前字母 : b\n",
      "當前字母 : 5\n",
      "當前字母 : 1\n",
      "當前字母 : e\n",
      "當前字母 : t\n",
      "當前變數值 : 9\n",
      "當前變數值 : 8\n",
      "當前變數值 : 7\n",
      "當前變數值 : 6\n",
      "當前變數值 : 4\n",
      "當前變數值 : 3\n",
      "當前變數值 : 2\n",
      "當前變數值 : 1\n",
      "當前變數值 : 0\n",
      "Good bye!\n"
     ]
    }
   ],
   "source": [
    "for letter in 'Jb51net':\n",
    "    if letter == 'n':    # 字母為n時跳過輸出\n",
    "        continue\n",
    "    print ('當前字母 :', letter)\n",
    "var = 10\n",
    "while var > 0:       \n",
    "    var = var -1\n",
    "    if var == 5:         # 變數為5時跳過輸出\n",
    "        continue\n",
    "    print ('當前變數值 :', var)\n",
    "print (\"Good bye!\")"
   ]
  },
  {
   "cell_type": "markdown",
   "metadata": {},
   "source": [
    "## 4-3-4 while 迴圈使用 else 語句\n",
    "在 while … else 在條件語句為 false 時執行 else 的語句塊："
   ]
  },
  {
   "cell_type": "code",
   "execution_count": 15,
   "metadata": {},
   "outputs": [
    {
     "name": "stdout",
     "output_type": "stream",
     "text": [
      "0  小於 5\n",
      "1  小於 5\n",
      "2  小於 5\n",
      "3  小於 5\n",
      "4  小於 5\n",
      "5  大於或等於 5\n",
      "\n",
      "變數n的資料是： 1\n",
      "變數n的資料是： 2\n",
      "變數n的資料是： 3\n",
      "變數n的資料是： 4\n",
      "5\n"
     ]
    }
   ],
   "source": [
    "# 例項一\n",
    "count = 0\n",
    "while count < 5:\n",
    "    print (count, \" 小於 5\")\n",
    "    count = count +  1\n",
    "else:\n",
    "    print (count, \" 大於或等於 5\") \n",
    "print(end=\"\\n\")\n",
    "\n",
    "# 例項二\n",
    "n=1\n",
    "while n<5:\n",
    "    print(\"變數n的資料是：\",n)\n",
    "    n+=1\n",
    "else:\n",
    "    print(n)"
   ]
  },
  {
   "cell_type": "markdown",
   "metadata": {},
   "source": [
    "## 4-4 for與while的不同"
   ]
  },
  {
   "cell_type": "code",
   "execution_count": 16,
   "metadata": {},
   "outputs": [
    {
     "name": "stdout",
     "output_type": "stream",
     "text": [
      "輸入學生成績：101\n",
      "成績錯誤，請重新輸入：96\n",
      "64\n",
      "64\n",
      "5050\n",
      "5050\n"
     ]
    }
   ],
   "source": [
    "# while的控制在一個條件成立；for的控制則在一個範圍之內\n",
    "# For迴圈的運作需要索引變數，但是While迴圈不需要，當迴圈不需要索引變數的時候，就適合使用While迴圈。\n",
    "\n",
    "# 範例 1 :輸入學生成績，比較嚴謹的作法是要檢查輸入的成績是否合理，也就是輸入的成績必須在0到100之間。如果不是應該提示使用者重新輸入。\n",
    "score = int(input(\"輸入學生成績：\"))\n",
    "while score < 0 or score > 100:\n",
    "    score = int(input(\"成績錯誤，請重新輸入：\"))   \n",
    "    \n",
    "# 範例 2 :計算1+3+5+7+9+11+13+15\n",
    "# while作法\n",
    "i=1\n",
    "ans=0\n",
    "while i <=15:\n",
    "    ans+=i\n",
    "    i+=2\n",
    "print(ans)\n",
    "\n",
    "# for作法\n",
    "ans4 =0\n",
    "for i in range(1,16,2):\n",
    "    ans4+=i\n",
    "print(ans4)\n",
    "\n",
    "# 範例 3:計算1到100的整數總和\n",
    "# while作法\n",
    "sum = 0   # 累加變數\n",
    "i = 1     # 索引變數\n",
    "while i <= 100:\n",
    "    sum += i\n",
    "    i += 1   # 改變索引變數的值\n",
    "print(sum)\n",
    "\n",
    "# for作法\n",
    "b=0\n",
    "for x in range(1,101):\n",
    "    b+=x\n",
    "print(b)"
   ]
  },
  {
   "cell_type": "code",
   "execution_count": 17,
   "metadata": {},
   "outputs": [
    {
     "name": "stdout",
     "output_type": "stream",
     "text": [
      "請輸入二個正整數：6 18\n",
      "GCD是 6\n",
      "8\n"
     ]
    }
   ],
   "source": [
    "# 求最大公因數\n",
    "# 方法一\n",
    "a, b = input('請輸入二個正整數：').split()\n",
    "a = int(a)\n",
    "b = int(b)\n",
    "if a < b:         # 如果 a < b，把a和b對調\n",
    "    a, b = b, a\n",
    "r = a % b\n",
    "\n",
    "while r != 0:    # While迴圈會計算到r=0才會停止\n",
    "    a = b\n",
    "    b = r\n",
    "    r = a % b\n",
    "print('GCD是 ' + str(b))\n",
    "\n",
    "# 方法二\n",
    "def a(m, n):\n",
    "    if n == 0:\n",
    "        return m\n",
    "    else:\n",
    "        return a(n, m % n)\n",
    "    \n",
    "print(a(24, 32))"
   ]
  },
  {
   "cell_type": "code",
   "execution_count": 18,
   "metadata": {},
   "outputs": [
    {
     "name": "stdout",
     "output_type": "stream",
     "text": [
      "請輸入二個正整數：6 18\n",
      "請輸入下一個正整數（0或負數表示結束）：7\n",
      "請輸入下一個正整數（0或負數表示結束）：4\n",
      "請輸入下一個正整數（0或負數表示結束）：0\n",
      "GCD是 1\n"
     ]
    }
   ],
   "source": [
    "a, b = input('請輸入二個正整數：').split()\n",
    "a = int(a)\n",
    "b = int(b)\n",
    "\n",
    "while a > 0:\n",
    "    # 如果 a < b，把a和b對調\n",
    "    if a < b:\n",
    "        a, b = b, a\n",
    "\n",
    "    r = a % b\n",
    "    while r != 0:\n",
    "        a = b\n",
    "        b = r\n",
    "        r = a % b\n",
    "\n",
    "    a = input('請輸入下一個正整數（0或負數表示結束）：')\n",
    "    a = int(a)\n",
    "\n",
    "print('GCD是 ' + str(b))"
   ]
  },
  {
   "cell_type": "markdown",
   "metadata": {},
   "source": [
    "## 練習題目"
   ]
  },
  {
   "cell_type": "code",
   "execution_count": 19,
   "metadata": {},
   "outputs": [
    {
     "name": "stdout",
     "output_type": "stream",
     "text": [
      "1 2 3 4 5 6 8 9 10 \n",
      "1 2 3 4 5 6 8 9 10 "
     ]
    }
   ],
   "source": [
    "# 第一題：使用while迴圈輸入 1 2 3 4 5 6     8 9 10\n",
    "\n",
    "# 方法一\n",
    "z=1\n",
    "while z <= 10:\n",
    "    if z == 7:\n",
    "        pass\n",
    "    else:\n",
    "        print(z,end=\" \")\n",
    "    z+=1\n",
    "print(end=\"\\n\")\n",
    "    \n",
    "# 方法二\n",
    "a = 0\n",
    "while a < 10:\n",
    "    a  +=1 \n",
    "    if a == 7:\n",
    "        continue\n",
    "    print(a,end=\" \")"
   ]
  },
  {
   "cell_type": "code",
   "execution_count": 22,
   "metadata": {},
   "outputs": [],
   "source": [
    "%reset -f"
   ]
  },
  {
   "cell_type": "code",
   "execution_count": 23,
   "metadata": {},
   "outputs": [
    {
     "name": "stdout",
     "output_type": "stream",
     "text": [
      "5050\n",
      "5050\n",
      "5050\n"
     ]
    }
   ],
   "source": [
    "# 第二題：求1-100的所有數的和\n",
    "\n",
    "# 方法一\n",
    "print(sum(range(101)))\n",
    "\n",
    "# 方法二\n",
    "a = 0\n",
    "b = 1\n",
    "while b <= 100:\n",
    "    a = a + b\n",
    "    b += 1\n",
    "print(a)\n",
    "\n",
    "# 方法三\n",
    "a = 0\n",
    "for i in range(101):\n",
    "    a = a +  i\n",
    "print(a)"
   ]
  },
  {
   "cell_type": "code",
   "execution_count": 24,
   "metadata": {},
   "outputs": [
    {
     "name": "stdout",
     "output_type": "stream",
     "text": [
      "1 3 5 7 9 11 13 15 17 19 21 23 25 27 29 31 33 35 37 39 41 43 45 47 49 51 53 55 57 59 61 63 65 67 69 71 73 75 77 79 81 83 85 87 89 91 93 95 97 99 \n",
      "1 3 5 7 9 11 13 15 17 19 21 23 25 27 29 31 33 35 37 39 41 43 45 47 49 51 53 55 57 59 61 63 65 67 69 71 73 75 77 79 81 83 85 87 89 91 93 95 97 99 "
     ]
    }
   ],
   "source": [
    "# 第三題：輸出 1-100 內的所有奇數\n",
    "\n",
    "# 方法一\n",
    "for z in range(1,100,2):\n",
    "    print(z,end=\" \")\n",
    "print(end=\"\\n\")\n",
    "    \n",
    "# 方法二\n",
    "a = 0\n",
    "while a <= 99:\n",
    "    a  += 1\n",
    "    if(a%2) != 0:\n",
    "        print(a,end=\" \")"
   ]
  },
  {
   "cell_type": "code",
   "execution_count": 25,
   "metadata": {},
   "outputs": [
    {
     "name": "stdout",
     "output_type": "stream",
     "text": [
      "2 4 6 8 10 12 14 16 18 20 22 24 26 28 30 32 34 36 38 40 42 44 46 48 50 52 54 56 58 60 62 64 66 68 70 72 74 76 78 80 82 84 86 88 90 92 94 96 98 100 \n",
      "2 4 6 8 10 12 14 16 18 20 22 24 26 28 30 32 34 36 38 40 42 44 46 48 50 52 54 56 58 60 62 64 66 68 70 72 74 76 78 80 82 84 86 88 90 92 94 96 98 100 "
     ]
    }
   ],
   "source": [
    "# 第四題：輸出 1-100 內的所有偶數\n",
    "\n",
    "# 方法一\n",
    "for z in range(2,101,2):\n",
    "    print(z,end=\" \")\n",
    "print(end=\"\\n\")\n",
    "    \n",
    "# 方法二\n",
    "a = 0\n",
    "while a <= 100:\n",
    "    a  += 1\n",
    "    if(a%2) == 0:\n",
    "        print(a,end=\" \")"
   ]
  },
  {
   "cell_type": "code",
   "execution_count": 26,
   "metadata": {},
   "outputs": [
    {
     "name": "stdout",
     "output_type": "stream",
     "text": [
      "奇數總和： 2500\n",
      "偶數總和： 2450\n",
      "50\n",
      "50\n"
     ]
    }
   ],
   "source": [
    "# 第五題：求1-2+3-4+5 … +99的所有數的和\n",
    "\n",
    "# 方法一\n",
    "a = sum(range(1,100,2)) #奇數\n",
    "b = sum(range(2,99,2))  #偶數\n",
    "print(\"奇數總和：\",a)\n",
    "print(\"偶數總和：\",b)\n",
    "print(a-b)\n",
    "\n",
    "# 方法二\n",
    "a = 0\n",
    "b = 0\n",
    "while a < 99:\n",
    "    a  += 1\n",
    "    if a%2 == 1:\n",
    "        b  += a\n",
    "    else:\n",
    "        b -= a\n",
    "print(b)"
   ]
  },
  {
   "cell_type": "code",
   "execution_count": 27,
   "metadata": {},
   "outputs": [
    {
     "name": "stdout",
     "output_type": "stream",
     "text": [
      "使用者名稱: Han\n",
      "使用者密碼: 123456\n",
      "登入者名稱: zxc\n",
      "使用者密碼: 654321\n",
      "帳號或密碼輸入錯誤\n",
      "登入者名稱: Han\n",
      "使用者密碼: 123456\n",
      "輸入正確\n",
      "請輸入使用者名稱： Han\n",
      "請輸入密碼: 147258\n",
      "輸入錯誤，請重新輸入\n",
      "請輸入使用者名稱： Han\n",
      "請輸入密碼: 123456\n",
      "輸入錯誤，請重新輸入\n",
      "請輸入使用者名稱： wxd\n",
      "請輸入密碼: 123456\n",
      "登陸成功\n"
     ]
    }
   ],
   "source": [
    "# 第六題：使用者登陸（三次機會重試）\n",
    "\n",
    "# 方法一\n",
    "name = input(\"使用者名稱: \")\n",
    "password =input(\"使用者密碼: \")\n",
    "for z in range(0,3):\n",
    "    name1 = input(\"登入者名稱: \")\n",
    "    password2 =input(\"使用者密碼: \")\n",
    "    if name == name1 and password ==password2 :\n",
    "        print(\"輸入正確\")\n",
    "        break\n",
    "    else :\n",
    "        print(\"帳號或密碼輸入錯誤\")\n",
    "        \n",
    "# 方法二\n",
    "a = 0\n",
    "while a < 3:\n",
    "    name = input(\"請輸入使用者名稱： \")\n",
    "    password = input(\"請輸入密碼: \")\n",
    "    a  += 1\n",
    "    if name == 'wxd' and password == '123456':\n",
    "        print(\"登陸成功\")\n",
    "        break\n",
    "    elif a == 3:\n",
    "        print(\"輸入錯誤三次，退出\")\n",
    "    else:\n",
    "        print(\"輸入錯誤，請重新輸入\")"
   ]
  },
  {
   "cell_type": "code",
   "execution_count": 28,
   "metadata": {},
   "outputs": [
    {
     "name": "stdout",
     "output_type": "stream",
     "text": [
      "請輸入使用者名稱： cat\n",
      "請輸入密碼: 666666\n",
      "輸入錯誤，請重新輸入\n",
      "請輸入使用者名稱： wxd\n",
      "請輸入密碼: 123456\n",
      "登陸成功\n"
     ]
    }
   ],
   "source": [
    "a = 0\n",
    "while a < 3:\n",
    "    name = input(\"請輸入使用者名稱： \")\n",
    "    password = input(\"請輸入密碼: \")\n",
    "    a  += 1\n",
    "    if name == 'wxd' and password == '123456':\n",
    "        print(\"登陸成功\")\n",
    "        break\n",
    "    elif a == 3:\n",
    "        print(\"輸入錯誤三次，退出\")\n",
    "    else:\n",
    "        print(\"輸入錯誤，請重新輸入\")"
   ]
  }
 ],
 "metadata": {
  "kernelspec": {
   "display_name": "Python 3",
   "language": "python",
   "name": "python3"
  },
  "language_info": {
   "codemirror_mode": {
    "name": "ipython",
    "version": 3
   },
   "file_extension": ".py",
   "mimetype": "text/x-python",
   "name": "python",
   "nbconvert_exporter": "python",
   "pygments_lexer": "ipython3",
   "version": "3.7.4"
  }
 },
 "nbformat": 4,
 "nbformat_minor": 2
}
