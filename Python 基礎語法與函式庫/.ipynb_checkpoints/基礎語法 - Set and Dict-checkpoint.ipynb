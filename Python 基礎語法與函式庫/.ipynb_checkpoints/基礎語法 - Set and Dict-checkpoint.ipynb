{
 "cells": [
  {
   "cell_type": "markdown",
   "metadata": {},
   "source": [
    "# 主題：Set(集合)\n",
    "\n",
    "## Set語法\n",
    "\n",
    "集合：一群資料，沒有順序性"
   ]
  },
  {
   "cell_type": "code",
   "execution_count": 1,
   "metadata": {},
   "outputs": [
    {
     "name": "stdout",
     "output_type": "stream",
     "text": [
      "True\n",
      "False\n",
      "False\n",
      "True\n",
      "s1： {1, 2, 3, 4, 5}\n",
      "s2： {4, 5, 6, 7}\n",
      "交集： {4, 5}\n",
      "聯集： {1, 2, 3, 4, 5, 6, 7}\n",
      "差集： {1, 2, 3}\n",
      "反交集： {1, 2, 3, 6, 7}\n",
      "\n",
      "{'o', 'e', 'l', 'H'}\n",
      "True\n",
      "False\n"
     ]
    }
   ],
   "source": [
    "# 判斷資料是否存在\n",
    "s1 = {1,2,3,4,5}\n",
    "print(3 in s1)\n",
    "print(33 in s1)\n",
    "print(3 not in s1)\n",
    "print(33 not in s1)\n",
    "\n",
    "# 交集、聯集、差集、反交集\n",
    "s2={4,5,6,7}\n",
    "print(\"s1：\",s1)\n",
    "print(\"s2：\",s2)\n",
    "s3=s1&s2           # 交集：取兩個集合中相同的資料\n",
    "print(\"交集：\",s3)\n",
    "s4=s1|s2          # 聯集：取兩個集合中所有的資料，但不重複\n",
    "print(\"聯集：\",s4)\n",
    "s5=s1-s2          # 差集：從 s1中減去與 s2中重疊的部份\n",
    "print(\"差集：\",s5)\n",
    "s6=s1^s2          # 反交集：取兩個集合中不相同的資料\n",
    "print(\"反交集：\",s6)\n",
    "print(end=\"\\n\")\n",
    "\n",
    "# 把字串中的字母拆解為集合\n",
    "s = set(\"Hello\")   # 語法：set(字串)\n",
    "print(s)\n",
    "print(\"H\" in s)\n",
    "print(\"a\" in s)"
   ]
  },
  {
   "cell_type": "code",
   "execution_count": null,
   "metadata": {},
   "outputs": [],
   "source": []
  },
  {
   "cell_type": "markdown",
   "metadata": {},
   "source": [
    "# 主題：Dict語法\n",
    "## 2-1 Python中的 Dict語法 (將變數變成 List 一樣什麼都能放，變數也可以是一個 List) \n",
    "Dict由大括號{ }包住、元素以key:value的key-value pair組成(key後面接冒號和變數value)，並以由逗點,隔開。\n",
    "\n",
    "key只能是不能修改的型態，包括字串(str)、整數(int)與浮點數(float)\n",
    "\n",
    "x={ }：建立空的dict\n",
    "\n",
    "x[key]=value：如果key不存在，會增加這組K-V；如果key已存在，會更新這組K-V。\n",
    "\n",
    "del x[key]：刪除特定的key-value pair"
   ]
  },
  {
   "cell_type": "code",
   "execution_count": 2,
   "metadata": {},
   "outputs": [
    {
     "name": "stdout",
     "output_type": "stream",
     "text": [
      "{123: 'Snoopy', 3.21: [77, 'Kitty'], 'zxc': 7.89, 'cat': ['Pusheen', 666]}\n",
      "d的長度為 4\n",
      "查詢 123 的value為 Snoopy\n",
      "查詢 cat 的value為 ['Pusheen', 666]\n",
      "{123: 456, 3.21: [77, 'Kitty'], 'zxc': 7.89, 'cat': ['Pusheen', 666]}\n",
      "{123: 456, 3.21: [77, 'Kitty'], 'zxc': 7.89, 'cat': ['Pusheen', 666], 456: 789}\n",
      "{123: 456, 3.21: [77, 'Kitty'], 'cat': ['Pusheen', 666], 456: 789}\n",
      "\n",
      "{3: 6, 4: 8, 5: 10}\n"
     ]
    }
   ],
   "source": [
    "d = {123:\"Snoopy\", 3.21:[77, \"Kitty\"], \"zxc\": 7.89, \"cat\":[\"Pusheen\",666]}\n",
    "print(d)\n",
    "print(\"d的長度為\",len(d)) # Dict的長度只會算 key的數量\n",
    "print(\"查詢 123 的value為\",d[123])    # 查詢 d(Dict)中 123(key)的 value\n",
    "print(\"查詢 cat 的value為\",d['cat'])  # 查詢 d(Dict)中 'cat'(key)的 value\n",
    "d[123]=456    # 更新 123(key)的 value\n",
    "print(d)\n",
    "d[456]=789    # 新增 456(key)到 d(Dict)的最後面\n",
    "print(d)\n",
    "del d[\"zxc\"]  # 刪除 d(Dict)中 \"zxc\"(key)\n",
    "print(d)\n",
    "print(end=\"\\n\")\n",
    "\n",
    "# 從列表(lst)的資料產生字典(dict)\n",
    "dic = {x:x*2 for x in [3,4,5]}\n",
    "print(dic)"
   ]
  },
  {
   "cell_type": "code",
   "execution_count": 3,
   "metadata": {},
   "outputs": [
    {
     "name": "stdout",
     "output_type": "stream",
     "text": [
      "字串是 z\n",
      "數字是 1\n",
      "\n",
      "字串是 x\n",
      "數字是 2\n",
      "\n",
      "字串是 c\n",
      "數字是 3\n",
      "\n",
      "字串是 v\n",
      "數字是 4\n",
      "\n",
      "字串是 b\n",
      "數字是 5\n",
      "\n",
      "{'z': 1, 'x': 2, 'c': 3, 'v': 4, 'b': 5}\n"
     ]
    }
   ],
   "source": [
    "# 小練習\n",
    "\n",
    "# 讓使用者在名為table的dict中，輸入五組的key-value pair，key是字串、value是數字，最後把這個dict印出來。\n",
    "# (提示: dict沒有append，直接用增加或更新(InsertOrUpdate)的方式)\n",
    "\n",
    "table={}\n",
    "for z in range(0,5):\n",
    "    key = input(\"字串是 \")\n",
    "    value = int(input(\"數字是 \"))\n",
    "    table[key]=value\n",
    "    print(end=\"\\n\")\n",
    "print(table)"
   ]
  },
  {
   "cell_type": "markdown",
   "metadata": {},
   "source": [
    "## 2-2 key 與 value"
   ]
  },
  {
   "cell_type": "code",
   "execution_count": 4,
   "metadata": {},
   "outputs": [
    {
     "name": "stdout",
     "output_type": "stream",
     "text": [
      "1\n",
      "2\n",
      "找不到\n",
      "找不到\n",
      "\n",
      "error\n",
      "error\n",
      "Bingo!key= three\n",
      "\n",
      "True\n",
      "False\n",
      "\n",
      "True\n",
      "False\n",
      "True\n",
      "False\n"
     ]
    }
   ],
   "source": [
    "# 用key把相對應的value取出來\n",
    "d = {\"one\":1,\"two\":2,\"three\":3,\"four\":4,\"five\":5}\n",
    "print(d[\"one\"])\n",
    "print(d.get(\"two\",\"找不到\"))\n",
    "print(d.get(\"six\",\"找不到\"))\n",
    "print(d.get(2,\"找不到\"))\n",
    "print(end=\"\\n\")\n",
    "\n",
    "# 用 value找出相對應的 key\n",
    "# for 變數名稱 in dict：只拿取dict裡的key；可以用dict[key]找到對應的變數。\n",
    "d = {\"one\":1,\"two\":2,\"three\":3,\"four\":4,\"five\":5}\n",
    "s=3\n",
    "for key in d:\n",
    "    if d[key] == s:\n",
    "        print(\"Bingo!key=\",key)\n",
    "        break\n",
    "    else:\n",
    "        print(\"error\")\n",
    "print(end=\"\\n\")\n",
    "      \n",
    "#檢查dict中有沒有包含特定的key\n",
    "d = {\"one\":1,\"two\":2,\"three\":3,\"four\":4,\"five\":5}\n",
    "print(\"one\" in d)\n",
    "print(1 in d)\n",
    "print(end=\"\\n\")\n",
    "\n",
    "d = {\"one\":1,\"two\":2,\"three\":3,\"four\":4,\"five\":5}\n",
    "print(\"one\" in d.keys())\n",
    "print(0 in d.keys())\n",
    "print(1 in d.values())\n",
    "print(9 in d.values())"
   ]
  },
  {
   "cell_type": "code",
   "execution_count": 5,
   "metadata": {},
   "outputs": [
    {
     "name": "stdout",
     "output_type": "stream",
     "text": [
      "歌手:王\n",
      "成績:75\n",
      "歌手:蔡\n",
      "成績:86\n",
      "歌手:曾\n",
      "成績:63\n",
      "歌手:陳\n",
      "成績:91\n",
      "歌手:李\n",
      "成績:77\n",
      "{'王': '75', '蔡': '86', '曾': '63', '陳': '91', '李': '77'}\n",
      "查詢歌手:王\n",
      "75\n",
      "查詢歌手:楊\n",
      "這個人沒參賽喲\n",
      "查詢歌手:蔡\n",
      "86\n",
      "查詢歌手:陳\n",
      "91\n",
      "查詢歌手:林\n",
      "這個人沒參賽喲\n",
      "\n",
      "歌手名: 王\n",
      "成績: 75\n",
      "\n",
      "歌手名: 蔡\n",
      "成績: 86\n",
      "\n",
      "歌手名: 曾\n",
      "成績: 63\n",
      "\n",
      "歌手名: 陳\n",
      "成績: 91\n",
      "\n",
      "歌手名: 李\n",
      "成績: 77\n",
      "\n",
      "{'王': '75', '蔡': '86', '曾': '63', '陳': '91', '李': '77'}\n",
      "\n",
      "查詢歌手: 王\n",
      "75\n",
      "\n",
      "查詢歌手: 楊\n",
      "這個人沒參賽喲\n",
      "\n",
      "查詢歌手: 蔡\n",
      "86\n",
      "\n",
      "查詢歌手: 陳\n",
      "91\n",
      "\n",
      "查詢歌手: 林\n",
      "這個人沒參賽喲\n",
      "\n"
     ]
    }
   ],
   "source": [
    "# 小練習\n",
    "\n",
    "# 一年一度的世界歌王大賽來啦！身為評審的你，請輸入五個歌手的名字與成績。\n",
    "# 接下來會有五次查詢的機會，每次查詢都可以讓觀眾輸入一個名字、來查看心愛的歌手。\n",
    "# 如果歌手不在名單中，請輸出’這個人沒參賽喲’；如果歌手在名單中，請輸出該歌手的名字與成績。\n",
    "\n",
    "game={}\n",
    "for z in range(0,5):\n",
    "    singers=input(\"歌手:\")\n",
    "    grades=input(\"成績:\")\n",
    "    game[singers]=grades\n",
    "print(game)\n",
    "\n",
    "for x in range(0,5):\n",
    "    singer=input(\"查詢歌手:\")\n",
    "    print(game.get(singer,\"這個人沒參賽喲\"))\n",
    "print(end=\"\\n\")\n",
    "    \n",
    "# 答案版本\n",
    "competition={}\n",
    "for judge in range(0,5):\n",
    "    name = input(\"歌手名: \")\n",
    "    grade = input(\"成績: \")\n",
    "    competition[name] = grade\n",
    "    print(end=\"\\n\")\n",
    "print(competition)\n",
    "print(end=\"\\n\")\n",
    "\n",
    "for audience in range(0,5):\n",
    "    query = input(\"查詢歌手: \")\n",
    "    print(competition.get(query,\"這個人沒參賽喲\"))\n",
    "    print(end=\"\\n\")"
   ]
  },
  {
   "cell_type": "code",
   "execution_count": 6,
   "metadata": {},
   "outputs": [
    {
     "name": "stdout",
     "output_type": "stream",
     "text": [
      "輸入資料:z\n",
      "輸入資料:1\n",
      "輸入資料:x2\n",
      "輸入資料:C\n",
      "輸入資料:5\n",
      "['z', 1, 'x2', 'C', 5]\n"
     ]
    }
   ],
   "source": [
    "# 小練習\n",
    "\n",
    "# 輸入五個值，若輸入的值為數字則將值變成整數型態\n",
    "z = []\n",
    "for x in range(0,5):\n",
    "    a = input(\"輸入資料:\")\n",
    "    try:\n",
    "        int(a) == int\n",
    "        a = int(a)\n",
    "        z.append(a)\n",
    "    except:\n",
    "        z.append(a)\n",
    "print(z)"
   ]
  }
 ],
 "metadata": {
  "kernelspec": {
   "display_name": "Python 3",
   "language": "python",
   "name": "python3"
  },
  "language_info": {
   "codemirror_mode": {
    "name": "ipython",
    "version": 3
   },
   "file_extension": ".py",
   "mimetype": "text/x-python",
   "name": "python",
   "nbconvert_exporter": "python",
   "pygments_lexer": "ipython3",
   "version": "3.7.4"
  }
 },
 "nbformat": 4,
 "nbformat_minor": 2
}
