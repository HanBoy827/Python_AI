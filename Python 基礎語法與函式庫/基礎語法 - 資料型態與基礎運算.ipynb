{
 "cells": [
  {
   "cell_type": "markdown",
   "metadata": {},
   "source": [
    "## python 變數命名規則\n",
    "* 不是空序列\n",
    "* 開頭第一個字不能是數字，可使用大小寫字母或_\n",
    "* 不可與內建關鍵字同名\n",
    "* Python3 加入Unicode(中文也可！)"
   ]
  },
  {
   "cell_type": "code",
   "execution_count": 1,
   "metadata": {},
   "outputs": [
    {
     "name": "stdout",
     "output_type": "stream",
     "text": [
      "3 4 5 6 7\n"
     ]
    }
   ],
   "source": [
    "Syu=3\n",
    "syu=4\n",
    "_syu=5\n",
    "SYU=6\n",
    "敘=7\n",
    "print(Syu,syu,_syu,SYU,敘)"
   ]
  },
  {
   "cell_type": "markdown",
   "metadata": {},
   "source": [
    "## Python字串\n",
    "Python字串是通過str資料型態表示,是Unicode字符序列\n",
    "\n",
    "用引號建立字串,可使用以下三種方式(可以自用選用，但必須兩端一制)"
   ]
  },
  {
   "cell_type": "code",
   "execution_count": 2,
   "metadata": {},
   "outputs": [],
   "source": [
    "# 單引號：\n",
    "a ='to be or not to be'\n",
    "# 雙引號：\n",
    "b =\"to be or not to be\"\n",
    "# 三個引號：\n",
    "c ='''to be or not to be''' \n",
    "d =\"\"\"to be or not to be\"\"\""
   ]
  },
  {
   "cell_type": "markdown",
   "metadata": {},
   "source": [
    "## 字串的切片\n",
    "用途：當要從一個序列裡提取個別資料項，可以使用存取運算符([ ])\n",
    "\n",
    "語法：text[start: end: step]\n",
    "* start：表示開始位置，預設為0(step為正)或 -len(text)(step為負)\n",
    "* end：表示結束位置，預設為len(text)-1(step為正)或-1\n",
    "* step：步進值預設為1，不可為0"
   ]
  },
  {
   "cell_type": "code",
   "execution_count": 3,
   "metadata": {},
   "outputs": [
    {
     "name": "stdout",
     "output_type": "stream",
     "text": [
      "yi e\n",
      "tie iy\n",
      "ytic iepiat\n"
     ]
    }
   ],
   "source": [
    "text = \"taipei city\"\n",
    "print(text[-1:2:-2])\n",
    "print(text[::2])\n",
    "print(text[::-1])"
   ]
  },
  {
   "cell_type": "code",
   "execution_count": 4,
   "metadata": {},
   "outputs": [
    {
     "name": "stdout",
     "output_type": "stream",
     "text": [
      "H3a2n1\n",
      "1N2A3h\n"
     ]
    }
   ],
   "source": [
    "# 小練習\n",
    "# 輸入一個英文字母與數字參雜的字串，將輸出此字串的反向輸出，並且英文字母大寫改小寫，小寫改大寫，數字不改變。\n",
    "\n",
    "text = input()\n",
    "text = text.swapcase()\n",
    "print(text[::-1])"
   ]
  },
  {
   "cell_type": "markdown",
   "metadata": {},
   "source": [
    "## 3-1 資料型態(Type)\n",
    "語法：type(變數/數字/字串/布林值/複數)\n",
    "\n",
    "數值資料型態(整數型態)：int：表示不限範圍的整數數字 、 bool：當True or False當被用在數值運算式中，True值為1，False值為0\n",
    "\n",
    "數值資料型態(浮點數型態)：float：雙精度浮點數 、 complex：雙精度浮點數表示複數，複數d的實部和虛部可以通過d.real和d.imag取得\n",
    "\n",
    "文字資料型態:str 字串"
   ]
  },
  {
   "cell_type": "code",
   "execution_count": 5,
   "metadata": {},
   "outputs": [
    {
     "name": "stdout",
     "output_type": "stream",
     "text": [
      "<class 'int'>\n",
      "<class 'int'>\n",
      "<class 'bool'>\n",
      "\n",
      "<class 'float'>\n",
      "39.0\n",
      "1.45\n",
      "<class 'complex'>\n",
      "\n",
      "<class 'str'>\n"
     ]
    }
   ],
   "source": [
    "a=123 # a為變數\n",
    "print(type(a)) # type(變數)\n",
    "print(type(369)) # type(數字)\n",
    "print(type(True)) # type(布林值)\n",
    "print(end=\"\\n\")\n",
    "\n",
    "print(type(9.12)) \n",
    "d=39+1.45j\n",
    "print(d.real)   # 實部\n",
    "print(d.imag)   # 虛部\n",
    "print(type(d))  # type(複數)\n",
    "print(end=\"\\n\")\n",
    "\n",
    "print(type(\"456\")) # type(字串)"
   ]
  },
  {
   "cell_type": "markdown",
   "metadata": {},
   "source": [
    "## 3-2 資料型態的計算"
   ]
  },
  {
   "cell_type": "code",
   "execution_count": 6,
   "metadata": {},
   "outputs": [
    {
     "name": "stdout",
     "output_type": "stream",
     "text": [
      "1221\n",
      "4.681\n",
      "147abc\n",
      "855.69\n"
     ]
    }
   ],
   "source": [
    "c=369\n",
    "d=852\n",
    "print(c+d) #整數加法\n",
    "\n",
    "e=1.36\n",
    "f=3.321\n",
    "print(e+f) #浮點數加法\n",
    "\n",
    "a=\"147\"\n",
    "b=\"abc\"\n",
    "print(a+b) #字串加法\n",
    "\n",
    "c=3.69\n",
    "d=852\n",
    "print(c+d) #整數與浮點數加法\n",
    "\n",
    "\n",
    "f=111\n",
    "v=\"9.63\"\n",
    "#print(f+v) #會產生TypeError，字串不能與數值加在一起"
   ]
  },
  {
   "cell_type": "markdown",
   "metadata": {},
   "source": [
    "## 3-3 改變資料型態\n",
    "* int(變數)=將 變數 的資料型態改成整數\n",
    "* str(變數)=將 變數 的資料型態改成字串\n",
    "* float(變數)=將 變數 的資料型態改成浮點數"
   ]
  },
  {
   "cell_type": "code",
   "execution_count": 7,
   "metadata": {},
   "outputs": [
    {
     "name": "stdout",
     "output_type": "stream",
     "text": [
      "1074\n",
      "111963\n",
      "1074.0\n"
     ]
    }
   ],
   "source": [
    "f=111   \n",
    "v=\"963\" \n",
    "print(f+int(v))\n",
    "print(str(f)+v)  \n",
    "print(f+float(v))"
   ]
  },
  {
   "cell_type": "markdown",
   "metadata": {},
   "source": [
    "## 2-1 基本運算\n",
    "* 比較運算符: <(小於)、>(大於)、<=(小於或等於)、>=(大於或等於)、==(等於)、!=(不等於)\n",
    "* 邏輯運算符: and(左右同時成立)、or(其中一個成立)、not(反向布林值)"
   ]
  },
  {
   "cell_type": "code",
   "execution_count": 8,
   "metadata": {},
   "outputs": [
    {
     "name": "stdout",
     "output_type": "stream",
     "text": [
      "7\n",
      "3\n",
      "10\n",
      "25\n",
      "2.5\n",
      "2\n",
      "1\n",
      "\n",
      "10\n",
      "3\n",
      "-10\n"
     ]
    }
   ],
   "source": [
    "z=5\n",
    "x=2\n",
    "print(z +  x) # 加法\n",
    "print(z -  x) # 減法\n",
    "print(z *  x) # 乘法\n",
    "print(z ** x) # z的ｘ次方\n",
    "print(z /  x) # 除法(結果存為float)\n",
    "print(z // x) # 商數\n",
    "print(z %  x) # 餘數\n",
    "\n",
    "print(end=\"\\n\")\n",
    "\n",
    "s=-10\n",
    "d=3\n",
    "print(abs(s)) #abs(s)=s的絕對值\n",
    "print(max(s,d)) #max(s,d)=s,d的最大值\n",
    "print(min(s,d)) #min(s,d)=s,d的最小值"
   ]
  },
  {
   "cell_type": "markdown",
   "metadata": {},
   "source": [
    "## 2-2 基本運算"
   ]
  },
  {
   "cell_type": "code",
   "execution_count": 9,
   "metadata": {},
   "outputs": [
    {
     "name": "stdout",
     "output_type": "stream",
     "text": [
      "5的平方為 25.0\n",
      "5的平方根為 2.23606797749979\n",
      "1.1  無條件進位 = 2\n",
      "1.1  無條件捨去 = 1\n",
      "1.1  四捨五入 = 1\n",
      "2.654  無條件進位 = 3\n",
      "2.654  無條件捨去 = 2\n",
      "2.654  四捨五入 = 2.7\n"
     ]
    }
   ],
   "source": [
    "import math\n",
    "print(\"5的平方為\",math.pow(5,2)) # = 5**2\n",
    "print(\"5的平方根為\",math.pow(5,0.5)) # = 5**(1/2)\n",
    "a = 1.1\n",
    "print (a, \" 無條件進位 =\", math.ceil(a)) \n",
    "print (a, \" 無條件捨去 =\", math.floor(a))\n",
    "print (a, \" 四捨五入 =\", round(a))\n",
    "b = 2.654\n",
    "print (b, \" 無條件進位 =\", math.ceil(b))\n",
    "print (b, \" 無條件捨去 =\", math.floor(b))\n",
    "print (b, \" 四捨五入 =\", round(b,1)) # 四捨五入取到小數點後第一位"
   ]
  },
  {
   "cell_type": "code",
   "execution_count": 10,
   "metadata": {},
   "outputs": [
    {
     "name": "stdout",
     "output_type": "stream",
     "text": [
      "e= 3\n",
      "r= 2\n",
      "5\n",
      "1\n",
      "6\n",
      "1.5\n",
      "\n",
      "t= 3\n",
      "y= 2\n",
      "5\n",
      "1\n",
      "6\n",
      "1.5\n"
     ]
    }
   ],
   "source": [
    "#小練習\n",
    "\n",
    "#請寫一支Python程式，能讀取兩個整數，並把他們的四則運算印出來。(提示: 用input()印出來的東西是字串, 記得轉型噢!)\n",
    "\n",
    "e=input(\"e= \")\n",
    "r=input(\"r= \")\n",
    "print(int(e)+int(r))\n",
    "print(int(e)-int(r))\n",
    "print(int(e)*int(r))\n",
    "print(int(e)/int(r))\n",
    "\n",
    "print(end=\"\\n\")\n",
    "\n",
    "#正確答案\n",
    "t=int(input(\"t= \"))\n",
    "y=int(input(\"y= \"))\n",
    "print(t+y)\n",
    "print(t-y)\n",
    "print(t*y)\n",
    "print(t/y)"
   ]
  },
  {
   "cell_type": "code",
   "execution_count": 11,
   "metadata": {},
   "outputs": [],
   "source": [
    "import numpy as np"
   ]
  },
  {
   "cell_type": "code",
   "execution_count": 12,
   "metadata": {},
   "outputs": [
    {
     "data": {
      "text/plain": [
       "9487"
      ]
     },
     "execution_count": 12,
     "metadata": {},
     "output_type": "execute_result"
    }
   ],
   "source": [
    "八七字典 = {'就是':94, '北七':87}\n",
    "int(\"{}\".format(八七字典['就是'])+\"{}\".format(八七字典['北七']))"
   ]
  },
  {
   "cell_type": "code",
   "execution_count": 13,
   "metadata": {},
   "outputs": [
    {
     "data": {
      "text/plain": [
       "int"
      ]
     },
     "execution_count": 13,
     "metadata": {},
     "output_type": "execute_result"
    }
   ],
   "source": [
    "八七字典 = {'就是':94, '北七':87}\n",
    "type(八七字典['北七'])\n",
    "#type(\"{}\".format(八七字典['北七']))"
   ]
  }
 ],
 "metadata": {
  "kernelspec": {
   "display_name": "Python 3",
   "language": "python",
   "name": "python3"
  },
  "language_info": {
   "codemirror_mode": {
    "name": "ipython",
    "version": 3
   },
   "file_extension": ".py",
   "mimetype": "text/x-python",
   "name": "python",
   "nbconvert_exporter": "python",
   "pygments_lexer": "ipython3",
   "version": "3.7.4"
  }
 },
 "nbformat": 4,
 "nbformat_minor": 2
}
