{
 "cells": [
  {
   "cell_type": "markdown",
   "metadata": {},
   "source": [
    "## 遞迴 Recursion：將大問題切成小問題\n",
    "\n",
    "### 遞迴的基本概念\n",
    "有時我們解決一個問題的方法是將其拆解，再各自將小問題解決以後得到答案，這樣的概念我們稱之為 “Divide and Conquer”，中文稱為分治法。\n",
    "\n",
    "遞迴就是依據此概念形成的：我們將一個龐大的問題切分成數個相似的中問題，然後將中問題再區分成許多小問題，再將這些小問題用同一個 function 解決，最終將這個大問題處理完，這個處理方式就稱作 recursion。\n",
    "\n",
    "在數學以及電腦科學的領域當中，當一個函式會在執行當中，會不斷地自己呼叫自己時，我們便認為這個函式具有遞迴的性質。同時，為了避免函式永無止盡地自我呼叫 (self-calling)，我們也需要設計一個明確的終止條件。因此，我們便得到了設計一個遞迴函式的兩個重點：遞迴自我呼叫的方式以及結束呼叫的終止條件。\n",
    "\n",
    "### 遞迴的程式\n",
    "\n",
    "遞迴是指函式在定義中呼叫函式自身的方式。\n",
    "\n",
    "遞迴實現的一般套路：函式+分支語句\n",
    "\n",
    "遞迴本身是個函式，需要通過函式定義方式描述\n",
    "\n",
    "在函式內部，採用分支語句對輸入引數進行判斷，針對函式和分支語句分別編寫對應程式碼\n",
    "\n",
    "### 遞迴的優缺點\n",
    "* 優點\n",
    "\n",
    "1 使用遞迴函式，可以將問題分解為子問題來輕鬆解決。\n",
    "\n",
    "2 程式碼變得整潔乾淨。\n",
    "\n",
    "* 缺點\n",
    "\n",
    "1 有時很難去設計和理解遞迴函式的邏輯。\n",
    "\n",
    "2 解決每個子問題將花費大量時間，因此遞迴函式效率低下。"
   ]
  },
  {
   "cell_type": "code",
   "execution_count": 1,
   "metadata": {},
   "outputs": [
    {
     "name": "stdout",
     "output_type": "stream",
     "text": [
      "輸入一個數字:5\n",
      "120\n"
     ]
    },
    {
     "data": {
      "text/plain": [
       "120"
      ]
     },
     "execution_count": 1,
     "metadata": {},
     "output_type": "execute_result"
    }
   ],
   "source": [
    "# 例1：計算n!\n",
    "\n",
    "# 用 for計算\n",
    "a = int(input(\"輸入一個數字:\"))\n",
    "b = 1\n",
    "for c in range(1,(a+1)):\n",
    "    b= b * c\n",
    "print(b)\n",
    "\n",
    "# 用 遞迴計算\n",
    "def fact(n):\n",
    "    if n == 0:\n",
    "        return 1\n",
    "    else:\n",
    "        return n*fact(n-1)\n",
    "fact(5)"
   ]
  },
  {
   "cell_type": "raw",
   "metadata": {},
   "source": [
    "fact(5)，可以根據函式定義看到計算過程如下：\n",
    "\n",
    "===> fact(5)\n",
    "===> 5 * fact(4)\n",
    "===> 5 * (4 * fact(3))\n",
    "===> 5 * (4 * (3 * fact(2)))\n",
    "===> 5 * (4 * (3 * (2 * fact(1))))\n",
    "===> 5 * (4 * (3 * (2 * 1)))\n",
    "===> 5 * (4 * (3 * 2))\n",
    "===> 5 * (4 * 6)\n",
    "===> 5 * 24\n",
    "===> 120"
   ]
  },
  {
   "cell_type": "code",
   "execution_count": 2,
   "metadata": {},
   "outputs": [
    {
     "data": {
      "text/plain": [
       "'edcda'"
      ]
     },
     "execution_count": 2,
     "metadata": {},
     "output_type": "execute_result"
    }
   ],
   "source": [
    "# 例2：字串反轉（ 不準用s[::-1]哈哈哈）\n",
    "\n",
    "def rvs(s):\n",
    "    if s == '':\n",
    "        return s  # 基例\n",
    "    else:\n",
    "        return rvs(s[1:]) + s[0]  # 鏈條  \n",
    "rvs('adcde')"
   ]
  },
  {
   "cell_type": "code",
   "execution_count": 3,
   "metadata": {},
   "outputs": [
    {
     "name": "stdout",
     "output_type": "stream",
     "text": [
      "15\n",
      "39\n"
     ]
    }
   ],
   "source": [
    "# 例3：累加\n",
    "def sum(list):\n",
    "    if len(list) == 1:\n",
    "        return list[0]\n",
    "    else:\n",
    "        return list[0] + sum(list[1:])\n",
    "\n",
    "print(sum([15]))\n",
    "print(sum([5,7,12,15]))"
   ]
  },
  {
   "cell_type": "code",
   "execution_count": 4,
   "metadata": {},
   "outputs": [
    {
     "name": "stdout",
     "output_type": "stream",
     "text": [
      "1\n",
      "1\n",
      "2\n",
      "3\n",
      "5\n",
      "8\n",
      "13\n",
      "21\n",
      "34\n",
      "55\n"
     ]
    }
   ],
   "source": [
    "# 例4：斐波那契數列(費氏數列)\n",
    "\n",
    "# 用 for計算\n",
    "def fibonacci_loop(n):\n",
    "    if n == 1 or n == 2:\n",
    "        return 1\n",
    "    else:\n",
    "        fib1 = 1\n",
    "        fib2 = 1\n",
    "        fib3 = 0\n",
    "        for i in range(2, n):\n",
    "            fib3 = fib1 + fib2\n",
    "            fib1 = fib2\n",
    "            fib2 = fib3\n",
    "        return fib3\n",
    "fibonacci_loop(3)\n",
    "\n",
    "# 用 遞迴計算\n",
    "def fibonacci(n):\n",
    "    if n == 0:\n",
    "        return 0\n",
    "    elif n == 1:\n",
    "        return 1\n",
    "    else:\n",
    "        return fibonacci(n-1) + fibonacci(n-2)\n",
    "fibonacci(3)\n",
    "    \n",
    "for i in range(1,(10+1)):\n",
    "   print(fibonacci(i))    "
   ]
  },
  {
   "cell_type": "code",
   "execution_count": 5,
   "metadata": {},
   "outputs": [
    {
     "name": "stdout",
     "output_type": "stream",
     "text": [
      "A --> C\n",
      "A --> B\n",
      "C --> B\n",
      "A --> C\n",
      "B --> A\n",
      "B --> C\n",
      "A --> C\n"
     ]
    }
   ],
   "source": [
    "# 例5：漢諾塔問題\n",
    "# 問題描述：\n",
    "# 將一摞從小到大堆放的圓盤從src(source)杆移動到dst(destination)杆\n",
    "# 可以利用mid(middle)杆，一次移動一個，小的在上面\n",
    "\n",
    "def hanoi(n, a, b, c):\n",
    "    if n == 1:\n",
    "        print(a, '-->', c)\n",
    "    else:\n",
    "        hanoi(n - 1, a, c, b)\n",
    "        hanoi(1    , a, b, c)\n",
    "        hanoi(n - 1, b, a, c)\n",
    "# 调用\n",
    "if __name__ == '__main__':\n",
    "    hanoi(3, 'A', 'B', 'C')  # n 圓盤數量；5 原杆；A 中間杆；B 目標杆；C"
   ]
  },
  {
   "cell_type": "code",
   "execution_count": 6,
   "metadata": {},
   "outputs": [
    {
     "data": {
      "text/plain": [
       "8"
      ]
     },
     "execution_count": 6,
     "metadata": {},
     "output_type": "execute_result"
    }
   ],
   "source": [
    "# 例6：最大公因數 GCD\n",
    "\n",
    "def gcd(m, n):\n",
    "    if n == 0:\n",
    "        return m\n",
    "    else:\n",
    "        return gcd(n, m%n)\n",
    "    \n",
    "gcd(8,24)"
   ]
  }
 ],
 "metadata": {
  "kernelspec": {
   "display_name": "Python 3",
   "language": "python",
   "name": "python3"
  },
  "language_info": {
   "codemirror_mode": {
    "name": "ipython",
    "version": 3
   },
   "file_extension": ".py",
   "mimetype": "text/x-python",
   "name": "python",
   "nbconvert_exporter": "python",
   "pygments_lexer": "ipython3",
   "version": "3.7.4"
  }
 },
 "nbformat": 4,
 "nbformat_minor": 2
}
