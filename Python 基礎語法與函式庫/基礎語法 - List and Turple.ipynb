{
 "cells": [
  {
   "cell_type": "markdown",
   "metadata": {},
   "source": [
    "# 主題：List(有序可變動的列表)\n",
    "## 4-1 List語法 \n",
    "現在有個異次元的櫃子，它有無限個格子且可以放任何東西，我們會用一個數字代表東西放在櫃子中的第幾層格子，這個數字就叫做 Index(索引)。\n",
    "\n",
    "a=list( ) 或 a=[ ]：建立一個名為a的空list\n",
    "\n",
    "len(a)：使用 len([list變數名稱]) 知道List有多長"
   ]
  },
  {
   "cell_type": "code",
   "execution_count": 1,
   "metadata": {},
   "outputs": [
    {
     "name": "stdout",
     "output_type": "stream",
     "text": [
      "['Han', 0.87, 1234, True]\n",
      "Han\n",
      "0.87\n",
      "1234\n",
      "True\n",
      "長度是 4\n",
      "\n",
      "Han 0.87 1234 True \n",
      "Han 0.87 1234 True \n"
     ]
    }
   ],
   "source": [
    "a=[\"Han\",0.87,1234,True] #a就是一個List，第0格放的是字串Han、第1格放的是浮點數0.87、第2格放的是整數1234、第3格放的是布林值True。\n",
    "print(a)\n",
    "print(a[0])  # a[索引]來取出變數\n",
    "print(a[1])\n",
    "print(a[2])\n",
    "print(a[3])\n",
    "# print(a[4]) # 由於a[4]並不存在，因此會出現IndexError的警示\n",
    "print(\"長度是\",len(a))\n",
    "print(end=\"\\n\")\n",
    "\n",
    "# List加上迴圈For Loop \n",
    "a=[\"Han\",0.87,1234,True]\n",
    "for i in range(0,len(a)): \n",
    "    print(a[i],end=\" \")\n",
    "print(end=\"\\n\")\n",
    "    \n",
    "# [簡潔版]    \n",
    "a=[\"Han\",0.87,1234,True]\n",
    "for i in a: \n",
    "    print(i,end=\" \")\n",
    "print(end=\"\\n\")"
   ]
  },
  {
   "cell_type": "code",
   "execution_count": 2,
   "metadata": {},
   "outputs": [
    {
     "name": "stdout",
     "output_type": "stream",
     "text": [
      "[[1, 2, 3], [9, 8, 7]]\n",
      "3\n",
      "[11, 22, 33, 3]\n"
     ]
    }
   ],
   "source": [
    "# 巢狀列表\n",
    "data=[[1,2,3],[9,8,7]]\n",
    "print(data)\n",
    "\n",
    "print(data[0][2])   # a[索引][索引]來取出變數\n",
    "\n",
    "data[0][0:2]=[11,22,33] # 修改巢狀列表\n",
    "print(data[0])"
   ]
  },
  {
   "cell_type": "markdown",
   "metadata": {},
   "source": [
    "## 4-2 動態增加元素\n",
    "* a.append(x)：把變數x塞到list的最後面\n",
    "* a.insert(i, x)：把變數x塞到i這個位置上\n",
    "* a.pop()：把list的最後一格丟掉\n",
    "* a.pop(i)：把list的第i格丟掉\n",
    "* a.remove(x)：會把第一個出現的變數x拿掉\n",
    "* a.clear()：把list內的資料全部清光光"
   ]
  },
  {
   "cell_type": "code",
   "execution_count": 3,
   "metadata": {},
   "outputs": [
    {
     "name": "stdout",
     "output_type": "stream",
     "text": [
      "['歌手1', '歌手2', '休息', '歌手3', '休息', '歌手4', '壓軸']\n",
      "['歌手1', '歌手2', '休息', '歌手3', '休息', '歌手4', '歌手5', '壓軸']\n",
      "['歌手1', '歌手2', '休息', '歌手3', '休息', '歌手4', '歌手5']\n",
      "['歌手1', '歌手2', '休息', '歌手3', '休息', '歌手5']\n",
      "['歌手1', '歌手2', '歌手3', '休息', '歌手5']\n",
      "['歌手1', '歌手2', '歌手3', '歌手5']\n",
      "[]\n"
     ]
    }
   ],
   "source": [
    "singers=[\"歌手1\",\"歌手2\",\"休息\",\"歌手3\",\"休息\",\"歌手4\"]\n",
    "singers.append(\"壓軸\") # 把字串\"壓軸\"新增到list的最後面\n",
    "print(singers)\n",
    "singers.insert(6,\"歌手5\") # 把字串\"歌手5\"塞到6這個位置上\n",
    "print(singers)\n",
    "singers.pop() # 把list的最後一格丟掉\n",
    "print(singers)\n",
    "singers.pop(5) # 把list的第5格丟掉\n",
    "print(singers)\n",
    "singers.remove(\"休息\") # 把第一次休息刪掉\n",
    "print(singers)\n",
    "singers.remove(\"休息\") # 把第二次休息刪掉\n",
    "print(singers)\n",
    "singers.clear() #把list內的資料全部清光光\n",
    "print(singers)"
   ]
  },
  {
   "cell_type": "code",
   "execution_count": 4,
   "metadata": {},
   "outputs": [
    {
     "name": "stdout",
     "output_type": "stream",
     "text": [
      "['Han', 0.87, 1234, True]\n",
      "['Han', True]\n",
      "['Han', True, 12, 36, 'dfg']\n",
      "\n"
     ]
    }
   ],
   "source": [
    "a=[\"Han\",0.87,1234,True]\n",
    "print(a)\n",
    "\n",
    "a[1:3]=[] # 刪除第一二格\n",
    "print(a)\n",
    "\n",
    "b=[12,36,\"dfg\"]\n",
    "print(a+b) # 合併列表\n",
    "print(end=\"\\n\")"
   ]
  },
  {
   "cell_type": "markdown",
   "metadata": {},
   "source": [
    "## 4-3 與常見函數的結合\n",
    "* max(a)：找出list中最大值\n",
    "* min(a)：找出list中最小值\n",
    "* sum(a)：找出list數字總和"
   ]
  },
  {
   "cell_type": "code",
   "execution_count": 5,
   "metadata": {},
   "outputs": [
    {
     "name": "stdout",
     "output_type": "stream",
     "text": [
      "最大值是 1316\n",
      "最小值是 84\n",
      "總和是 2008\n"
     ]
    }
   ],
   "source": [
    "num=[121,487,84,1316]\n",
    "print(\"最大值是\",max(num))\n",
    "print(\"最小值是\",min(num))\n",
    "print(\"總和是\",sum(num))"
   ]
  },
  {
   "cell_type": "code",
   "execution_count": 6,
   "metadata": {},
   "outputs": [
    {
     "name": "stdout",
     "output_type": "stream",
     "text": [
      "五次成績是 [10, 30, 50, 70, 90]\n",
      "五次平均成績是 50.0\n",
      "五次新成績是 [31.622776601683796, 54.772255750516614, 70.71067811865476, 83.66600265340756, 94.86832980505139]\n",
      "五次新平均成績是 67.12800858586283\n",
      "\n",
      "五次成績是 10 30 50 70 90 \n",
      "五次平均成績是 50.0\n",
      "五次新成績是 31.622776601683796 54.772255750516614 70.71067811865476 83.66600265340756 94.86832980505139 \n",
      "五次新平均成績是 67.12800858586283\n"
     ]
    }
   ],
   "source": [
    "#小練習\n",
    "\n",
    "#五次數學段考的成績分別為10、30、50、70、90分，算出平均後，老師發現大家考太爛、只好將成績開根號再乘上10 (提示:成績**0.5*10)，再算出一個新平均。\n",
    "#請印出: 1. 五次成績; 2. 平均成績; 3. 五次新成績; 4. 新分數的平均。\n",
    "\n",
    "z=[10,30,50,70,90]\n",
    "print(\"五次成績是\",z)\n",
    "print(\"五次平均成績是\",sum(z)/len(z))\n",
    "\n",
    "for x in range(0,len(z)):\n",
    "    z[x]=z[x]**0.5*10\n",
    "print(\"五次新成績是\",z)\n",
    "print(\"五次新平均成績是\",sum(z)/len(z))\n",
    "\n",
    "print(end=\"\\n\")\n",
    "\n",
    "# 標準答案\n",
    "math=[10,30,50,70,90]\n",
    "print(\"五次成績是\",end=\" \")\n",
    "for grade in math:\n",
    "    print(grade,end=\" \")\n",
    "print(end=\"\\n\")\n",
    "average = sum(math)/len(math)\n",
    "print(\"五次平均成績是\",average)\n",
    "\n",
    "print(\"五次新成績是\",end=\" \")\n",
    "for grade in range(0,len(math)):\n",
    "    math[grade]= math[grade]**0.5*10\n",
    "    print(math[grade],end=\" \")\n",
    "print(end=\"\\n\")\n",
    "average = sum(math)/len(math)\n",
    "print(\"五次新平均成績是\",average)"
   ]
  },
  {
   "cell_type": "markdown",
   "metadata": {},
   "source": [
    "## 4-4 List的切片(Slice)的功能\n",
    "* a[start: end]：( start的預設為0 ; end的預設為len(list) )\n",
    "* a[ :end]：代表 0~end-1\n",
    "* a[start: ]：代表start~len(list)-1\n",
    "* a[ : ]：代表0~len(list)-1"
   ]
  },
  {
   "cell_type": "code",
   "execution_count": 7,
   "metadata": {},
   "outputs": [
    {
     "name": "stdout",
     "output_type": "stream",
     "text": [
      "['鳴人', '大雄']\n",
      "['魯夫', '小傑', '鳴人']\n",
      "['鳴人', '大雄', '兩津', '花媽']\n",
      "['魯夫', '小傑', '鳴人', '大雄', '兩津', '花媽']\n"
     ]
    }
   ],
   "source": [
    "tv =[\"魯夫\",\"小傑\",\"鳴人\",\"大雄\",\"兩津\",\"花媽\"]\n",
    "print(tv[2:4]) # list[start: end] 代表 start~end-1\n",
    "print(tv[ :3]) # liest[ :end] 代表 0~end-1\n",
    "print(tv[2: ]) # list[start: ] 代表start~len(list)-1\n",
    "print(tv[ : ]) # list[ : ] 代表0~len(list)-1"
   ]
  },
  {
   "cell_type": "code",
   "execution_count": 8,
   "metadata": {},
   "outputs": [
    {
     "name": "stdout",
     "output_type": "stream",
     "text": [
      "數字是 1\n",
      "數字是 2\n",
      "數字是 3\n",
      "數字是 4\n",
      "數字是 5\n",
      "數字是 6\n",
      "數字是 7\n",
      "數字是 8\n",
      "數字是 9\n",
      "數字是 10\n",
      "[1, 2, 3, 4, 5, 6, 7, 8, 9, 10]\n",
      "\n",
      "開始的位置是 1\n",
      "結束的位置是 5\n",
      "總合是 14\n",
      "\n",
      "開始的位置是 2\n",
      "結束的位置是 9\n",
      "總合是 42\n",
      "\n",
      "開始的位置是 3\n",
      "結束的位置是 6\n",
      "總合是 15\n",
      "\n",
      "開始的位置是 1\n",
      "結束的位置是 9\n",
      "總合是 44\n",
      "\n",
      "開始的位置是 8\n",
      "結束的位置是 10\n",
      "總合是 19\n",
      "\n"
     ]
    }
   ],
   "source": [
    "# 小練習\n",
    "\n",
    "# 來辦場Party吧!輸入十個整數、存入一個名為people清單中(表示我們的宴客人數)；\n",
    "# 之後會有五次詢問，每次會輸入清單開始和結束的位置，再輸出從開始到結束位置的總和。\n",
    "\n",
    "# 錯誤版本\n",
    "# for people in range(0,10):\n",
    "#    int(input(\"數字是 \"))\n",
    "# print(people)\n",
    "\n",
    "# for ask in range(0,5):\n",
    "#    a=int(input(\"開始的位置是 \"))\n",
    "#    s=int(input(\"結束的位置是 \"))\n",
    "#    print(\"總合是\",sum(people[a:s]))\n",
    "\n",
    "# 標準答案\n",
    "people=[]\n",
    "for i in range(0,10):\n",
    "    i=int(input(\"數字是 \"))\n",
    "    people.append(i)\n",
    "print(people)\n",
    "print(end=\"\\n\")\n",
    "\n",
    "for que in range(0,5):\n",
    "    a=int(input(\"開始的位置是 \"))\n",
    "    s=int(input(\"結束的位置是 \"))\n",
    "    print(\"總合是\",sum(people[a:s]))\n",
    "    print(end=\"\\n\")"
   ]
  },
  {
   "cell_type": "markdown",
   "metadata": {},
   "source": [
    "# 主題：enumerate( )函數\n",
    "用法:用於將一個可遍歷的數據對象(如列表、元組或字符串)組合為一個索引序列，同時列出數據和數據下標，一般用在for迴圈當中。"
   ]
  },
  {
   "cell_type": "code",
   "execution_count": 9,
   "metadata": {},
   "outputs": [
    {
     "name": "stdout",
     "output_type": "stream",
     "text": [
      "0  one \n",
      "1  two \n",
      "2  three \n",
      "\n",
      "0  one \n",
      "1  two \n",
      "2  three \n",
      "\n",
      "[(0, ' Spring '), (1, ' Summer '), (2, ' Fall '), (3, ' Winter ')]\n",
      "[(1, ' Spring '), (2, ' Summer '), (3, ' Fall '), (4, ' Winter ')]\n",
      "\n",
      "1 12\n",
      "2 34\n",
      "3 34\n",
      "4 23\n",
      "5 45\n",
      "6 76\n",
      "7 89\n"
     ]
    }
   ],
   "source": [
    "# 語法:\n",
    "# enumerate(sequence, [start=0])\n",
    "# sequence - 一個序列、迭代器或其他支持迭代對象。\n",
    "# start - 下標起始位置。\n",
    "\n",
    "# 範例 1\n",
    "# 使用普通的for迴圈加入索引序列\n",
    "i = 0 \n",
    "seq = [ ' one ' , ' two ' , ' three ' ] \n",
    "for element in seq :    \n",
    "    print ( i , seq [ i ] ) \n",
    "    i += 1 \n",
    "print(end=\"\\n\")\n",
    "\n",
    "# 在for循環內使用enumerate加入索引序列\n",
    "seq = [ ' one ' , ' two ' , ' three ' ] \n",
    "for i , element in enumerate(seq):    \n",
    "    print (i,seq[i]) \n",
    "print(end=\"\\n\")\n",
    "    \n",
    "# 範例 2\n",
    "seasons = [ ' Spring ' , ' Summer ' , ' Fall ' , ' Winter ' ] \n",
    "print(list(enumerate(seasons)))\n",
    "print(list(enumerate(seasons,start=1))) #標籤從1開始數\n",
    "print(end=\"\\n\")\n",
    "\n",
    "# 範例 3\n",
    "sequence = [12, 34, 34, 23, 45, 76, 89]\n",
    "for i, j in enumerate(sequence,start=1):\n",
    "    print(i, j)"
   ]
  },
  {
   "cell_type": "markdown",
   "metadata": {},
   "source": [
    "# 主題：Tuple(有序不可變動的列表)\n",
    "\n",
    "基本上 $Tuple$ 與 $List$ 操作相同，唯一不同在於 $Tuple$ 無法變動"
   ]
  },
  {
   "cell_type": "code",
   "execution_count": 10,
   "metadata": {},
   "outputs": [
    {
     "name": "stdout",
     "output_type": "stream",
     "text": [
      "(1, 2, 3, 4, 5)\n"
     ]
    }
   ],
   "source": [
    "data=(1,2,3,4,5) # list為中括號[ ] ; Tuple為小括號( )\n",
    "print(data)\n",
    "# data[0]=5  # 會顯示錯誤,因為turple不可變動"
   ]
  }
 ],
 "metadata": {
  "kernelspec": {
   "display_name": "Python 3",
   "language": "python",
   "name": "python3"
  },
  "language_info": {
   "codemirror_mode": {
    "name": "ipython",
    "version": 3
   },
   "file_extension": ".py",
   "mimetype": "text/x-python",
   "name": "python",
   "nbconvert_exporter": "python",
   "pygments_lexer": "ipython3",
   "version": "3.7.4"
  }
 },
 "nbformat": 4,
 "nbformat_minor": 2
}
