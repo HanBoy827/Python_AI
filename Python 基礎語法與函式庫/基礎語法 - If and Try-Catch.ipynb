{
 "cells": [
  {
   "cell_type": "markdown",
   "metadata": {},
   "source": [
    "# 主題：if statement(條件分支) \n",
    "用法：讓程式自動檢查所處理的資料內容，而且根據資料內容來決定是否執行某一個敘述或指令\n",
    "\n",
    "比較運算符 : <(小於)、=(等於)、>(大於)、<=(小於或等於)、>=(大於或等於)、==(等於)、!=(不等於)\n",
    "\n",
    "邏輯運算符 : and(左右同時成立)、or(其中一個成立)、not(反向布林值)"
   ]
  },
  {
   "cell_type": "markdown",
   "metadata": {},
   "source": [
    "## 2-1 單行語法 \n",
    "用法：如果if的條件被滿足,則做A指令;否則做B指令\n"
   ]
  },
  {
   "cell_type": "code",
   "execution_count": 1,
   "metadata": {},
   "outputs": [
    {
     "name": "stdout",
     "output_type": "stream",
     "text": [
      "70\n",
      "分數等於或超過60\n"
     ]
    }
   ],
   "source": [
    "# 單行語法：A指令 if 條件式 else B指令\n",
    "\n",
    "# 例題一：假設num>60 輸出 \"num超過60\" 否則輸出 \"未達標\"\n",
    "num = int(input());\n",
    "print(\"分數等於或超過60\") if num>=60 else print(\"未達標\")"
   ]
  },
  {
   "cell_type": "markdown",
   "metadata": {},
   "source": [
    "## 2-2 基礎語法\n",
    "用法：如果if的A條件被滿足,則做A指令 ; 如果if的B條件被滿足，則做B指令 ; 否則做C指令"
   ]
  },
  {
   "cell_type": "code",
   "execution_count": 2,
   "metadata": {},
   "outputs": [
    {
     "name": "stdout",
     "output_type": "stream",
     "text": [
      "高的\n",
      "\n",
      "過輕\n"
     ]
    }
   ],
   "source": [
    "# 基礎語法 2-2\n",
    "# if A條件: (有些語言用括號，python用冒號)\n",
    "# 　 A指令\n",
    "# elif B條件:  (elif 與 else不一定要打)\n",
    "#    B指令\n",
    "# else:        (else後面不能放條件)\n",
    "# 　 C指令\n",
    "\n",
    "# 例題二\n",
    "height=190\n",
    "if height > 180:\n",
    "    print(\"高的\")\n",
    "else:  \n",
    "    print(\"矮的\")\n",
    "print(end=\"\\n\")    \n",
    "\n",
    "# 例題三\n",
    "weight=20\n",
    "if weight > 70:\n",
    "    print(\"過重\")\n",
    "elif 70 >= weight >50: # 一個if語句中可以包含多個elif語句，但結尾只能有一個else語句\n",
    "    print(\"稍重\")\n",
    "elif 50 >= weight >30:\n",
    "    print(\"適中\")\n",
    "else:                 #  else、elif為子塊，不能獨立使用\n",
    "    print(\"過輕\")"
   ]
  },
  {
   "cell_type": "code",
   "execution_count": 3,
   "metadata": {},
   "outputs": [
    {
     "name": "stdout",
     "output_type": "stream",
     "text": [
      "False 執行\n",
      "不是Samsung就好或電池飽飽\n"
     ]
    }
   ],
   "source": [
    "# 例題四\n",
    "if False:\n",
    "    print(\"True 執行\")\n",
    "else:\n",
    "    print(\"False 執行\")\n",
    "    \n",
    "# 例題五\n",
    "phone = \"iphone\"\n",
    "battery=15\n",
    "if phone == \"Samsung\" and battery < 10 : # 邏輯判斷的等於要用== ; ==是等於\n",
    "    print(\"要爆炸了\")\n",
    "elif phone != \"Samsung\" and battery <= 10 : # !=是不等於 ; and是且\n",
    "    print(\"不是Samsung就好，記得充電\")\n",
    "elif not phone == \"Samsung\" or battery > 90 : # or是或 ; not是非\n",
    "     print(\"不是Samsung就好或電池飽飽\")\n",
    "else:\n",
    "    print(\"介於爆炸和安全之間\")"
   ]
  },
  {
   "cell_type": "code",
   "execution_count": 4,
   "metadata": {},
   "outputs": [
    {
     "name": "stdout",
     "output_type": "stream",
     "text": [
      "符號運算是 #\n",
      "整數1是 1\n",
      "整數2是 2\n",
      "錯誤\n"
     ]
    }
   ],
   "source": [
    "#小練習\n",
    "\n",
    "# 寫一支Python整數機，第一步讓使用者輸入想要做的符號運算，比如「+, -, *, /」，\n",
    "# 第二步讓使用者輸入’整數1’和 ‘整數2’，最後讓這兩個整數進行運算。\n",
    "# 如果輸入的運算符號不是「+, -, *, /」，便輸出「錯誤」。\n",
    "\n",
    "# 錯誤版\n",
    "# z = input(\"符號運算是 \")\n",
    "# x = int(input(\"整數1是 \"))\n",
    "# c = int(input(\"整數2是 \"))\n",
    "# if z==\"+\" or z==\"-\" or z==\"*\" or z==\"/\":\n",
    "#    print(xzc)\n",
    "# else:\n",
    "#    print(\"錯誤\")\n",
    "    \n",
    "# 正確版\n",
    "z = input(\"符號運算是 \")\n",
    "x = int(input(\"整數1是 \"))\n",
    "c = int(input(\"整數2是 \"))\n",
    "if z==\"+\":\n",
    "    print(x+c)\n",
    "elif z==\"-\":\n",
    "    print(x-c)\n",
    "elif z==\"*\":\n",
    "    print(x*c)\n",
    "elif z==\"/\":\n",
    "    print(x/c)\n",
    "else:\n",
    "    print(\"錯誤\")"
   ]
  },
  {
   "cell_type": "code",
   "execution_count": null,
   "metadata": {},
   "outputs": [],
   "source": []
  },
  {
   "cell_type": "markdown",
   "metadata": {},
   "source": [
    "# 主題：Try - catch\n",
    "## 2-1 基本語法\n",
    "* try：需要被監控是否會出錯的程式區塊\n",
    "* except：出了哪種錯誤，要有怎樣相對應的處理"
   ]
  },
  {
   "cell_type": "code",
   "execution_count": 5,
   "metadata": {},
   "outputs": [
    {
     "name": "stdout",
     "output_type": "stream",
     "text": [
      "#1 請輸入數字: 1\n",
      "#1 你剛才輸入的是: 1\n",
      "#2 變數未宣告的錯誤！\n",
      "#3 1不能除以零，誰都不行！\n",
      "Unexpected error: <class 'ZeroDivisionError'>\n"
     ]
    }
   ],
   "source": [
    "# try:\n",
    "#     你要執行的程式\n",
    "# except <錯誤類型>:\n",
    "#     發生錯誤時要執行的程式\n",
    "\n",
    "# 範例一(直接將輸入值轉換成數字，所以輸入的不是數字就會引發錯誤！)\n",
    "while True:\n",
    "    try:\n",
    "        x = int(input(\"#1 請輸入數字: \"))\n",
    "        print(\"#1 你剛才輸入的是:\", x)\n",
    "        break    # 跳出迴圈\n",
    "    except ValueError:   # 數值錯誤\n",
    "        print(\"#1 糟糕！你輸入的不是數字，請你再輸入一次！...\")\n",
    "\n",
    "# 範例二(故意用了沒宣告過的變數『magic_number』)\n",
    "try:\n",
    "    print(\"#2 兩數相乘: {0}\", x * magic_number)\n",
    "except NameError:   # 變數未宣告的錯誤\n",
    "    print(\"#2 變數未宣告的錯誤！\")        \n",
    "        \n",
    "# 範例三(故意除以零)        \n",
    "try:\n",
    "    print(\"#3 {0}除以零！\".format(x/0))\n",
    "except ZeroDivisionError:   # 數值除以零的錯誤\n",
    "    print(\"#3 {0}不能除以零，誰都不行！\".format(x))\n",
    "    \n",
    "# 範例四(取出except的錯誤訊息)\n",
    "import sys\n",
    "try:\n",
    "    mm = 9 / 0\n",
    "except:\n",
    "    print(\"Unexpected error:\", sys.exc_info()[0])  # sys.exc_info()[0] 就是用來取出except的錯誤訊息的方法"
   ]
  },
  {
   "cell_type": "markdown",
   "metadata": {},
   "source": [
    "## 2-2 加入其他條件\n",
    "* else：都沒錯誤，就會執行此區塊的程式\n",
    "* finally：不論如何都會執行此區塊的程式"
   ]
  },
  {
   "cell_type": "code",
   "execution_count": 6,
   "metadata": {},
   "outputs": [
    {
     "name": "stdout",
     "output_type": "stream",
     "text": [
      "不能除以零！\n",
      "不論如何都會執行finally\n",
      "相除結果是: 2.0\n",
      "不論如何都會執行finally\n",
      "\n",
      "請輸入數值。\n",
      "3.0\n"
     ]
    }
   ],
   "source": [
    "# 範例五\n",
    "def divide(x, y):\n",
    "    try:\n",
    "        result = x / y\n",
    "    except ZeroDivisionError:\n",
    "        print(\"不能除以零！\")\n",
    "    else:\n",
    "        print(\"相除結果是:\", result)\n",
    "    finally:\n",
    "        print(\"不論如何都會執行finally\")\n",
    "divide(2, 0)\n",
    "divide(2, 1)\n",
    "print(end=\"\\n\")\n",
    "\n",
    "# 範例六\n",
    "def divide(x, y):\n",
    "    try:\n",
    "        return x / y\n",
    "    except TypeError:\n",
    "        return \"請輸入數值。\"\n",
    "    except ZeroDivisionError:\n",
    "        return \"除數不可以為零。\"\n",
    "    except:\n",
    "        return \"其他的錯誤。\"\n",
    "print(divide(\"9\", 3))\n",
    "print(divide(9, 3))"
   ]
  },
  {
   "cell_type": "code",
   "execution_count": 7,
   "metadata": {},
   "outputs": [
    {
     "name": "stdout",
     "output_type": "stream",
     "text": [
      "輸入資料:12\n",
      "輸入資料:asd\n",
      "輸入資料:zc1\n",
      "輸入資料:SD\n",
      "輸入資料:99\n",
      "[12, 'asd', 'zc1', 'SD', 99]\n"
     ]
    }
   ],
   "source": [
    "# 小練習\n",
    "\n",
    "# 輸入五個值，若輸入的值為數字則將值變成整數型態\n",
    "z = []\n",
    "for x in range(0,5):\n",
    "    a = input(\"輸入資料:\")\n",
    "    try:\n",
    "        int(a) == int\n",
    "        a = int(a)\n",
    "        z.append(a)\n",
    "    except:\n",
    "        z.append(a)\n",
    "print(z)"
   ]
  }
 ],
 "metadata": {
  "kernelspec": {
   "display_name": "Python 3",
   "language": "python",
   "name": "python3"
  },
  "language_info": {
   "codemirror_mode": {
    "name": "ipython",
    "version": 3
   },
   "file_extension": ".py",
   "mimetype": "text/x-python",
   "name": "python",
   "nbconvert_exporter": "python",
   "pygments_lexer": "ipython3",
   "version": "3.7.4"
  }
 },
 "nbformat": 4,
 "nbformat_minor": 2
}
